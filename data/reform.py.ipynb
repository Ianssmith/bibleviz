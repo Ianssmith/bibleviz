{
 "cells": [
  {
   "cell_type": "code",
   "execution_count": 456,
   "metadata": {
    "collapsed": true,
    "deletable": true,
    "editable": true
   },
   "outputs": [],
   "source": [
    "import numpy as np\n",
    "import pandas as pd\n",
    "import matplotlib.pyplot as plt\n",
    "import seaborn as sns\n",
    "import nltk\n",
    "import re\n",
    "import math"
   ]
  },
  {
   "cell_type": "code",
   "execution_count": 457,
   "metadata": {
    "collapsed": true,
    "deletable": true,
    "editable": true
   },
   "outputs": [],
   "source": [
    "%matplotlib inline"
   ]
  },
  {
   "cell_type": "markdown",
   "metadata": {
    "deletable": true,
    "editable": true
   },
   "source": [
    "### Import data"
   ]
  },
  {
   "cell_type": "code",
   "execution_count": 458,
   "metadata": {
    "collapsed": true,
    "deletable": true,
    "editable": true
   },
   "outputs": [],
   "source": [
    "#tweb = pd.read_csv('t_web.csv')\n",
    "tweb = pd.read_csv('t_kjv.csv')\n",
    "key = pd.read_csv('key_english.csv')\n",
    "keygenre = pd.read_csv('key_genre_english.csv')\n"
   ]
  },
  {
   "cell_type": "code",
   "execution_count": 459,
   "metadata": {
    "collapsed": false,
    "deletable": true,
    "editable": true
   },
   "outputs": [
    {
     "data": {
      "text/plain": [
       "str"
      ]
     },
     "execution_count": 459,
     "metadata": {},
     "output_type": "execute_result"
    }
   ],
   "source": [
    "type(tweb['field.4'][3])"
   ]
  },
  {
   "cell_type": "code",
   "execution_count": 460,
   "metadata": {
    "collapsed": false,
    "deletable": true,
    "editable": true
   },
   "outputs": [
    {
     "data": {
      "text/html": [
       "<div>\n",
       "<table border=\"1\" class=\"dataframe\">\n",
       "  <thead>\n",
       "    <tr style=\"text-align: right;\">\n",
       "      <th></th>\n",
       "      <th>field</th>\n",
       "      <th>field.1</th>\n",
       "      <th>field.2</th>\n",
       "      <th>field.3</th>\n",
       "    </tr>\n",
       "  </thead>\n",
       "  <tbody>\n",
       "    <tr>\n",
       "      <th>0</th>\n",
       "      <td>1</td>\n",
       "      <td>Genesis</td>\n",
       "      <td>OT</td>\n",
       "      <td>1</td>\n",
       "    </tr>\n",
       "    <tr>\n",
       "      <th>1</th>\n",
       "      <td>2</td>\n",
       "      <td>Exodus</td>\n",
       "      <td>OT</td>\n",
       "      <td>1</td>\n",
       "    </tr>\n",
       "    <tr>\n",
       "      <th>2</th>\n",
       "      <td>3</td>\n",
       "      <td>Leviticus</td>\n",
       "      <td>OT</td>\n",
       "      <td>1</td>\n",
       "    </tr>\n",
       "    <tr>\n",
       "      <th>3</th>\n",
       "      <td>4</td>\n",
       "      <td>Numbers</td>\n",
       "      <td>OT</td>\n",
       "      <td>1</td>\n",
       "    </tr>\n",
       "    <tr>\n",
       "      <th>4</th>\n",
       "      <td>5</td>\n",
       "      <td>Deuteronomy</td>\n",
       "      <td>OT</td>\n",
       "      <td>1</td>\n",
       "    </tr>\n",
       "  </tbody>\n",
       "</table>\n",
       "</div>"
      ],
      "text/plain": [
       "   field      field.1 field.2  field.3\n",
       "0      1      Genesis      OT        1\n",
       "1      2       Exodus      OT        1\n",
       "2      3    Leviticus      OT        1\n",
       "3      4      Numbers      OT        1\n",
       "4      5  Deuteronomy      OT        1"
      ]
     },
     "execution_count": 460,
     "metadata": {},
     "output_type": "execute_result"
    }
   ],
   "source": [
    "key.head()"
   ]
  },
  {
   "cell_type": "code",
   "execution_count": 461,
   "metadata": {
    "collapsed": true,
    "deletable": true,
    "editable": true
   },
   "outputs": [],
   "source": [
    "key.columns = [\"id\",\"bookname\",\"testament\",\"genrenum\"]"
   ]
  },
  {
   "cell_type": "code",
   "execution_count": 462,
   "metadata": {
    "collapsed": true
   },
   "outputs": [],
   "source": [
    "def padbooks(d):\n",
    "    if d <= 9:\n",
    "        return '{:>02d}'.format(d)\n",
    "    else:\n",
    "        return '{:<02d}'.format(d)"
   ]
  },
  {
   "cell_type": "code",
   "execution_count": 463,
   "metadata": {
    "collapsed": false
   },
   "outputs": [
    {
     "data": {
      "text/html": [
       "<div>\n",
       "<table border=\"1\" class=\"dataframe\">\n",
       "  <thead>\n",
       "    <tr style=\"text-align: right;\">\n",
       "      <th></th>\n",
       "      <th>id</th>\n",
       "      <th>bookname</th>\n",
       "      <th>testament</th>\n",
       "      <th>genrenum</th>\n",
       "      <th>bookpad</th>\n",
       "    </tr>\n",
       "  </thead>\n",
       "  <tbody>\n",
       "    <tr>\n",
       "      <th>0</th>\n",
       "      <td>1</td>\n",
       "      <td>Genesis</td>\n",
       "      <td>OT</td>\n",
       "      <td>1</td>\n",
       "      <td>01</td>\n",
       "    </tr>\n",
       "    <tr>\n",
       "      <th>1</th>\n",
       "      <td>2</td>\n",
       "      <td>Exodus</td>\n",
       "      <td>OT</td>\n",
       "      <td>1</td>\n",
       "      <td>02</td>\n",
       "    </tr>\n",
       "    <tr>\n",
       "      <th>2</th>\n",
       "      <td>3</td>\n",
       "      <td>Leviticus</td>\n",
       "      <td>OT</td>\n",
       "      <td>1</td>\n",
       "      <td>03</td>\n",
       "    </tr>\n",
       "    <tr>\n",
       "      <th>3</th>\n",
       "      <td>4</td>\n",
       "      <td>Numbers</td>\n",
       "      <td>OT</td>\n",
       "      <td>1</td>\n",
       "      <td>04</td>\n",
       "    </tr>\n",
       "    <tr>\n",
       "      <th>4</th>\n",
       "      <td>5</td>\n",
       "      <td>Deuteronomy</td>\n",
       "      <td>OT</td>\n",
       "      <td>1</td>\n",
       "      <td>05</td>\n",
       "    </tr>\n",
       "    <tr>\n",
       "      <th>5</th>\n",
       "      <td>6</td>\n",
       "      <td>Joshua</td>\n",
       "      <td>OT</td>\n",
       "      <td>2</td>\n",
       "      <td>06</td>\n",
       "    </tr>\n",
       "    <tr>\n",
       "      <th>6</th>\n",
       "      <td>7</td>\n",
       "      <td>Judges</td>\n",
       "      <td>OT</td>\n",
       "      <td>2</td>\n",
       "      <td>07</td>\n",
       "    </tr>\n",
       "    <tr>\n",
       "      <th>7</th>\n",
       "      <td>8</td>\n",
       "      <td>Ruth</td>\n",
       "      <td>OT</td>\n",
       "      <td>2</td>\n",
       "      <td>08</td>\n",
       "    </tr>\n",
       "    <tr>\n",
       "      <th>8</th>\n",
       "      <td>9</td>\n",
       "      <td>1 Samuel</td>\n",
       "      <td>OT</td>\n",
       "      <td>2</td>\n",
       "      <td>09</td>\n",
       "    </tr>\n",
       "    <tr>\n",
       "      <th>9</th>\n",
       "      <td>10</td>\n",
       "      <td>2 Samuel</td>\n",
       "      <td>OT</td>\n",
       "      <td>2</td>\n",
       "      <td>10</td>\n",
       "    </tr>\n",
       "    <tr>\n",
       "      <th>10</th>\n",
       "      <td>11</td>\n",
       "      <td>1 Kings</td>\n",
       "      <td>OT</td>\n",
       "      <td>2</td>\n",
       "      <td>11</td>\n",
       "    </tr>\n",
       "    <tr>\n",
       "      <th>11</th>\n",
       "      <td>12</td>\n",
       "      <td>2 Kings</td>\n",
       "      <td>OT</td>\n",
       "      <td>2</td>\n",
       "      <td>12</td>\n",
       "    </tr>\n",
       "  </tbody>\n",
       "</table>\n",
       "</div>"
      ],
      "text/plain": [
       "    id     bookname testament  genrenum bookpad\n",
       "0    1      Genesis        OT         1      01\n",
       "1    2       Exodus        OT         1      02\n",
       "2    3    Leviticus        OT         1      03\n",
       "3    4      Numbers        OT         1      04\n",
       "4    5  Deuteronomy        OT         1      05\n",
       "5    6       Joshua        OT         2      06\n",
       "6    7       Judges        OT         2      07\n",
       "7    8         Ruth        OT         2      08\n",
       "8    9     1 Samuel        OT         2      09\n",
       "9   10     2 Samuel        OT         2      10\n",
       "10  11      1 Kings        OT         2      11\n",
       "11  12      2 Kings        OT         2      12"
      ]
     },
     "execution_count": 463,
     "metadata": {},
     "output_type": "execute_result"
    }
   ],
   "source": [
    "key['bookpad'] = key['id'].apply(padbooks)\n",
    "key.head(12)"
   ]
  },
  {
   "cell_type": "code",
   "execution_count": 464,
   "metadata": {
    "collapsed": false,
    "deletable": true,
    "editable": true
   },
   "outputs": [
    {
     "data": {
      "text/html": [
       "<div>\n",
       "<table border=\"1\" class=\"dataframe\">\n",
       "  <thead>\n",
       "    <tr style=\"text-align: right;\">\n",
       "      <th></th>\n",
       "      <th>field</th>\n",
       "      <th>field.1</th>\n",
       "      <th>field.2</th>\n",
       "      <th>field.3</th>\n",
       "      <th>field.4</th>\n",
       "    </tr>\n",
       "  </thead>\n",
       "  <tbody>\n",
       "    <tr>\n",
       "      <th>0</th>\n",
       "      <td>1001001</td>\n",
       "      <td>1</td>\n",
       "      <td>1</td>\n",
       "      <td>1</td>\n",
       "      <td>In the beginning God created the heaven and th...</td>\n",
       "    </tr>\n",
       "    <tr>\n",
       "      <th>1</th>\n",
       "      <td>1001002</td>\n",
       "      <td>1</td>\n",
       "      <td>1</td>\n",
       "      <td>2</td>\n",
       "      <td>And the earth was without form, and void; and ...</td>\n",
       "    </tr>\n",
       "    <tr>\n",
       "      <th>2</th>\n",
       "      <td>1001003</td>\n",
       "      <td>1</td>\n",
       "      <td>1</td>\n",
       "      <td>3</td>\n",
       "      <td>And God said, Let there be light: and there wa...</td>\n",
       "    </tr>\n",
       "    <tr>\n",
       "      <th>3</th>\n",
       "      <td>1001004</td>\n",
       "      <td>1</td>\n",
       "      <td>1</td>\n",
       "      <td>4</td>\n",
       "      <td>And God saw the light, that it was good: and G...</td>\n",
       "    </tr>\n",
       "    <tr>\n",
       "      <th>4</th>\n",
       "      <td>1001005</td>\n",
       "      <td>1</td>\n",
       "      <td>1</td>\n",
       "      <td>5</td>\n",
       "      <td>And God called the light Day, and the darkness...</td>\n",
       "    </tr>\n",
       "  </tbody>\n",
       "</table>\n",
       "</div>"
      ],
      "text/plain": [
       "     field  field.1  field.2  field.3  \\\n",
       "0  1001001        1        1        1   \n",
       "1  1001002        1        1        2   \n",
       "2  1001003        1        1        3   \n",
       "3  1001004        1        1        4   \n",
       "4  1001005        1        1        5   \n",
       "\n",
       "                                             field.4  \n",
       "0  In the beginning God created the heaven and th...  \n",
       "1  And the earth was without form, and void; and ...  \n",
       "2  And God said, Let there be light: and there wa...  \n",
       "3  And God saw the light, that it was good: and G...  \n",
       "4  And God called the light Day, and the darkness...  "
      ]
     },
     "execution_count": 464,
     "metadata": {},
     "output_type": "execute_result"
    }
   ],
   "source": [
    "tweb.head()"
   ]
  },
  {
   "cell_type": "code",
   "execution_count": 465,
   "metadata": {
    "collapsed": true,
    "deletable": true,
    "editable": true
   },
   "outputs": [],
   "source": [
    "tweb.columns = [\"id\",\"booknum\",\"chnum\",\"versenum\",\"text\"]\n"
   ]
  },
  {
   "cell_type": "code",
   "execution_count": 466,
   "metadata": {
    "collapsed": false
   },
   "outputs": [],
   "source": [
    "tweb['id'] = tweb['id'].apply('{:>08d}'.format)"
   ]
  },
  {
   "cell_type": "code",
   "execution_count": 467,
   "metadata": {
    "collapsed": false
   },
   "outputs": [
    {
     "data": {
      "text/html": [
       "<div>\n",
       "<table border=\"1\" class=\"dataframe\">\n",
       "  <thead>\n",
       "    <tr style=\"text-align: right;\">\n",
       "      <th></th>\n",
       "      <th>id</th>\n",
       "      <th>booknum</th>\n",
       "      <th>chnum</th>\n",
       "      <th>versenum</th>\n",
       "      <th>text</th>\n",
       "    </tr>\n",
       "  </thead>\n",
       "  <tbody>\n",
       "    <tr>\n",
       "      <th>0</th>\n",
       "      <td>01001001</td>\n",
       "      <td>1</td>\n",
       "      <td>1</td>\n",
       "      <td>1</td>\n",
       "      <td>In the beginning God created the heaven and th...</td>\n",
       "    </tr>\n",
       "    <tr>\n",
       "      <th>1</th>\n",
       "      <td>01001002</td>\n",
       "      <td>1</td>\n",
       "      <td>1</td>\n",
       "      <td>2</td>\n",
       "      <td>And the earth was without form, and void; and ...</td>\n",
       "    </tr>\n",
       "    <tr>\n",
       "      <th>2</th>\n",
       "      <td>01001003</td>\n",
       "      <td>1</td>\n",
       "      <td>1</td>\n",
       "      <td>3</td>\n",
       "      <td>And God said, Let there be light: and there wa...</td>\n",
       "    </tr>\n",
       "    <tr>\n",
       "      <th>3</th>\n",
       "      <td>01001004</td>\n",
       "      <td>1</td>\n",
       "      <td>1</td>\n",
       "      <td>4</td>\n",
       "      <td>And God saw the light, that it was good: and G...</td>\n",
       "    </tr>\n",
       "    <tr>\n",
       "      <th>4</th>\n",
       "      <td>01001005</td>\n",
       "      <td>1</td>\n",
       "      <td>1</td>\n",
       "      <td>5</td>\n",
       "      <td>And God called the light Day, and the darkness...</td>\n",
       "    </tr>\n",
       "  </tbody>\n",
       "</table>\n",
       "</div>"
      ],
      "text/plain": [
       "         id  booknum  chnum  versenum  \\\n",
       "0  01001001        1      1         1   \n",
       "1  01001002        1      1         2   \n",
       "2  01001003        1      1         3   \n",
       "3  01001004        1      1         4   \n",
       "4  01001005        1      1         5   \n",
       "\n",
       "                                                text  \n",
       "0  In the beginning God created the heaven and th...  \n",
       "1  And the earth was without form, and void; and ...  \n",
       "2  And God said, Let there be light: and there wa...  \n",
       "3  And God saw the light, that it was good: and G...  \n",
       "4  And God called the light Day, and the darkness...  "
      ]
     },
     "execution_count": 467,
     "metadata": {},
     "output_type": "execute_result"
    }
   ],
   "source": [
    "tweb.head()\n"
   ]
  },
  {
   "cell_type": "code",
   "execution_count": 468,
   "metadata": {
    "collapsed": false,
    "deletable": true,
    "editable": true
   },
   "outputs": [
    {
     "data": {
      "text/html": [
       "<div>\n",
       "<table border=\"1\" class=\"dataframe\">\n",
       "  <thead>\n",
       "    <tr style=\"text-align: right;\">\n",
       "      <th></th>\n",
       "      <th>field</th>\n",
       "      <th>field.1</th>\n",
       "    </tr>\n",
       "  </thead>\n",
       "  <tbody>\n",
       "    <tr>\n",
       "      <th>0</th>\n",
       "      <td>1</td>\n",
       "      <td>Law</td>\n",
       "    </tr>\n",
       "    <tr>\n",
       "      <th>1</th>\n",
       "      <td>2</td>\n",
       "      <td>History</td>\n",
       "    </tr>\n",
       "    <tr>\n",
       "      <th>2</th>\n",
       "      <td>3</td>\n",
       "      <td>Wisdom</td>\n",
       "    </tr>\n",
       "    <tr>\n",
       "      <th>3</th>\n",
       "      <td>4</td>\n",
       "      <td>Prophets</td>\n",
       "    </tr>\n",
       "    <tr>\n",
       "      <th>4</th>\n",
       "      <td>5</td>\n",
       "      <td>Gospels</td>\n",
       "    </tr>\n",
       "  </tbody>\n",
       "</table>\n",
       "</div>"
      ],
      "text/plain": [
       "   field   field.1\n",
       "0      1       Law\n",
       "1      2   History\n",
       "2      3    Wisdom\n",
       "3      4  Prophets\n",
       "4      5   Gospels"
      ]
     },
     "execution_count": 468,
     "metadata": {},
     "output_type": "execute_result"
    }
   ],
   "source": [
    "keygenre.head()"
   ]
  },
  {
   "cell_type": "code",
   "execution_count": 469,
   "metadata": {
    "collapsed": true,
    "deletable": true,
    "editable": true
   },
   "outputs": [],
   "source": [
    "keygenre.columns = [\"id\",\"genre\"]\n"
   ]
  },
  {
   "cell_type": "markdown",
   "metadata": {
    "deletable": true,
    "editable": true
   },
   "source": [
    "### Merge key data set with genre book name with main data"
   ]
  },
  {
   "cell_type": "code",
   "execution_count": 470,
   "metadata": {
    "collapsed": false,
    "deletable": true,
    "editable": true
   },
   "outputs": [],
   "source": [
    "#tweb = tweb.merge(key, left_on='field.1', right_on='field', how='outer')\n",
    "tweb = tweb.merge(key, left_on='booknum', right_on='id', how='outer')"
   ]
  },
  {
   "cell_type": "code",
   "execution_count": 471,
   "metadata": {
    "collapsed": false,
    "deletable": true,
    "editable": true
   },
   "outputs": [
    {
     "data": {
      "text/html": [
       "<div>\n",
       "<table border=\"1\" class=\"dataframe\">\n",
       "  <thead>\n",
       "    <tr style=\"text-align: right;\">\n",
       "      <th></th>\n",
       "      <th>id_x</th>\n",
       "      <th>booknum</th>\n",
       "      <th>chnum</th>\n",
       "      <th>versenum</th>\n",
       "      <th>text</th>\n",
       "      <th>id_y</th>\n",
       "      <th>bookname</th>\n",
       "      <th>testament</th>\n",
       "      <th>genrenum</th>\n",
       "      <th>bookpad</th>\n",
       "    </tr>\n",
       "  </thead>\n",
       "  <tbody>\n",
       "    <tr>\n",
       "      <th>0</th>\n",
       "      <td>01001001</td>\n",
       "      <td>1</td>\n",
       "      <td>1</td>\n",
       "      <td>1</td>\n",
       "      <td>In the beginning God created the heaven and th...</td>\n",
       "      <td>1</td>\n",
       "      <td>Genesis</td>\n",
       "      <td>OT</td>\n",
       "      <td>1</td>\n",
       "      <td>01</td>\n",
       "    </tr>\n",
       "    <tr>\n",
       "      <th>1</th>\n",
       "      <td>01001002</td>\n",
       "      <td>1</td>\n",
       "      <td>1</td>\n",
       "      <td>2</td>\n",
       "      <td>And the earth was without form, and void; and ...</td>\n",
       "      <td>1</td>\n",
       "      <td>Genesis</td>\n",
       "      <td>OT</td>\n",
       "      <td>1</td>\n",
       "      <td>01</td>\n",
       "    </tr>\n",
       "    <tr>\n",
       "      <th>2</th>\n",
       "      <td>01001003</td>\n",
       "      <td>1</td>\n",
       "      <td>1</td>\n",
       "      <td>3</td>\n",
       "      <td>And God said, Let there be light: and there wa...</td>\n",
       "      <td>1</td>\n",
       "      <td>Genesis</td>\n",
       "      <td>OT</td>\n",
       "      <td>1</td>\n",
       "      <td>01</td>\n",
       "    </tr>\n",
       "    <tr>\n",
       "      <th>3</th>\n",
       "      <td>01001004</td>\n",
       "      <td>1</td>\n",
       "      <td>1</td>\n",
       "      <td>4</td>\n",
       "      <td>And God saw the light, that it was good: and G...</td>\n",
       "      <td>1</td>\n",
       "      <td>Genesis</td>\n",
       "      <td>OT</td>\n",
       "      <td>1</td>\n",
       "      <td>01</td>\n",
       "    </tr>\n",
       "    <tr>\n",
       "      <th>4</th>\n",
       "      <td>01001005</td>\n",
       "      <td>1</td>\n",
       "      <td>1</td>\n",
       "      <td>5</td>\n",
       "      <td>And God called the light Day, and the darkness...</td>\n",
       "      <td>1</td>\n",
       "      <td>Genesis</td>\n",
       "      <td>OT</td>\n",
       "      <td>1</td>\n",
       "      <td>01</td>\n",
       "    </tr>\n",
       "  </tbody>\n",
       "</table>\n",
       "</div>"
      ],
      "text/plain": [
       "       id_x  booknum  chnum  versenum  \\\n",
       "0  01001001        1      1         1   \n",
       "1  01001002        1      1         2   \n",
       "2  01001003        1      1         3   \n",
       "3  01001004        1      1         4   \n",
       "4  01001005        1      1         5   \n",
       "\n",
       "                                                text  id_y bookname testament  \\\n",
       "0  In the beginning God created the heaven and th...     1  Genesis        OT   \n",
       "1  And the earth was without form, and void; and ...     1  Genesis        OT   \n",
       "2  And God said, Let there be light: and there wa...     1  Genesis        OT   \n",
       "3  And God saw the light, that it was good: and G...     1  Genesis        OT   \n",
       "4  And God called the light Day, and the darkness...     1  Genesis        OT   \n",
       "\n",
       "   genrenum bookpad  \n",
       "0         1      01  \n",
       "1         1      01  \n",
       "2         1      01  \n",
       "3         1      01  \n",
       "4         1      01  "
      ]
     },
     "execution_count": 471,
     "metadata": {},
     "output_type": "execute_result"
    }
   ],
   "source": [
    "tweb.head()\n"
   ]
  },
  {
   "cell_type": "code",
   "execution_count": 472,
   "metadata": {
    "collapsed": false,
    "deletable": true,
    "editable": true
   },
   "outputs": [
    {
     "data": {
      "text/html": [
       "<div>\n",
       "<table border=\"1\" class=\"dataframe\">\n",
       "  <thead>\n",
       "    <tr style=\"text-align: right;\">\n",
       "      <th></th>\n",
       "      <th>id_x</th>\n",
       "      <th>booknum</th>\n",
       "      <th>chnum</th>\n",
       "      <th>versenum</th>\n",
       "      <th>text</th>\n",
       "      <th>bookname</th>\n",
       "      <th>testament</th>\n",
       "      <th>genrenum</th>\n",
       "      <th>bookpad</th>\n",
       "    </tr>\n",
       "  </thead>\n",
       "  <tbody>\n",
       "    <tr>\n",
       "      <th>0</th>\n",
       "      <td>01001001</td>\n",
       "      <td>1</td>\n",
       "      <td>1</td>\n",
       "      <td>1</td>\n",
       "      <td>In the beginning God created the heaven and th...</td>\n",
       "      <td>Genesis</td>\n",
       "      <td>OT</td>\n",
       "      <td>1</td>\n",
       "      <td>01</td>\n",
       "    </tr>\n",
       "    <tr>\n",
       "      <th>1</th>\n",
       "      <td>01001002</td>\n",
       "      <td>1</td>\n",
       "      <td>1</td>\n",
       "      <td>2</td>\n",
       "      <td>And the earth was without form, and void; and ...</td>\n",
       "      <td>Genesis</td>\n",
       "      <td>OT</td>\n",
       "      <td>1</td>\n",
       "      <td>01</td>\n",
       "    </tr>\n",
       "    <tr>\n",
       "      <th>2</th>\n",
       "      <td>01001003</td>\n",
       "      <td>1</td>\n",
       "      <td>1</td>\n",
       "      <td>3</td>\n",
       "      <td>And God said, Let there be light: and there wa...</td>\n",
       "      <td>Genesis</td>\n",
       "      <td>OT</td>\n",
       "      <td>1</td>\n",
       "      <td>01</td>\n",
       "    </tr>\n",
       "    <tr>\n",
       "      <th>3</th>\n",
       "      <td>01001004</td>\n",
       "      <td>1</td>\n",
       "      <td>1</td>\n",
       "      <td>4</td>\n",
       "      <td>And God saw the light, that it was good: and G...</td>\n",
       "      <td>Genesis</td>\n",
       "      <td>OT</td>\n",
       "      <td>1</td>\n",
       "      <td>01</td>\n",
       "    </tr>\n",
       "    <tr>\n",
       "      <th>4</th>\n",
       "      <td>01001005</td>\n",
       "      <td>1</td>\n",
       "      <td>1</td>\n",
       "      <td>5</td>\n",
       "      <td>And God called the light Day, and the darkness...</td>\n",
       "      <td>Genesis</td>\n",
       "      <td>OT</td>\n",
       "      <td>1</td>\n",
       "      <td>01</td>\n",
       "    </tr>\n",
       "  </tbody>\n",
       "</table>\n",
       "</div>"
      ],
      "text/plain": [
       "       id_x  booknum  chnum  versenum  \\\n",
       "0  01001001        1      1         1   \n",
       "1  01001002        1      1         2   \n",
       "2  01001003        1      1         3   \n",
       "3  01001004        1      1         4   \n",
       "4  01001005        1      1         5   \n",
       "\n",
       "                                                text bookname testament  \\\n",
       "0  In the beginning God created the heaven and th...  Genesis        OT   \n",
       "1  And the earth was without form, and void; and ...  Genesis        OT   \n",
       "2  And God said, Let there be light: and there wa...  Genesis        OT   \n",
       "3  And God saw the light, that it was good: and G...  Genesis        OT   \n",
       "4  And God called the light Day, and the darkness...  Genesis        OT   \n",
       "\n",
       "   genrenum bookpad  \n",
       "0         1      01  \n",
       "1         1      01  \n",
       "2         1      01  \n",
       "3         1      01  \n",
       "4         1      01  "
      ]
     },
     "execution_count": 472,
     "metadata": {},
     "output_type": "execute_result"
    }
   ],
   "source": [
    "#tweb.drop(['field_y'],axis=1,inplace=True)\n",
    "tweb.drop(['id_y'],axis=1,inplace=True)\n",
    "tweb.head()\n"
   ]
  },
  {
   "cell_type": "markdown",
   "metadata": {
    "deletable": true,
    "editable": true
   },
   "source": [
    "### Merge genre name data set with main data"
   ]
  },
  {
   "cell_type": "code",
   "execution_count": 473,
   "metadata": {
    "collapsed": false,
    "deletable": true,
    "editable": true
   },
   "outputs": [
    {
     "data": {
      "text/html": [
       "<div>\n",
       "<table border=\"1\" class=\"dataframe\">\n",
       "  <thead>\n",
       "    <tr style=\"text-align: right;\">\n",
       "      <th></th>\n",
       "      <th>id_x</th>\n",
       "      <th>booknum</th>\n",
       "      <th>chnum</th>\n",
       "      <th>versenum</th>\n",
       "      <th>text</th>\n",
       "      <th>bookname</th>\n",
       "      <th>testament</th>\n",
       "      <th>genrenum</th>\n",
       "      <th>bookpad</th>\n",
       "      <th>id</th>\n",
       "      <th>genre</th>\n",
       "    </tr>\n",
       "  </thead>\n",
       "  <tbody>\n",
       "    <tr>\n",
       "      <th>0</th>\n",
       "      <td>01001001</td>\n",
       "      <td>1</td>\n",
       "      <td>1</td>\n",
       "      <td>1</td>\n",
       "      <td>In the beginning God created the heaven and th...</td>\n",
       "      <td>Genesis</td>\n",
       "      <td>OT</td>\n",
       "      <td>1</td>\n",
       "      <td>01</td>\n",
       "      <td>1</td>\n",
       "      <td>Law</td>\n",
       "    </tr>\n",
       "    <tr>\n",
       "      <th>1</th>\n",
       "      <td>01001002</td>\n",
       "      <td>1</td>\n",
       "      <td>1</td>\n",
       "      <td>2</td>\n",
       "      <td>And the earth was without form, and void; and ...</td>\n",
       "      <td>Genesis</td>\n",
       "      <td>OT</td>\n",
       "      <td>1</td>\n",
       "      <td>01</td>\n",
       "      <td>1</td>\n",
       "      <td>Law</td>\n",
       "    </tr>\n",
       "    <tr>\n",
       "      <th>2</th>\n",
       "      <td>01001003</td>\n",
       "      <td>1</td>\n",
       "      <td>1</td>\n",
       "      <td>3</td>\n",
       "      <td>And God said, Let there be light: and there wa...</td>\n",
       "      <td>Genesis</td>\n",
       "      <td>OT</td>\n",
       "      <td>1</td>\n",
       "      <td>01</td>\n",
       "      <td>1</td>\n",
       "      <td>Law</td>\n",
       "    </tr>\n",
       "    <tr>\n",
       "      <th>3</th>\n",
       "      <td>01001004</td>\n",
       "      <td>1</td>\n",
       "      <td>1</td>\n",
       "      <td>4</td>\n",
       "      <td>And God saw the light, that it was good: and G...</td>\n",
       "      <td>Genesis</td>\n",
       "      <td>OT</td>\n",
       "      <td>1</td>\n",
       "      <td>01</td>\n",
       "      <td>1</td>\n",
       "      <td>Law</td>\n",
       "    </tr>\n",
       "    <tr>\n",
       "      <th>4</th>\n",
       "      <td>01001005</td>\n",
       "      <td>1</td>\n",
       "      <td>1</td>\n",
       "      <td>5</td>\n",
       "      <td>And God called the light Day, and the darkness...</td>\n",
       "      <td>Genesis</td>\n",
       "      <td>OT</td>\n",
       "      <td>1</td>\n",
       "      <td>01</td>\n",
       "      <td>1</td>\n",
       "      <td>Law</td>\n",
       "    </tr>\n",
       "  </tbody>\n",
       "</table>\n",
       "</div>"
      ],
      "text/plain": [
       "       id_x  booknum  chnum  versenum  \\\n",
       "0  01001001        1      1         1   \n",
       "1  01001002        1      1         2   \n",
       "2  01001003        1      1         3   \n",
       "3  01001004        1      1         4   \n",
       "4  01001005        1      1         5   \n",
       "\n",
       "                                                text bookname testament  \\\n",
       "0  In the beginning God created the heaven and th...  Genesis        OT   \n",
       "1  And the earth was without form, and void; and ...  Genesis        OT   \n",
       "2  And God said, Let there be light: and there wa...  Genesis        OT   \n",
       "3  And God saw the light, that it was good: and G...  Genesis        OT   \n",
       "4  And God called the light Day, and the darkness...  Genesis        OT   \n",
       "\n",
       "   genrenum bookpad  id genre  \n",
       "0         1      01   1   Law  \n",
       "1         1      01   1   Law  \n",
       "2         1      01   1   Law  \n",
       "3         1      01   1   Law  \n",
       "4         1      01   1   Law  "
      ]
     },
     "execution_count": 473,
     "metadata": {},
     "output_type": "execute_result"
    }
   ],
   "source": [
    "#tweb = tweb.merge(keygenre, left_on='field.3_y',right_on='field')\n",
    "tweb = tweb.merge(keygenre, left_on='genrenum',right_on='id')\n",
    "tweb.head()"
   ]
  },
  {
   "cell_type": "code",
   "execution_count": 474,
   "metadata": {
    "collapsed": false,
    "deletable": true,
    "editable": true
   },
   "outputs": [],
   "source": [
    "tweb.drop(['id'],axis=1,inplace=True)"
   ]
  },
  {
   "cell_type": "code",
   "execution_count": 475,
   "metadata": {
    "collapsed": false,
    "deletable": true,
    "editable": true
   },
   "outputs": [
    {
     "data": {
      "text/plain": [
       "array(['Genesis', 'Exodus', 'Leviticus', 'Numbers', 'Deuteronomy',\n",
       "       'Joshua', 'Judges', 'Ruth', '1 Samuel', '2 Samuel', '1 Kings',\n",
       "       '2 Kings', '1 Chronicles', '2 Chronicles', 'Ezra', 'Nehemiah',\n",
       "       'Esther', 'Job', 'Psalms', 'Proverbs', 'Ecclesiastes',\n",
       "       'Song of Solomon', 'Isaiah', 'Jeremiah', 'Lamentations', 'Ezekiel',\n",
       "       'Daniel', 'Hosea', 'Joel', 'Amos', 'Obadiah', 'Jonah', 'Micah',\n",
       "       'Nahum', 'Habakkuk', 'Zephaniah', 'Haggai', 'Zechariah', 'Malachi',\n",
       "       'Matthew', 'Mark', 'Luke', 'John', 'Acts', 'Romans',\n",
       "       '1 Corinthians', '2 Corinthians', 'Galatians', 'Ephesians',\n",
       "       'Philippians', 'Colossians', '1 Thessalonians', '2 Thessalonians',\n",
       "       '1 Timothy', '2 Timothy', 'Titus', 'Philemon', 'Hebrews', 'James',\n",
       "       '1 Peter', '2 Peter', '1 John', '2 John', '3 John', 'Jude',\n",
       "       'Revelation'], dtype=object)"
      ]
     },
     "execution_count": 475,
     "metadata": {},
     "output_type": "execute_result"
    }
   ],
   "source": [
    "pd.unique(tweb['bookname'])"
   ]
  },
  {
   "cell_type": "markdown",
   "metadata": {
    "deletable": true,
    "editable": true
   },
   "source": [
    "### Use countplot to count book title instances and plot \n",
    "#### (Data has a row for each verse so implementing countplot using book titles will bin books counting verses)"
   ]
  },
  {
   "cell_type": "code",
   "execution_count": 476,
   "metadata": {
    "collapsed": false,
    "deletable": true,
    "editable": true
   },
   "outputs": [
    {
     "name": "stderr",
     "output_type": "stream",
     "text": [
      "/usr/lib/python3.6/site-packages/matplotlib/font_manager.py:1297: UserWarning: findfont: Font family ['sans-serif'] not found. Falling back to DejaVu Sans\n",
      "  (prop.get_family(), self.defaultFamily[fontext]))\n"
     ]
    },
    {
     "data": {
      "image/png": "[encoded data removed]",
      "text/plain": [
       "<matplotlib.figure.Figure at 0x7fe5bce46710>"
      ]
     },
     "metadata": {},
     "output_type": "display_data"
    }
   ],
   "source": [
    "plt.figure(figsize=(20,10))\n",
    "plt.xticks(rotation=75)\n",
    "#fig = sns.countplot(x=\"field.1_y\",  hue=\"field.1\",data=tweb)\n",
    "fig = sns.countplot(x=\"bookname\",data=tweb)"
   ]
  },
  {
   "cell_type": "markdown",
   "metadata": {
    "deletable": true,
    "editable": true
   },
   "source": [
    "### Plot Genre verse counts using same method"
   ]
  },
  {
   "cell_type": "code",
   "execution_count": 477,
   "metadata": {
    "collapsed": false,
    "deletable": true,
    "editable": true
   },
   "outputs": [
    {
     "name": "stderr",
     "output_type": "stream",
     "text": [
      "/usr/lib/python3.6/site-packages/matplotlib/font_manager.py:1297: UserWarning: findfont: Font family ['sans-serif'] not found. Falling back to DejaVu Sans\n",
      "  (prop.get_family(), self.defaultFamily[fontext]))\n"
     ]
    },
    {
     "data": {
      "image/png": "[encoded data removed]",
      "text/plain": [
       "<matplotlib.figure.Figure at 0x7fe5b4c4d668>"
      ]
     },
     "metadata": {},
     "output_type": "display_data"
    }
   ],
   "source": [
    "plt.xticks(rotation=75)\n",
    "fig = sns.countplot(x=\"genre\", data=tweb)"
   ]
  },
  {
   "cell_type": "markdown",
   "metadata": {
    "deletable": true,
    "editable": true
   },
   "source": [
    "### Use Regex to tokenize words in verses (skipping punctuation)"
   ]
  },
  {
   "cell_type": "code",
   "execution_count": 478,
   "metadata": {
    "collapsed": false,
    "deletable": true,
    "editable": true
   },
   "outputs": [
    {
     "data": {
      "text/html": [
       "<div>\n",
       "<table border=\"1\" class=\"dataframe\">\n",
       "  <thead>\n",
       "    <tr style=\"text-align: right;\">\n",
       "      <th></th>\n",
       "      <th>id_x</th>\n",
       "      <th>booknum</th>\n",
       "      <th>chnum</th>\n",
       "      <th>versenum</th>\n",
       "      <th>text</th>\n",
       "      <th>bookname</th>\n",
       "      <th>testament</th>\n",
       "      <th>genrenum</th>\n",
       "      <th>bookpad</th>\n",
       "      <th>genre</th>\n",
       "      <th>verses_nopunct</th>\n",
       "    </tr>\n",
       "  </thead>\n",
       "  <tbody>\n",
       "    <tr>\n",
       "      <th>0</th>\n",
       "      <td>01001001</td>\n",
       "      <td>1</td>\n",
       "      <td>1</td>\n",
       "      <td>1</td>\n",
       "      <td>In the beginning God created the heaven and th...</td>\n",
       "      <td>Genesis</td>\n",
       "      <td>OT</td>\n",
       "      <td>1</td>\n",
       "      <td>01</td>\n",
       "      <td>Law</td>\n",
       "      <td>[In, the, beginning, God, created, the, heaven...</td>\n",
       "    </tr>\n",
       "    <tr>\n",
       "      <th>1</th>\n",
       "      <td>01001002</td>\n",
       "      <td>1</td>\n",
       "      <td>1</td>\n",
       "      <td>2</td>\n",
       "      <td>And the earth was without form, and void; and ...</td>\n",
       "      <td>Genesis</td>\n",
       "      <td>OT</td>\n",
       "      <td>1</td>\n",
       "      <td>01</td>\n",
       "      <td>Law</td>\n",
       "      <td>[And, the, earth, was, without, form, and, voi...</td>\n",
       "    </tr>\n",
       "    <tr>\n",
       "      <th>2</th>\n",
       "      <td>01001003</td>\n",
       "      <td>1</td>\n",
       "      <td>1</td>\n",
       "      <td>3</td>\n",
       "      <td>And God said, Let there be light: and there wa...</td>\n",
       "      <td>Genesis</td>\n",
       "      <td>OT</td>\n",
       "      <td>1</td>\n",
       "      <td>01</td>\n",
       "      <td>Law</td>\n",
       "      <td>[And, God, said, Let, there, be, light, and, t...</td>\n",
       "    </tr>\n",
       "    <tr>\n",
       "      <th>3</th>\n",
       "      <td>01001004</td>\n",
       "      <td>1</td>\n",
       "      <td>1</td>\n",
       "      <td>4</td>\n",
       "      <td>And God saw the light, that it was good: and G...</td>\n",
       "      <td>Genesis</td>\n",
       "      <td>OT</td>\n",
       "      <td>1</td>\n",
       "      <td>01</td>\n",
       "      <td>Law</td>\n",
       "      <td>[And, God, saw, the, light, that, it, was, goo...</td>\n",
       "    </tr>\n",
       "    <tr>\n",
       "      <th>4</th>\n",
       "      <td>01001005</td>\n",
       "      <td>1</td>\n",
       "      <td>1</td>\n",
       "      <td>5</td>\n",
       "      <td>And God called the light Day, and the darkness...</td>\n",
       "      <td>Genesis</td>\n",
       "      <td>OT</td>\n",
       "      <td>1</td>\n",
       "      <td>01</td>\n",
       "      <td>Law</td>\n",
       "      <td>[And, God, called, the, light, Day, and, the, ...</td>\n",
       "    </tr>\n",
       "  </tbody>\n",
       "</table>\n",
       "</div>"
      ],
      "text/plain": [
       "       id_x  booknum  chnum  versenum  \\\n",
       "0  01001001        1      1         1   \n",
       "1  01001002        1      1         2   \n",
       "2  01001003        1      1         3   \n",
       "3  01001004        1      1         4   \n",
       "4  01001005        1      1         5   \n",
       "\n",
       "                                                text bookname testament  \\\n",
       "0  In the beginning God created the heaven and th...  Genesis        OT   \n",
       "1  And the earth was without form, and void; and ...  Genesis        OT   \n",
       "2  And God said, Let there be light: and there wa...  Genesis        OT   \n",
       "3  And God saw the light, that it was good: and G...  Genesis        OT   \n",
       "4  And God called the light Day, and the darkness...  Genesis        OT   \n",
       "\n",
       "   genrenum bookpad genre                                     verses_nopunct  \n",
       "0         1      01   Law  [In, the, beginning, God, created, the, heaven...  \n",
       "1         1      01   Law  [And, the, earth, was, without, form, and, voi...  \n",
       "2         1      01   Law  [And, God, said, Let, there, be, light, and, t...  \n",
       "3         1      01   Law  [And, God, saw, the, light, that, it, was, goo...  \n",
       "4         1      01   Law  [And, God, called, the, light, Day, and, the, ...  "
      ]
     },
     "execution_count": 478,
     "metadata": {},
     "output_type": "execute_result"
    }
   ],
   "source": [
    "notpunct = re.compile('\\w+')\n",
    "tweb['verses_nopunct'] = tweb['text'].str.findall(notpunct)\n",
    "tweb.head()"
   ]
  },
  {
   "cell_type": "code",
   "execution_count": 479,
   "metadata": {
    "collapsed": true,
    "deletable": true,
    "editable": true
   },
   "outputs": [],
   "source": [
    "from nltk.corpus import stopwords"
   ]
  },
  {
   "cell_type": "code",
   "execution_count": 480,
   "metadata": {
    "collapsed": false,
    "deletable": true,
    "editable": true
   },
   "outputs": [],
   "source": [
    "english_stops = set(stopwords.words(\"english\"))"
   ]
  },
  {
   "cell_type": "code",
   "execution_count": 481,
   "metadata": {
    "collapsed": false,
    "deletable": true,
    "editable": true
   },
   "outputs": [],
   "source": [
    "def remstopwords(ls):\n",
    "    stopwt = [word.lower() for word in ls if word.lower() not in english_stops]\n",
    "    return stopwt"
   ]
  },
  {
   "cell_type": "code",
   "execution_count": 482,
   "metadata": {
    "collapsed": false,
    "deletable": true,
    "editable": true
   },
   "outputs": [],
   "source": [
    "tweb['swverses'] = tweb['verses_nopunct'].apply(remstopwords)"
   ]
  },
  {
   "cell_type": "code",
   "execution_count": 483,
   "metadata": {
    "collapsed": false,
    "deletable": true,
    "editable": true
   },
   "outputs": [],
   "source": [
    "# nltk word_tokenize by default does not remove punctuation\n",
    "#tweb['words'] = tweb['field.4'].apply(nltk.word_tokenize)\n",
    "#tweb.head()"
   ]
  },
  {
   "cell_type": "code",
   "execution_count": 484,
   "metadata": {
    "collapsed": false,
    "deletable": true,
    "editable": true
   },
   "outputs": [
    {
     "data": {
      "text/html": [
       "<div>\n",
       "<table border=\"1\" class=\"dataframe\">\n",
       "  <thead>\n",
       "    <tr style=\"text-align: right;\">\n",
       "      <th></th>\n",
       "      <th>id_x</th>\n",
       "      <th>booknum</th>\n",
       "      <th>chnum</th>\n",
       "      <th>versenum</th>\n",
       "      <th>text</th>\n",
       "      <th>bookname</th>\n",
       "      <th>testament</th>\n",
       "      <th>genrenum</th>\n",
       "      <th>bookpad</th>\n",
       "      <th>genre</th>\n",
       "      <th>verses_nopunct</th>\n",
       "      <th>swverses</th>\n",
       "    </tr>\n",
       "  </thead>\n",
       "  <tbody>\n",
       "    <tr>\n",
       "      <th>0</th>\n",
       "      <td>01001001</td>\n",
       "      <td>1</td>\n",
       "      <td>1</td>\n",
       "      <td>1</td>\n",
       "      <td>In the beginning God created the heaven and th...</td>\n",
       "      <td>Genesis</td>\n",
       "      <td>OT</td>\n",
       "      <td>1</td>\n",
       "      <td>01</td>\n",
       "      <td>Law</td>\n",
       "      <td>[In, the, beginning, God, created, the, heaven...</td>\n",
       "      <td>[beginning, god, created, heaven, earth]</td>\n",
       "    </tr>\n",
       "    <tr>\n",
       "      <th>1</th>\n",
       "      <td>01001002</td>\n",
       "      <td>1</td>\n",
       "      <td>1</td>\n",
       "      <td>2</td>\n",
       "      <td>And the earth was without form, and void; and ...</td>\n",
       "      <td>Genesis</td>\n",
       "      <td>OT</td>\n",
       "      <td>1</td>\n",
       "      <td>01</td>\n",
       "      <td>Law</td>\n",
       "      <td>[And, the, earth, was, without, form, and, voi...</td>\n",
       "      <td>[earth, without, form, void, darkness, upon, f...</td>\n",
       "    </tr>\n",
       "    <tr>\n",
       "      <th>2</th>\n",
       "      <td>01001003</td>\n",
       "      <td>1</td>\n",
       "      <td>1</td>\n",
       "      <td>3</td>\n",
       "      <td>And God said, Let there be light: and there wa...</td>\n",
       "      <td>Genesis</td>\n",
       "      <td>OT</td>\n",
       "      <td>1</td>\n",
       "      <td>01</td>\n",
       "      <td>Law</td>\n",
       "      <td>[And, God, said, Let, there, be, light, and, t...</td>\n",
       "      <td>[god, said, let, light, light]</td>\n",
       "    </tr>\n",
       "    <tr>\n",
       "      <th>3</th>\n",
       "      <td>01001004</td>\n",
       "      <td>1</td>\n",
       "      <td>1</td>\n",
       "      <td>4</td>\n",
       "      <td>And God saw the light, that it was good: and G...</td>\n",
       "      <td>Genesis</td>\n",
       "      <td>OT</td>\n",
       "      <td>1</td>\n",
       "      <td>01</td>\n",
       "      <td>Law</td>\n",
       "      <td>[And, God, saw, the, light, that, it, was, goo...</td>\n",
       "      <td>[god, saw, light, good, god, divided, light, d...</td>\n",
       "    </tr>\n",
       "    <tr>\n",
       "      <th>4</th>\n",
       "      <td>01001005</td>\n",
       "      <td>1</td>\n",
       "      <td>1</td>\n",
       "      <td>5</td>\n",
       "      <td>And God called the light Day, and the darkness...</td>\n",
       "      <td>Genesis</td>\n",
       "      <td>OT</td>\n",
       "      <td>1</td>\n",
       "      <td>01</td>\n",
       "      <td>Law</td>\n",
       "      <td>[And, God, called, the, light, Day, and, the, ...</td>\n",
       "      <td>[god, called, light, day, darkness, called, ni...</td>\n",
       "    </tr>\n",
       "  </tbody>\n",
       "</table>\n",
       "</div>"
      ],
      "text/plain": [
       "       id_x  booknum  chnum  versenum  \\\n",
       "0  01001001        1      1         1   \n",
       "1  01001002        1      1         2   \n",
       "2  01001003        1      1         3   \n",
       "3  01001004        1      1         4   \n",
       "4  01001005        1      1         5   \n",
       "\n",
       "                                                text bookname testament  \\\n",
       "0  In the beginning God created the heaven and th...  Genesis        OT   \n",
       "1  And the earth was without form, and void; and ...  Genesis        OT   \n",
       "2  And God said, Let there be light: and there wa...  Genesis        OT   \n",
       "3  And God saw the light, that it was good: and G...  Genesis        OT   \n",
       "4  And God called the light Day, and the darkness...  Genesis        OT   \n",
       "\n",
       "   genrenum bookpad genre                                     verses_nopunct  \\\n",
       "0         1      01   Law  [In, the, beginning, God, created, the, heaven...   \n",
       "1         1      01   Law  [And, the, earth, was, without, form, and, voi...   \n",
       "2         1      01   Law  [And, God, said, Let, there, be, light, and, t...   \n",
       "3         1      01   Law  [And, God, saw, the, light, that, it, was, goo...   \n",
       "4         1      01   Law  [And, God, called, the, light, Day, and, the, ...   \n",
       "\n",
       "                                            swverses  \n",
       "0           [beginning, god, created, heaven, earth]  \n",
       "1  [earth, without, form, void, darkness, upon, f...  \n",
       "2                     [god, said, let, light, light]  \n",
       "3  [god, saw, light, good, god, divided, light, d...  \n",
       "4  [god, called, light, day, darkness, called, ni...  "
      ]
     },
     "execution_count": 484,
     "metadata": {},
     "output_type": "execute_result"
    }
   ],
   "source": [
    "tweb.head()"
   ]
  },
  {
   "cell_type": "code",
   "execution_count": 485,
   "metadata": {
    "collapsed": true,
    "deletable": true,
    "editable": true
   },
   "outputs": [],
   "source": [
    "words = []\n",
    "sWords = []\n",
    "for i in tweb['swverses']:\n",
    "    for j in i:\n",
    "        sWords.append(j)\n",
    "for i in tweb['verses_nopunct']:\n",
    "    for j in i:\n",
    "        words.append(j)"
   ]
  },
  {
   "cell_type": "code",
   "execution_count": 486,
   "metadata": {
    "collapsed": false,
    "deletable": true,
    "editable": true
   },
   "outputs": [],
   "source": [
    "#sWords"
   ]
  },
  {
   "cell_type": "code",
   "execution_count": 487,
   "metadata": {
    "collapsed": false,
    "deletable": true,
    "editable": true
   },
   "outputs": [
    {
     "data": {
      "text/plain": [
       "791451"
      ]
     },
     "execution_count": 487,
     "metadata": {},
     "output_type": "execute_result"
    }
   ],
   "source": [
    "len(words)"
   ]
  },
  {
   "cell_type": "code",
   "execution_count": 488,
   "metadata": {
    "collapsed": false,
    "deletable": true,
    "editable": true
   },
   "outputs": [
    {
     "data": {
      "text/plain": [
       "374730"
      ]
     },
     "execution_count": 488,
     "metadata": {},
     "output_type": "execute_result"
    }
   ],
   "source": [
    "len(sWords)"
   ]
  },
  {
   "cell_type": "code",
   "execution_count": 489,
   "metadata": {
    "collapsed": false,
    "deletable": true,
    "editable": true
   },
   "outputs": [],
   "source": [
    "uwords = pd.unique(sWords)\n",
    "nwords = pd.unique(words)"
   ]
  },
  {
   "cell_type": "code",
   "execution_count": 490,
   "metadata": {
    "collapsed": false,
    "deletable": true,
    "editable": true
   },
   "outputs": [
    {
     "data": {
      "text/plain": [
       "12469"
      ]
     },
     "execution_count": 490,
     "metadata": {},
     "output_type": "execute_result"
    }
   ],
   "source": [
    "len(uwords)"
   ]
  },
  {
   "cell_type": "code",
   "execution_count": 491,
   "metadata": {
    "collapsed": false,
    "deletable": true,
    "editable": true
   },
   "outputs": [],
   "source": [
    "removedw = [word for word in nwords if word not in uwords]\n",
    "#removedw"
   ]
  },
  {
   "cell_type": "code",
   "execution_count": 492,
   "metadata": {
    "collapsed": false,
    "deletable": true,
    "editable": true
   },
   "outputs": [
    {
     "data": {
      "text/plain": [
       "True"
      ]
     },
     "execution_count": 492,
     "metadata": {},
     "output_type": "execute_result"
    }
   ],
   "source": [
    "#len(removedw)\n",
    "'In' in removedw"
   ]
  },
  {
   "cell_type": "code",
   "execution_count": 493,
   "metadata": {
    "collapsed": true,
    "deletable": true,
    "editable": true
   },
   "outputs": [],
   "source": [
    "from nltk.collocations import BigramCollocationFinder, TrigramCollocationFinder, QuadgramCollocationFinder, ngrams\n",
    "from nltk.metrics import BigramAssocMeasures, TrigramAssocMeasures, NgramAssocMeasures"
   ]
  },
  {
   "cell_type": "code",
   "execution_count": 494,
   "metadata": {
    "collapsed": true,
    "deletable": true,
    "editable": true
   },
   "outputs": [],
   "source": [
    "### Getting Error QuadgramAssocMeasures not defined copied below class from NLTK source\n",
    "class QuadgramAssocMeasures(NgramAssocMeasures):\n",
    "    \"\"\"\n",
    "    A collection of quadgram association measures. Each association measure\n",
    "    is provided as a function with five arguments::\n",
    "\n",
    "        trigram_score_fn(n_iiii,\n",
    "                        (n_iiix, n_iixi, n_ixii, n_xiii),\n",
    "                        (n_iixx, n_ixix, n_ixxi, n_xixi, n_xxii, n_xiix),\n",
    "                        (n_ixxx, n_xixx, n_xxix, n_xxxi),\n",
    "                        n_all)\n",
    "\n",
    "    The arguments constitute the marginals of a contingency table, counting\n",
    "    the occurrences of particular events in a corpus. The letter i in the\n",
    "    suffix refers to the appearance of the word in question, while x indicates\n",
    "    the appearance of any word. Thus, for example:\n",
    "    n_iiii counts (w1, w2, w3, w4), i.e. the quadgram being scored\n",
    "    n_ixxi counts (w1, *, *, w4)\n",
    "    n_xxxx counts (*, *, *, *), i.e. any quadgram\n",
    "    \"\"\"\n",
    "\n",
    "    _n = 4\n",
    "\n",
    "    @staticmethod\n",
    "    def _contingency(n_iiii, n_iiix_tuple, n_iixx_tuple, n_ixxx_tuple, n_xxxx):\n",
    "        \"\"\"Calculates values of a quadgram contingency table from\n",
    "        marginal values.\n",
    "        \"\"\"\n",
    "        (n_iiix, n_iixi, n_ixii, n_xiii) = n_iiix_tuple\n",
    "        (n_iixx, n_ixix, n_ixxi, n_xixi, n_xxii, n_xiix) = n_iixx_tuple\n",
    "        (n_ixxx, n_xixx, n_xxix, n_xxxi) = n_ixxx_tuple\n",
    "        n_oiii = n_xiii - n_iiii\n",
    "        n_ioii = n_ixii - n_iiii\n",
    "        n_iioi = n_iixi - n_iiii\n",
    "        n_ooii = n_xxii - n_iiii - n_oiii - n_ioii\n",
    "        n_oioi = n_xixi - n_iiii - n_oiii - n_iioi\n",
    "        n_iooi = n_ixxi - n_iiii - n_ioii - n_iioi\n",
    "        n_oooi = n_xxxi - n_iiii - n_oiii - n_ioii - n_iioi - n_ooii - n_iooi - n_oioi\n",
    "        n_iiio = n_iiix - n_iiii\n",
    "        n_oiio = n_xiix - n_iiii - n_oiii - n_iiio\n",
    "        n_ioio = n_ixix - n_iiii - n_ioii - n_iiio\n",
    "        n_ooio = n_xxix - n_iiii - n_oiii - n_ioii - n_iiio - n_ooii - n_ioio - n_oiio\n",
    "        n_iioo = n_iixx - n_iiii - n_iioi - n_iiio\n",
    "        n_oioo = n_xixx - n_iiii - n_oiii - n_iioi - n_iiio - n_oioi - n_oiio - n_iioo\n",
    "        n_iooo = n_ixxx - n_iiii - n_ioii - n_iioi - n_iiio - n_iooi - n_iioo - n_ioio\n",
    "        n_oooo = n_xxxx - n_iiii - n_oiii - n_ioii - n_iioi - n_ooii - n_oioi - n_iooi - \\\n",
    "                 n_oooi - n_iiio - n_oiio - n_ioio - n_ooio - n_iioo - n_oioo - n_iooo\n",
    "\n",
    "        return (n_iiii, n_oiii, n_ioii, n_ooii, n_iioi,\n",
    "                n_oioi, n_iooi, n_oooi, n_iiio, n_oiio,\n",
    "                n_ioio, n_ooio, n_iioo, n_oioo, n_iooo, n_oooo)\n",
    "\n",
    "    @staticmethod\n",
    "    def _marginals(*contingency):\n",
    "        \"\"\"Calculates values of contingency table marginals from its values.\n",
    "        QuadgramAssocMeasures._marginals(1, 0, 2, 46, 552, 825, 2577, 34967, 1, 0, 2, 48, 7250, 9031, 28585, 356653)\n",
    "        (1, (2, 553, 3, 1), (7804, 6, 3132, 1378, 49, 2), (38970, 17660, 100, 38970), 440540)\n",
    "        \"\"\"\n",
    "        n_iiii, n_oiii, n_ioii, n_ooii, n_iioi, n_oioi, n_iooi, n_oooi, n_iiio, n_oiio, n_ioio, n_ooio, \\\n",
    "        n_iioo, n_oioo, n_iooo, n_oooo = contingency\n",
    "\n",
    "        n_iiix = n_iiii + n_iiio\n",
    "        n_iixi = n_iiii + n_iioi\n",
    "        n_ixii = n_iiii + n_ioii\n",
    "        n_xiii = n_iiii + n_oiii\n",
    "\n",
    "        n_iixx = n_iiii + n_iioi + n_iiio + n_iioo\n",
    "        n_ixix = n_iiii + n_ioii + n_iiio + n_ioio\n",
    "        n_ixxi = n_iiii + n_ioii + n_iioi + n_iooi\n",
    "        n_xixi = n_iiii + n_oiii + n_iioi + n_oioi\n",
    "        n_xxii = n_iiii + n_oiii + n_ioii + n_ooii\n",
    "        n_xiix = n_iiii + n_oiii + n_iiio + n_oiio\n",
    "\n",
    "        n_ixxx = n_iiii + n_ioii + n_iioi + n_iiio + n_iooi + n_iioo + n_ioio + n_iooo\n",
    "        n_xixx = n_iiii + n_oiii + n_iioi + n_iiio + n_oioi + n_oiio + n_iioo + n_oioo\n",
    "        n_xxix = n_iiii + n_oiii + n_ioii + n_iiio + n_ooii + n_ioio + n_oiio + n_ooio\n",
    "        n_xxxi = n_iiii + n_oiii + n_ioii + n_iioi + n_ooii + n_iooi + n_oioi + n_oooi\n",
    "\n",
    "        n_all = sum(contingency)\n",
    "\n",
    "        return (n_iiii,\n",
    "                (n_iiix, n_iixi, n_ixii, n_xiii),\n",
    "                (n_iixx, n_ixix, n_ixxi, n_xixi, n_xxii, n_xiix),\n",
    "                (n_ixxx, n_xixx, n_xxix, n_xxxi),\n",
    "                n_all)"
   ]
  },
  {
   "cell_type": "code",
   "execution_count": 495,
   "metadata": {
    "collapsed": false,
    "deletable": true,
    "editable": true
   },
   "outputs": [],
   "source": [
    "#bcf = BigramCollocationFinder.from_words(sWords)\n",
    "#tcf = TrigramCollocationFinder.from_words(words)\n",
    "#qcf = QuadgramCollocationFinder.from_words(words)\n",
    "#scf = ngrams\n",
    "\n"
   ]
  },
  {
   "cell_type": "code",
   "execution_count": 496,
   "metadata": {
    "collapsed": false,
    "deletable": true,
    "editable": true
   },
   "outputs": [],
   "source": [
    "#bigrams = [b for b in bcf.nbest(BigramAssocMeasures.likelihood_ratio,len(sWords))]\n",
    "#trigrams = [t for t in tcf.nbest(TrigramAssocMeasures.likelihood_ratio,len(words))]\n",
    "#quadgrams = [q for q in qcf.nbest(QuadgramAssocMeasures.likelihood_ratio,len(words))]\n"
   ]
  },
  {
   "cell_type": "code",
   "execution_count": null,
   "metadata": {
    "collapsed": false,
    "deletable": true,
    "editable": true
   },
   "outputs": [],
   "source": []
  },
  {
   "cell_type": "code",
   "execution_count": null,
   "metadata": {
    "collapsed": true,
    "deletable": true,
    "editable": true
   },
   "outputs": [],
   "source": []
  },
  {
   "cell_type": "markdown",
   "metadata": {
    "collapsed": false,
    "deletable": true,
    "editable": true
   },
   "source": [
    "### Adds column of word counts to each row"
   ]
  },
  {
   "cell_type": "code",
   "execution_count": 497,
   "metadata": {
    "collapsed": true,
    "deletable": true,
    "editable": true
   },
   "outputs": [],
   "source": [
    "tweb['wordcount'] = tweb['verses_nopunct'].apply(len)"
   ]
  },
  {
   "cell_type": "code",
   "execution_count": 498,
   "metadata": {
    "collapsed": false,
    "deletable": true,
    "editable": true
   },
   "outputs": [],
   "source": [
    "#tweb.drop(['field.3_y','field'],axis=1,inplace=True)\n",
    "tweb.drop(['genrenum'],axis=1,inplace=True)"
   ]
  },
  {
   "cell_type": "code",
   "execution_count": 499,
   "metadata": {
    "collapsed": false,
    "deletable": true,
    "editable": true
   },
   "outputs": [],
   "source": [
    "tweb.columns = [\"id\",\"booknum\",\"chnum\",\"versenum\",\"text\",\"bookname\",\"testament\",\"bookpad\",\"genre\",\"versearr\",\"sversearr\",\"wordcount\"]"
   ]
  },
  {
   "cell_type": "code",
   "execution_count": 500,
   "metadata": {
    "collapsed": false,
    "deletable": true,
    "editable": true,
    "scrolled": true
   },
   "outputs": [
    {
     "data": {
      "text/html": [
       "<div>\n",
       "<table border=\"1\" class=\"dataframe\">\n",
       "  <thead>\n",
       "    <tr style=\"text-align: right;\">\n",
       "      <th></th>\n",
       "      <th>id</th>\n",
       "      <th>booknum</th>\n",
       "      <th>chnum</th>\n",
       "      <th>versenum</th>\n",
       "      <th>text</th>\n",
       "      <th>bookname</th>\n",
       "      <th>testament</th>\n",
       "      <th>bookpad</th>\n",
       "      <th>genre</th>\n",
       "      <th>versearr</th>\n",
       "      <th>sversearr</th>\n",
       "      <th>wordcount</th>\n",
       "    </tr>\n",
       "  </thead>\n",
       "  <tbody>\n",
       "    <tr>\n",
       "      <th>0</th>\n",
       "      <td>01001001</td>\n",
       "      <td>1</td>\n",
       "      <td>1</td>\n",
       "      <td>1</td>\n",
       "      <td>In the beginning God created the heaven and th...</td>\n",
       "      <td>Genesis</td>\n",
       "      <td>OT</td>\n",
       "      <td>01</td>\n",
       "      <td>Law</td>\n",
       "      <td>[In, the, beginning, God, created, the, heaven...</td>\n",
       "      <td>[beginning, god, created, heaven, earth]</td>\n",
       "      <td>10</td>\n",
       "    </tr>\n",
       "    <tr>\n",
       "      <th>1</th>\n",
       "      <td>01001002</td>\n",
       "      <td>1</td>\n",
       "      <td>1</td>\n",
       "      <td>2</td>\n",
       "      <td>And the earth was without form, and void; and ...</td>\n",
       "      <td>Genesis</td>\n",
       "      <td>OT</td>\n",
       "      <td>01</td>\n",
       "      <td>Law</td>\n",
       "      <td>[And, the, earth, was, without, form, and, voi...</td>\n",
       "      <td>[earth, without, form, void, darkness, upon, f...</td>\n",
       "      <td>29</td>\n",
       "    </tr>\n",
       "    <tr>\n",
       "      <th>2</th>\n",
       "      <td>01001003</td>\n",
       "      <td>1</td>\n",
       "      <td>1</td>\n",
       "      <td>3</td>\n",
       "      <td>And God said, Let there be light: and there wa...</td>\n",
       "      <td>Genesis</td>\n",
       "      <td>OT</td>\n",
       "      <td>01</td>\n",
       "      <td>Law</td>\n",
       "      <td>[And, God, said, Let, there, be, light, and, t...</td>\n",
       "      <td>[god, said, let, light, light]</td>\n",
       "      <td>11</td>\n",
       "    </tr>\n",
       "    <tr>\n",
       "      <th>3</th>\n",
       "      <td>01001004</td>\n",
       "      <td>1</td>\n",
       "      <td>1</td>\n",
       "      <td>4</td>\n",
       "      <td>And God saw the light, that it was good: and G...</td>\n",
       "      <td>Genesis</td>\n",
       "      <td>OT</td>\n",
       "      <td>01</td>\n",
       "      <td>Law</td>\n",
       "      <td>[And, God, saw, the, light, that, it, was, goo...</td>\n",
       "      <td>[god, saw, light, good, god, divided, light, d...</td>\n",
       "      <td>17</td>\n",
       "    </tr>\n",
       "    <tr>\n",
       "      <th>4</th>\n",
       "      <td>01001005</td>\n",
       "      <td>1</td>\n",
       "      <td>1</td>\n",
       "      <td>5</td>\n",
       "      <td>And God called the light Day, and the darkness...</td>\n",
       "      <td>Genesis</td>\n",
       "      <td>OT</td>\n",
       "      <td>01</td>\n",
       "      <td>Law</td>\n",
       "      <td>[And, God, called, the, light, Day, and, the, ...</td>\n",
       "      <td>[god, called, light, day, darkness, called, ni...</td>\n",
       "      <td>22</td>\n",
       "    </tr>\n",
       "  </tbody>\n",
       "</table>\n",
       "</div>"
      ],
      "text/plain": [
       "         id  booknum  chnum  versenum  \\\n",
       "0  01001001        1      1         1   \n",
       "1  01001002        1      1         2   \n",
       "2  01001003        1      1         3   \n",
       "3  01001004        1      1         4   \n",
       "4  01001005        1      1         5   \n",
       "\n",
       "                                                text bookname testament  \\\n",
       "0  In the beginning God created the heaven and th...  Genesis        OT   \n",
       "1  And the earth was without form, and void; and ...  Genesis        OT   \n",
       "2  And God said, Let there be light: and there wa...  Genesis        OT   \n",
       "3  And God saw the light, that it was good: and G...  Genesis        OT   \n",
       "4  And God called the light Day, and the darkness...  Genesis        OT   \n",
       "\n",
       "  bookpad genre                                           versearr  \\\n",
       "0      01   Law  [In, the, beginning, God, created, the, heaven...   \n",
       "1      01   Law  [And, the, earth, was, without, form, and, voi...   \n",
       "2      01   Law  [And, God, said, Let, there, be, light, and, t...   \n",
       "3      01   Law  [And, God, saw, the, light, that, it, was, goo...   \n",
       "4      01   Law  [And, God, called, the, light, Day, and, the, ...   \n",
       "\n",
       "                                           sversearr  wordcount  \n",
       "0           [beginning, god, created, heaven, earth]         10  \n",
       "1  [earth, without, form, void, darkness, upon, f...         29  \n",
       "2                     [god, said, let, light, light]         11  \n",
       "3  [god, saw, light, good, god, divided, light, d...         17  \n",
       "4  [god, called, light, day, darkness, called, ni...         22  "
      ]
     },
     "execution_count": 500,
     "metadata": {},
     "output_type": "execute_result"
    }
   ],
   "source": [
    "tweb.head()"
   ]
  },
  {
   "cell_type": "code",
   "execution_count": 501,
   "metadata": {
    "collapsed": false
   },
   "outputs": [
    {
     "data": {
      "text/html": [
       "<div>\n",
       "<table border=\"1\" class=\"dataframe\">\n",
       "  <thead>\n",
       "    <tr style=\"text-align: right;\">\n",
       "      <th></th>\n",
       "      <th>id</th>\n",
       "      <th>booknum</th>\n",
       "      <th>chnum</th>\n",
       "      <th>versenum</th>\n",
       "      <th>text</th>\n",
       "      <th>bookname</th>\n",
       "      <th>testament</th>\n",
       "      <th>bookpad</th>\n",
       "      <th>genre</th>\n",
       "      <th>wordcount</th>\n",
       "    </tr>\n",
       "  </thead>\n",
       "  <tbody>\n",
       "    <tr>\n",
       "      <th>0</th>\n",
       "      <td>01001001</td>\n",
       "      <td>1</td>\n",
       "      <td>1</td>\n",
       "      <td>1</td>\n",
       "      <td>In the beginning God created the heaven and th...</td>\n",
       "      <td>Genesis</td>\n",
       "      <td>OT</td>\n",
       "      <td>01</td>\n",
       "      <td>Law</td>\n",
       "      <td>10</td>\n",
       "    </tr>\n",
       "    <tr>\n",
       "      <th>1</th>\n",
       "      <td>01001002</td>\n",
       "      <td>1</td>\n",
       "      <td>1</td>\n",
       "      <td>2</td>\n",
       "      <td>And the earth was without form, and void; and ...</td>\n",
       "      <td>Genesis</td>\n",
       "      <td>OT</td>\n",
       "      <td>01</td>\n",
       "      <td>Law</td>\n",
       "      <td>29</td>\n",
       "    </tr>\n",
       "    <tr>\n",
       "      <th>2</th>\n",
       "      <td>01001003</td>\n",
       "      <td>1</td>\n",
       "      <td>1</td>\n",
       "      <td>3</td>\n",
       "      <td>And God said, Let there be light: and there wa...</td>\n",
       "      <td>Genesis</td>\n",
       "      <td>OT</td>\n",
       "      <td>01</td>\n",
       "      <td>Law</td>\n",
       "      <td>11</td>\n",
       "    </tr>\n",
       "    <tr>\n",
       "      <th>3</th>\n",
       "      <td>01001004</td>\n",
       "      <td>1</td>\n",
       "      <td>1</td>\n",
       "      <td>4</td>\n",
       "      <td>And God saw the light, that it was good: and G...</td>\n",
       "      <td>Genesis</td>\n",
       "      <td>OT</td>\n",
       "      <td>01</td>\n",
       "      <td>Law</td>\n",
       "      <td>17</td>\n",
       "    </tr>\n",
       "    <tr>\n",
       "      <th>4</th>\n",
       "      <td>01001005</td>\n",
       "      <td>1</td>\n",
       "      <td>1</td>\n",
       "      <td>5</td>\n",
       "      <td>And God called the light Day, and the darkness...</td>\n",
       "      <td>Genesis</td>\n",
       "      <td>OT</td>\n",
       "      <td>01</td>\n",
       "      <td>Law</td>\n",
       "      <td>22</td>\n",
       "    </tr>\n",
       "  </tbody>\n",
       "</table>\n",
       "</div>"
      ],
      "text/plain": [
       "         id  booknum  chnum  versenum  \\\n",
       "0  01001001        1      1         1   \n",
       "1  01001002        1      1         2   \n",
       "2  01001003        1      1         3   \n",
       "3  01001004        1      1         4   \n",
       "4  01001005        1      1         5   \n",
       "\n",
       "                                                text bookname testament  \\\n",
       "0  In the beginning God created the heaven and th...  Genesis        OT   \n",
       "1  And the earth was without form, and void; and ...  Genesis        OT   \n",
       "2  And God said, Let there be light: and there wa...  Genesis        OT   \n",
       "3  And God saw the light, that it was good: and G...  Genesis        OT   \n",
       "4  And God called the light Day, and the darkness...  Genesis        OT   \n",
       "\n",
       "  bookpad genre  wordcount  \n",
       "0      01   Law         10  \n",
       "1      01   Law         29  \n",
       "2      01   Law         11  \n",
       "3      01   Law         17  \n",
       "4      01   Law         22  "
      ]
     },
     "execution_count": 501,
     "metadata": {},
     "output_type": "execute_result"
    }
   ],
   "source": [
    "# remove text arrays for export to file\n",
    "temparr_df = tweb.drop(['versearr','sversearr'],axis=1)\n",
    "temparr_df.head()"
   ]
  },
  {
   "cell_type": "code",
   "execution_count": null,
   "metadata": {
    "collapsed": true
   },
   "outputs": [],
   "source": []
  },
  {
   "cell_type": "markdown",
   "metadata": {
    "deletable": true,
    "editable": true
   },
   "source": [
    "### Export main verse data to tsv"
   ]
  },
  {
   "cell_type": "code",
   "execution_count": 502,
   "metadata": {
    "collapsed": true,
    "deletable": true,
    "editable": true
   },
   "outputs": [],
   "source": [
    "#temparr_df.to_csv('twebdata.tsv',sep='\\t')\n",
    "temparr_df.to_csv('kjvdata.tsv',sep='\\t')"
   ]
  },
  {
   "cell_type": "code",
   "execution_count": 503,
   "metadata": {
    "collapsed": false,
    "deletable": true,
    "editable": true
   },
   "outputs": [],
   "source": [
    "#wdf = pd.DataFrame(sWords)"
   ]
  },
  {
   "cell_type": "code",
   "execution_count": 504,
   "metadata": {
    "collapsed": false,
    "deletable": true,
    "editable": true
   },
   "outputs": [],
   "source": [
    "#wdf.columns = ['words']\n",
    "#wdf.head()"
   ]
  },
  {
   "cell_type": "code",
   "execution_count": 505,
   "metadata": {
    "collapsed": false,
    "deletable": true,
    "editable": true
   },
   "outputs": [
    {
     "data": {
      "text/html": [
       "<div>\n",
       "<table border=\"1\" class=\"dataframe\">\n",
       "  <thead>\n",
       "    <tr style=\"text-align: right;\">\n",
       "      <th></th>\n",
       "      <th>0</th>\n",
       "    </tr>\n",
       "  </thead>\n",
       "  <tbody>\n",
       "    <tr>\n",
       "      <th>0</th>\n",
       "      <td>beginning</td>\n",
       "    </tr>\n",
       "    <tr>\n",
       "      <th>1</th>\n",
       "      <td>god</td>\n",
       "    </tr>\n",
       "    <tr>\n",
       "      <th>2</th>\n",
       "      <td>created</td>\n",
       "    </tr>\n",
       "    <tr>\n",
       "      <th>3</th>\n",
       "      <td>heaven</td>\n",
       "    </tr>\n",
       "    <tr>\n",
       "      <th>4</th>\n",
       "      <td>earth</td>\n",
       "    </tr>\n",
       "  </tbody>\n",
       "</table>\n",
       "</div>"
      ],
      "text/plain": [
       "           0\n",
       "0  beginning\n",
       "1        god\n",
       "2    created\n",
       "3     heaven\n",
       "4      earth"
      ]
     },
     "execution_count": 505,
     "metadata": {},
     "output_type": "execute_result"
    }
   ],
   "source": [
    "uwdf = pd.DataFrame(uwords)\n",
    "uwdf.head()"
   ]
  },
  {
   "cell_type": "code",
   "execution_count": 506,
   "metadata": {
    "collapsed": false,
    "deletable": true,
    "editable": true
   },
   "outputs": [],
   "source": [
    "#wdf['vlocations'] = [[tweb.iloc[el]['id'] for i,el in enumerate(tweb) if x in el['sversearr']] for x in sWords]"
   ]
  },
  {
   "cell_type": "code",
   "execution_count": 507,
   "metadata": {
    "collapsed": false,
    "deletable": true,
    "editable": true
   },
   "outputs": [
    {
     "data": {
      "text/plain": [
       "31103"
      ]
     },
     "execution_count": 507,
     "metadata": {},
     "output_type": "execute_result"
    }
   ],
   "source": [
    "len(tweb)"
   ]
  },
  {
   "cell_type": "code",
   "execution_count": 508,
   "metadata": {
    "collapsed": false,
    "deletable": true,
    "editable": true
   },
   "outputs": [],
   "source": [
    "wordmat = tweb['sversearr']\n",
    "wordlists = []\n",
    "for i in wordmat:\n",
    "    wordlists = wordlists+i"
   ]
  },
  {
   "cell_type": "code",
   "execution_count": 509,
   "metadata": {
    "collapsed": false,
    "deletable": true,
    "editable": true
   },
   "outputs": [],
   "source": [
    "#wordlists"
   ]
  },
  {
   "cell_type": "code",
   "execution_count": 510,
   "metadata": {
    "collapsed": false,
    "deletable": true,
    "editable": true
   },
   "outputs": [],
   "source": [
    "wordlocs = []\n",
    "for i in uwords:\n",
    "    wlocs = []\n",
    "    for j,el in enumerate(wordmat):\n",
    "        if i in el:\n",
    "            wlocs.append(j)\n",
    "    wordlocs.append(wlocs)\n",
    "            "
   ]
  },
  {
   "cell_type": "code",
   "execution_count": 511,
   "metadata": {
    "collapsed": false,
    "deletable": true,
    "editable": true
   },
   "outputs": [],
   "source": [
    "#wordlocs\n",
    "#[print(i) for i in tweb['id'][:3000]]"
   ]
  },
  {
   "cell_type": "code",
   "execution_count": 512,
   "metadata": {
    "collapsed": false,
    "deletable": true,
    "editable": true
   },
   "outputs": [
    {
     "data": {
      "text/plain": [
       "\"\\ndef addlocations(ls):\\n    locations = []\\n    for i in uwords:\\n        wlocs = []\\n        for j in range(len(ls)):\\n            if i in ls.iloc[j]['sversearr']:\\n                wlocs.append(ls.iloc[j]['id'])\\n                #print(i)\\n    locations.append(wlocs)\\n    return locations\\n    \\nlocmat[0]\\n\""
      ]
     },
     "execution_count": 512,
     "metadata": {},
     "output_type": "execute_result"
    }
   ],
   "source": [
    "'''\n",
    "def addlocations(ls):\n",
    "    locations = []\n",
    "    for i in uwords:\n",
    "        wlocs = []\n",
    "        for j in range(len(ls)):\n",
    "            if i in ls.iloc[j]['sversearr']:\n",
    "                wlocs.append(ls.iloc[j]['id'])\n",
    "                #print(i)\n",
    "    locations.append(wlocs)\n",
    "    return locations\n",
    "    \n",
    "locmat[0]\n",
    "'''"
   ]
  },
  {
   "cell_type": "code",
   "execution_count": 513,
   "metadata": {
    "collapsed": true,
    "deletable": true,
    "editable": true
   },
   "outputs": [],
   "source": [
    "wordids = []\n",
    "for i in wordlocs:\n",
    "    ids = []\n",
    "    for j in i:\n",
    "        ids.append(tweb.iloc[j]['id'])\n",
    "    wordids.append(ids)"
   ]
  },
  {
   "cell_type": "code",
   "execution_count": 514,
   "metadata": {
    "collapsed": false,
    "deletable": true,
    "editable": true
   },
   "outputs": [
    {
     "data": {
      "text/plain": [
       "['01001001',\n",
       " '01010010',\n",
       " '01013003',\n",
       " '01041021',\n",
       " '01049003',\n",
       " '02012002',\n",
       " '05011012',\n",
       " '05021017',\n",
       " '05032042',\n",
       " '07007019',\n",
       " '08001022',\n",
       " '08003010',\n",
       " '10021009',\n",
       " '10021010',\n",
       " '12017025',\n",
       " '13017009',\n",
       " '15004006',\n",
       " '18008007',\n",
       " '18042012',\n",
       " '19111010']"
      ]
     },
     "execution_count": 514,
     "metadata": {},
     "output_type": "execute_result"
    }
   ],
   "source": [
    "wordids[0][0:20]"
   ]
  },
  {
   "cell_type": "code",
   "execution_count": 515,
   "metadata": {
    "collapsed": false,
    "deletable": true,
    "editable": true
   },
   "outputs": [
    {
     "data": {
      "text/html": [
       "<div>\n",
       "<table border=\"1\" class=\"dataframe\">\n",
       "  <thead>\n",
       "    <tr style=\"text-align: right;\">\n",
       "      <th></th>\n",
       "      <th>uwords</th>\n",
       "      <th>wlocations</th>\n",
       "    </tr>\n",
       "  </thead>\n",
       "  <tbody>\n",
       "    <tr>\n",
       "      <th>0</th>\n",
       "      <td>beginning</td>\n",
       "      <td>[01001001, 01010010, 01013003, 01041021, 01049...</td>\n",
       "    </tr>\n",
       "    <tr>\n",
       "      <th>1</th>\n",
       "      <td>god</td>\n",
       "      <td>[01001001, 01001002, 01001003, 01001004, 01001...</td>\n",
       "    </tr>\n",
       "    <tr>\n",
       "      <th>2</th>\n",
       "      <td>created</td>\n",
       "      <td>[01001001, 01001021, 01001027, 01002003, 01002...</td>\n",
       "    </tr>\n",
       "    <tr>\n",
       "      <th>3</th>\n",
       "      <td>heaven</td>\n",
       "      <td>[01001001, 01001008, 01001009, 01001014, 01001...</td>\n",
       "    </tr>\n",
       "    <tr>\n",
       "      <th>4</th>\n",
       "      <td>earth</td>\n",
       "      <td>[01001001, 01001002, 01001010, 01001011, 01001...</td>\n",
       "    </tr>\n",
       "  </tbody>\n",
       "</table>\n",
       "</div>"
      ],
      "text/plain": [
       "      uwords                                         wlocations\n",
       "0  beginning  [01001001, 01010010, 01013003, 01041021, 01049...\n",
       "1        god  [01001001, 01001002, 01001003, 01001004, 01001...\n",
       "2    created  [01001001, 01001021, 01001027, 01002003, 01002...\n",
       "3     heaven  [01001001, 01001008, 01001009, 01001014, 01001...\n",
       "4      earth  [01001001, 01001002, 01001010, 01001011, 01001..."
      ]
     },
     "execution_count": 515,
     "metadata": {},
     "output_type": "execute_result"
    }
   ],
   "source": [
    "uwdf['wlocations'] = wordids\n",
    "uwdf.columns = ['uwords','wlocations']\n",
    "uwdf.head()"
   ]
  },
  {
   "cell_type": "code",
   "execution_count": 516,
   "metadata": {
    "collapsed": false
   },
   "outputs": [],
   "source": [
    "\n",
    "def getbookcounts(d):\n",
    "    narr = []\n",
    "    for j in key['bookpad']:\n",
    "        counter = 0\n",
    "        for i in d:\n",
    "            if str(i)[:2] == j:\n",
    "                counter+=1\n",
    "        narr.append(counter)\n",
    "    return narr"
   ]
  },
  {
   "cell_type": "code",
   "execution_count": 517,
   "metadata": {
    "collapsed": false
   },
   "outputs": [],
   "source": [
    "bookc = uwdf['wlocations'].apply(getbookcounts)\n",
    "#bookc.head()"
   ]
  },
  {
   "cell_type": "code",
   "execution_count": 518,
   "metadata": {
    "collapsed": false
   },
   "outputs": [
    {
     "data": {
      "text/plain": [
       "0    [5, 1, 0, 0, 3, 0, 1, 2, 0, 2, 0, 1, 1, 0, 1, ...\n",
       "1    [202, 95, 48, 33, 298, 63, 55, 2, 87, 59, 84, ...\n",
       "2    [8, 0, 0, 0, 1, 0, 0, 0, 0, 0, 0, 0, 0, 0, 0, ...\n",
       "3    [29, 14, 1, 0, 34, 4, 3, 0, 2, 4, 15, 14, 3, 2...\n",
       "4    [97, 20, 9, 10, 36, 9, 5, 0, 17, 17, 16, 5, 13...\n",
       "Name: wlocations, dtype: object"
      ]
     },
     "execution_count": 518,
     "metadata": {},
     "output_type": "execute_result"
    }
   ],
   "source": [
    "bookc.head()"
   ]
  },
  {
   "cell_type": "code",
   "execution_count": 519,
   "metadata": {
    "collapsed": true
   },
   "outputs": [],
   "source": [
    "uwdf['bookcounts'] = bookc\n"
   ]
  },
  {
   "cell_type": "code",
   "execution_count": 520,
   "metadata": {
    "collapsed": false
   },
   "outputs": [
    {
     "data": {
      "text/html": [
       "<div>\n",
       "<table border=\"1\" class=\"dataframe\">\n",
       "  <thead>\n",
       "    <tr style=\"text-align: right;\">\n",
       "      <th></th>\n",
       "      <th>uwords</th>\n",
       "      <th>wlocations</th>\n",
       "      <th>bookcounts</th>\n",
       "    </tr>\n",
       "  </thead>\n",
       "  <tbody>\n",
       "    <tr>\n",
       "      <th>0</th>\n",
       "      <td>beginning</td>\n",
       "      <td>[01001001, 01010010, 01013003, 01041021, 01049...</td>\n",
       "      <td>[5, 1, 0, 0, 3, 0, 1, 2, 0, 2, 0, 1, 1, 0, 1, ...</td>\n",
       "    </tr>\n",
       "    <tr>\n",
       "      <th>1</th>\n",
       "      <td>god</td>\n",
       "      <td>[01001001, 01001002, 01001003, 01001004, 01001...</td>\n",
       "      <td>[202, 95, 48, 33, 298, 63, 55, 2, 87, 59, 84, ...</td>\n",
       "    </tr>\n",
       "    <tr>\n",
       "      <th>2</th>\n",
       "      <td>created</td>\n",
       "      <td>[01001001, 01001021, 01001027, 01002003, 01002...</td>\n",
       "      <td>[8, 0, 0, 0, 1, 0, 0, 0, 0, 0, 0, 0, 0, 0, 0, ...</td>\n",
       "    </tr>\n",
       "    <tr>\n",
       "      <th>3</th>\n",
       "      <td>heaven</td>\n",
       "      <td>[01001001, 01001008, 01001009, 01001014, 01001...</td>\n",
       "      <td>[29, 14, 1, 0, 34, 4, 3, 0, 2, 4, 15, 14, 3, 2...</td>\n",
       "    </tr>\n",
       "    <tr>\n",
       "      <th>4</th>\n",
       "      <td>earth</td>\n",
       "      <td>[01001001, 01001002, 01001010, 01001011, 01001...</td>\n",
       "      <td>[97, 20, 9, 10, 36, 9, 5, 0, 17, 17, 16, 5, 13...</td>\n",
       "    </tr>\n",
       "  </tbody>\n",
       "</table>\n",
       "</div>"
      ],
      "text/plain": [
       "      uwords                                         wlocations  \\\n",
       "0  beginning  [01001001, 01010010, 01013003, 01041021, 01049...   \n",
       "1        god  [01001001, 01001002, 01001003, 01001004, 01001...   \n",
       "2    created  [01001001, 01001021, 01001027, 01002003, 01002...   \n",
       "3     heaven  [01001001, 01001008, 01001009, 01001014, 01001...   \n",
       "4      earth  [01001001, 01001002, 01001010, 01001011, 01001...   \n",
       "\n",
       "                                          bookcounts  \n",
       "0  [5, 1, 0, 0, 3, 0, 1, 2, 0, 2, 0, 1, 1, 0, 1, ...  \n",
       "1  [202, 95, 48, 33, 298, 63, 55, 2, 87, 59, 84, ...  \n",
       "2  [8, 0, 0, 0, 1, 0, 0, 0, 0, 0, 0, 0, 0, 0, 0, ...  \n",
       "3  [29, 14, 1, 0, 34, 4, 3, 0, 2, 4, 15, 14, 3, 2...  \n",
       "4  [97, 20, 9, 10, 36, 9, 5, 0, 17, 17, 16, 5, 13...  "
      ]
     },
     "execution_count": 520,
     "metadata": {},
     "output_type": "execute_result"
    }
   ],
   "source": [
    "uwdf.head()"
   ]
  },
  {
   "cell_type": "code",
   "execution_count": 521,
   "metadata": {
    "collapsed": false
   },
   "outputs": [
    {
     "name": "stdout",
     "output_type": "stream",
     "text": [
      "['01001001', '01010010', '01013003', '01041021', '01049003', '02012002', '05011012', '05021017', '05032042', '07007019', '08001022', '08003010', '10021009', '10021010', '12017025', '13017009', '15004006', '18008007', '18042012', '19111010', '19119160', '20001007', '20008022', '20008023', '20009010', '20017014', '20020021', '21003011', '21007008', '21010013', '23001026', '23018002', '23018007', '23040021', '23041004', '23041026', '23046010', '23048003', '23048005', '23048007', '23048016', '23064004', '24017012', '24026001', '24027001', '24028001', '24049034', '25002019', '26040001', '27009021', '27009023', '28001002', '30007001', '33001013', '40014030', '40019004', '40019008', '40020008', '40024008', '40024021', '41001001', '41010006', '41013019', '42001002', '42023005', '42024027', '42024047', '43001001', '43001002', '43002010', '43002011', '43006064', '43008009', '43008025', '43008044', '43015027', '43016004', '44001022', '44011004', '44011015', '44015018', '44026005', '49003009', '50004015', '51001018', '53002013', '58001010', '58003014', '58007003', '61002020', '61003004', '62001001', '62002007', '62002013', '62002014', '62002024', '62003008', '62003011', '63001005', '63001006', '66001008', '66003014', '66021006', '66022013']\n"
     ]
    }
   ],
   "source": [
    "print(uwdf.wlocations[0])\n"
   ]
  },
  {
   "cell_type": "code",
   "execution_count": null,
   "metadata": {
    "collapsed": true
   },
   "outputs": [],
   "source": []
  },
  {
   "cell_type": "code",
   "execution_count": null,
   "metadata": {
    "collapsed": true
   },
   "outputs": [],
   "source": []
  },
  {
   "cell_type": "code",
   "execution_count": 522,
   "metadata": {
    "collapsed": true,
    "deletable": true,
    "editable": true
   },
   "outputs": [],
   "source": [
    "#uwdf.to_csv('wordlocs.tsv',sep='\\t')\n",
    "uwdf.to_csv('wordlocs_kjv.tsv',sep='\\t')"
   ]
  },
  {
   "cell_type": "code",
   "execution_count": null,
   "metadata": {
    "collapsed": true,
    "deletable": true,
    "editable": true
   },
   "outputs": [],
   "source": []
  },
  {
   "cell_type": "code",
   "execution_count": 523,
   "metadata": {
    "collapsed": false,
    "deletable": true,
    "editable": true
   },
   "outputs": [],
   "source": [
    "#locmat = addlocations(tweb)"
   ]
  },
  {
   "cell_type": "code",
   "execution_count": 524,
   "metadata": {
    "collapsed": true,
    "deletable": true,
    "editable": true
   },
   "outputs": [],
   "source": [
    "#locmat"
   ]
  },
  {
   "cell_type": "markdown",
   "metadata": {
    "deletable": true,
    "editable": true
   },
   "source": [
    "### Using similar method as plotting counts with groupby to create a new dataset with rows for each book rather than verses."
   ]
  },
  {
   "cell_type": "code",
   "execution_count": 525,
   "metadata": {
    "collapsed": false,
    "deletable": true,
    "editable": true
   },
   "outputs": [
    {
     "data": {
      "text/html": [
       "<div>\n",
       "<table border=\"1\" class=\"dataframe\">\n",
       "  <thead>\n",
       "    <tr style=\"text-align: right;\">\n",
       "      <th></th>\n",
       "      <th>bookname</th>\n",
       "      <th>booknum</th>\n",
       "      <th>chnum</th>\n",
       "      <th>versenum</th>\n",
       "      <th>wordcount</th>\n",
       "    </tr>\n",
       "  </thead>\n",
       "  <tbody>\n",
       "    <tr>\n",
       "      <th>0</th>\n",
       "      <td>Genesis</td>\n",
       "      <td>1533</td>\n",
       "      <td>41015</td>\n",
       "      <td>26798</td>\n",
       "      <td>38524</td>\n",
       "    </tr>\n",
       "    <tr>\n",
       "      <th>1</th>\n",
       "      <td>Exodus</td>\n",
       "      <td>2426</td>\n",
       "      <td>26273</td>\n",
       "      <td>20462</td>\n",
       "      <td>32769</td>\n",
       "    </tr>\n",
       "    <tr>\n",
       "      <th>2</th>\n",
       "      <td>Leviticus</td>\n",
       "      <td>2577</td>\n",
       "      <td>13040</td>\n",
       "      <td>16412</td>\n",
       "      <td>24629</td>\n",
       "    </tr>\n",
       "    <tr>\n",
       "      <th>3</th>\n",
       "      <td>Numbers</td>\n",
       "      <td>5152</td>\n",
       "      <td>22738</td>\n",
       "      <td>28038</td>\n",
       "      <td>32945</td>\n",
       "    </tr>\n",
       "    <tr>\n",
       "      <th>4</th>\n",
       "      <td>Deuteronomy</td>\n",
       "      <td>4795</td>\n",
       "      <td>16370</td>\n",
       "      <td>16071</td>\n",
       "      <td>28402</td>\n",
       "    </tr>\n",
       "  </tbody>\n",
       "</table>\n",
       "</div>"
      ],
      "text/plain": [
       "      bookname  booknum  chnum  versenum  wordcount\n",
       "0      Genesis     1533  41015     26798      38524\n",
       "1       Exodus     2426  26273     20462      32769\n",
       "2    Leviticus     2577  13040     16412      24629\n",
       "3      Numbers     5152  22738     28038      32945\n",
       "4  Deuteronomy     4795  16370     16071      28402"
      ]
     },
     "execution_count": 525,
     "metadata": {},
     "output_type": "execute_result"
    }
   ],
   "source": [
    "wordsum = []\n",
    "df = tweb.groupby('bookname',sort=False).sum()\n",
    "df = df.reset_index()\n",
    "df.head()\n"
   ]
  },
  {
   "cell_type": "code",
   "execution_count": 526,
   "metadata": {
    "collapsed": false,
    "deletable": true,
    "editable": true
   },
   "outputs": [
    {
     "ename": "ValueError",
     "evalue": "labels ['id'] not contained in axis",
     "output_type": "error",
     "traceback": [
      "\u001b[0;31m---------------------------------------------------------------------------\u001b[0m",
      "\u001b[0;31mValueError\u001b[0m                                Traceback (most recent call last)",
      "\u001b[0;32m<ipython-input-526-960728216a6c>\u001b[0m in \u001b[0;36m<module>\u001b[0;34m()\u001b[0m\n\u001b[0;32m----> 1\u001b[0;31m \u001b[0mdf\u001b[0m\u001b[0;34m.\u001b[0m\u001b[0mdrop\u001b[0m\u001b[0;34m(\u001b[0m\u001b[0;34m[\u001b[0m\u001b[0;34m'id'\u001b[0m\u001b[0;34m,\u001b[0m\u001b[0;34m'booknum'\u001b[0m\u001b[0;34m,\u001b[0m\u001b[0;34m'chnum'\u001b[0m\u001b[0;34m,\u001b[0m\u001b[0;34m'versenum'\u001b[0m\u001b[0;34m]\u001b[0m\u001b[0;34m,\u001b[0m\u001b[0maxis\u001b[0m\u001b[0;34m=\u001b[0m\u001b[0;36m1\u001b[0m\u001b[0;34m,\u001b[0m\u001b[0minplace\u001b[0m\u001b[0;34m=\u001b[0m\u001b[0;32mTrue\u001b[0m\u001b[0;34m)\u001b[0m\u001b[0;34m\u001b[0m\u001b[0m\n\u001b[0m",
      "\u001b[0;32m/usr/lib/python3.6/site-packages/pandas/core/generic.py\u001b[0m in \u001b[0;36mdrop\u001b[0;34m(self, labels, axis, level, inplace, errors)\u001b[0m\n\u001b[1;32m   1905\u001b[0m                 \u001b[0mnew_axis\u001b[0m \u001b[0;34m=\u001b[0m \u001b[0maxis\u001b[0m\u001b[0;34m.\u001b[0m\u001b[0mdrop\u001b[0m\u001b[0;34m(\u001b[0m\u001b[0mlabels\u001b[0m\u001b[0;34m,\u001b[0m \u001b[0mlevel\u001b[0m\u001b[0;34m=\u001b[0m\u001b[0mlevel\u001b[0m\u001b[0;34m,\u001b[0m \u001b[0merrors\u001b[0m\u001b[0;34m=\u001b[0m\u001b[0merrors\u001b[0m\u001b[0;34m)\u001b[0m\u001b[0;34m\u001b[0m\u001b[0m\n\u001b[1;32m   1906\u001b[0m             \u001b[0;32melse\u001b[0m\u001b[0;34m:\u001b[0m\u001b[0;34m\u001b[0m\u001b[0m\n\u001b[0;32m-> 1907\u001b[0;31m                 \u001b[0mnew_axis\u001b[0m \u001b[0;34m=\u001b[0m \u001b[0maxis\u001b[0m\u001b[0;34m.\u001b[0m\u001b[0mdrop\u001b[0m\u001b[0;34m(\u001b[0m\u001b[0mlabels\u001b[0m\u001b[0;34m,\u001b[0m \u001b[0merrors\u001b[0m\u001b[0;34m=\u001b[0m\u001b[0merrors\u001b[0m\u001b[0;34m)\u001b[0m\u001b[0;34m\u001b[0m\u001b[0m\n\u001b[0m\u001b[1;32m   1908\u001b[0m             \u001b[0mdropped\u001b[0m \u001b[0;34m=\u001b[0m \u001b[0mself\u001b[0m\u001b[0;34m.\u001b[0m\u001b[0mreindex\u001b[0m\u001b[0;34m(\u001b[0m\u001b[0;34m**\u001b[0m\u001b[0;34m{\u001b[0m\u001b[0maxis_name\u001b[0m\u001b[0;34m:\u001b[0m \u001b[0mnew_axis\u001b[0m\u001b[0;34m}\u001b[0m\u001b[0;34m)\u001b[0m\u001b[0;34m\u001b[0m\u001b[0m\n\u001b[1;32m   1909\u001b[0m             \u001b[0;32mtry\u001b[0m\u001b[0;34m:\u001b[0m\u001b[0;34m\u001b[0m\u001b[0m\n",
      "\u001b[0;32m/usr/lib/python3.6/site-packages/pandas/indexes/base.py\u001b[0m in \u001b[0;36mdrop\u001b[0;34m(self, labels, errors)\u001b[0m\n\u001b[1;32m   3260\u001b[0m             \u001b[0;32mif\u001b[0m \u001b[0merrors\u001b[0m \u001b[0;34m!=\u001b[0m \u001b[0;34m'ignore'\u001b[0m\u001b[0;34m:\u001b[0m\u001b[0;34m\u001b[0m\u001b[0m\n\u001b[1;32m   3261\u001b[0m                 raise ValueError('labels %s not contained in axis' %\n\u001b[0;32m-> 3262\u001b[0;31m                                  labels[mask])\n\u001b[0m\u001b[1;32m   3263\u001b[0m             \u001b[0mindexer\u001b[0m \u001b[0;34m=\u001b[0m \u001b[0mindexer\u001b[0m\u001b[0;34m[\u001b[0m\u001b[0;34m~\u001b[0m\u001b[0mmask\u001b[0m\u001b[0;34m]\u001b[0m\u001b[0;34m\u001b[0m\u001b[0m\n\u001b[1;32m   3264\u001b[0m         \u001b[0;32mreturn\u001b[0m \u001b[0mself\u001b[0m\u001b[0;34m.\u001b[0m\u001b[0mdelete\u001b[0m\u001b[0;34m(\u001b[0m\u001b[0mindexer\u001b[0m\u001b[0;34m)\u001b[0m\u001b[0;34m\u001b[0m\u001b[0m\n",
      "\u001b[0;31mValueError\u001b[0m: labels ['id'] not contained in axis"
     ]
    }
   ],
   "source": [
    "df.drop(['id','booknum','chnum','versenum'],axis=1,inplace=True)"
   ]
  },
  {
   "cell_type": "code",
   "execution_count": 527,
   "metadata": {
    "collapsed": false,
    "deletable": true,
    "editable": true
   },
   "outputs": [
    {
     "data": {
      "text/plain": [
       "range(0, 66)"
      ]
     },
     "execution_count": 527,
     "metadata": {},
     "output_type": "execute_result"
    }
   ],
   "source": [
    "range(len(df))"
   ]
  },
  {
   "cell_type": "markdown",
   "metadata": {
    "deletable": true,
    "editable": true
   },
   "source": [
    "### Function to be applied to verse data set (tweb) iteratively to create a separate data frame of verses for each book and store them in a list. "
   ]
  },
  {
   "cell_type": "code",
   "execution_count": 528,
   "metadata": {
    "collapsed": false,
    "deletable": true,
    "editable": true
   },
   "outputs": [],
   "source": [
    "def splitbybook(data,num):\n",
    "    book = data[data['booknum'] == num]\n",
    "    return book"
   ]
  },
  {
   "cell_type": "markdown",
   "metadata": {
    "deletable": true,
    "editable": true
   },
   "source": [
    "### Applies splitbybook function in a loop using index of book data set to aggregate verses matching each book"
   ]
  },
  {
   "cell_type": "code",
   "execution_count": 529,
   "metadata": {
    "collapsed": true,
    "deletable": true,
    "editable": true
   },
   "outputs": [],
   "source": [
    "booklist = []\n",
    "for i in range(len(df)):\n",
    "    booklist.append(splitbybook(tweb,i+1))\n"
   ]
  },
  {
   "cell_type": "code",
   "execution_count": 530,
   "metadata": {
    "collapsed": false,
    "deletable": true,
    "editable": true
   },
   "outputs": [
    {
     "data": {
      "text/plain": [
       "id                                                    66022021\n",
       "booknum                                                     66\n",
       "chnum                                                       22\n",
       "versenum                                                    21\n",
       "text         The grace of our Lord Jesus Christ be with you...\n",
       "bookname                                            Revelation\n",
       "testament                                                   NT\n",
       "bookpad                                                     66\n",
       "genre                                              Apocalyptic\n",
       "versearr     [The, grace, of, our, Lord, Jesus, Christ, be,...\n",
       "sversearr                   [grace, lord, jesus, christ, amen]\n",
       "wordcount                                                   12\n",
       "Name: 31102, dtype: object"
      ]
     },
     "execution_count": 530,
     "metadata": {},
     "output_type": "execute_result"
    }
   ],
   "source": [
    "booklist[-1].iloc[-1]"
   ]
  },
  {
   "cell_type": "markdown",
   "metadata": {
    "deletable": true,
    "editable": true
   },
   "source": [
    "### looping through list of book dataframes grabbing the chapter number of the last element in each to create a column of number of chapters in book dataframe"
   ]
  },
  {
   "cell_type": "code",
   "execution_count": 531,
   "metadata": {
    "collapsed": false,
    "deletable": true,
    "editable": true
   },
   "outputs": [
    {
     "data": {
      "text/html": [
       "<div>\n",
       "<table border=\"1\" class=\"dataframe\">\n",
       "  <thead>\n",
       "    <tr style=\"text-align: right;\">\n",
       "      <th></th>\n",
       "      <th>bookname</th>\n",
       "      <th>booknum</th>\n",
       "      <th>chnum</th>\n",
       "      <th>versenum</th>\n",
       "      <th>wordcount</th>\n",
       "      <th>chaptercount</th>\n",
       "    </tr>\n",
       "  </thead>\n",
       "  <tbody>\n",
       "    <tr>\n",
       "      <th>0</th>\n",
       "      <td>Genesis</td>\n",
       "      <td>1533</td>\n",
       "      <td>41015</td>\n",
       "      <td>26798</td>\n",
       "      <td>38524</td>\n",
       "      <td>50</td>\n",
       "    </tr>\n",
       "    <tr>\n",
       "      <th>1</th>\n",
       "      <td>Exodus</td>\n",
       "      <td>2426</td>\n",
       "      <td>26273</td>\n",
       "      <td>20462</td>\n",
       "      <td>32769</td>\n",
       "      <td>40</td>\n",
       "    </tr>\n",
       "    <tr>\n",
       "      <th>2</th>\n",
       "      <td>Leviticus</td>\n",
       "      <td>2577</td>\n",
       "      <td>13040</td>\n",
       "      <td>16412</td>\n",
       "      <td>24629</td>\n",
       "      <td>27</td>\n",
       "    </tr>\n",
       "    <tr>\n",
       "      <th>3</th>\n",
       "      <td>Numbers</td>\n",
       "      <td>5152</td>\n",
       "      <td>22738</td>\n",
       "      <td>28038</td>\n",
       "      <td>32945</td>\n",
       "      <td>36</td>\n",
       "    </tr>\n",
       "    <tr>\n",
       "      <th>4</th>\n",
       "      <td>Deuteronomy</td>\n",
       "      <td>4795</td>\n",
       "      <td>16370</td>\n",
       "      <td>16071</td>\n",
       "      <td>28402</td>\n",
       "      <td>34</td>\n",
       "    </tr>\n",
       "  </tbody>\n",
       "</table>\n",
       "</div>"
      ],
      "text/plain": [
       "      bookname  booknum  chnum  versenum  wordcount  chaptercount\n",
       "0      Genesis     1533  41015     26798      38524            50\n",
       "1       Exodus     2426  26273     20462      32769            40\n",
       "2    Leviticus     2577  13040     16412      24629            27\n",
       "3      Numbers     5152  22738     28038      32945            36\n",
       "4  Deuteronomy     4795  16370     16071      28402            34"
      ]
     },
     "execution_count": 531,
     "metadata": {},
     "output_type": "execute_result"
    }
   ],
   "source": [
    "df['chaptercount'] = [i.iloc[-1]['chnum'] for i in booklist]\n",
    "df.head()"
   ]
  },
  {
   "cell_type": "code",
   "execution_count": 532,
   "metadata": {
    "collapsed": false,
    "deletable": true,
    "editable": true
   },
   "outputs": [
    {
     "data": {
      "text/plain": [
       "array([ 1,  2,  3,  4,  5,  6,  7,  8,  9, 10, 11, 12, 13, 14, 15, 16, 17,\n",
       "       18, 19, 20, 21, 22, 23, 24, 25, 26, 27, 28, 29, 30, 31, 32, 33, 34,\n",
       "       35, 36, 37, 38, 39, 40, 41, 42, 43, 44, 45, 46, 47, 48, 49, 50])"
      ]
     },
     "execution_count": 532,
     "metadata": {},
     "output_type": "execute_result"
    }
   ],
   "source": [
    "pd.unique(booklist[0]['chnum'])"
   ]
  },
  {
   "cell_type": "code",
   "execution_count": 533,
   "metadata": {
    "collapsed": false,
    "deletable": true,
    "editable": true
   },
   "outputs": [
    {
     "data": {
      "text/plain": [
       "31103"
      ]
     },
     "execution_count": 533,
     "metadata": {},
     "output_type": "execute_result"
    }
   ],
   "source": [
    "len(tweb)"
   ]
  },
  {
   "cell_type": "markdown",
   "metadata": {
    "deletable": true,
    "editable": true
   },
   "source": [
    "### A more functional approach to getting counts of verses in each chapter\n",
    "#### Using chaptercounts calculated prior as an counter reset to loop through verses for chapters creating a matrix of verse counts for each chapter in each book"
   ]
  },
  {
   "cell_type": "code",
   "execution_count": 534,
   "metadata": {
    "collapsed": false,
    "deletable": true,
    "editable": true
   },
   "outputs": [],
   "source": [
    "versecountlist = []\n",
    "pos = 0\n",
    "for i in df.chaptercount:\n",
    "    versecounts = []\n",
    "    for j in range(1,i+1):\n",
    "        counter = 0\n",
    "        while tweb.iloc[pos]['chnum'] <= i:\n",
    "            if tweb.iloc[pos]['chnum'] == j:\n",
    "                pos+=1\n",
    "                counter+=1\n",
    "            else: \n",
    "                break\n",
    "            if pos > len(tweb)-1:break\n",
    "        versecounts.append(counter)\n",
    "    versecountlist.append(versecounts)\n",
    "\n",
    "            \n",
    "        "
   ]
  },
  {
   "cell_type": "code",
   "execution_count": 535,
   "metadata": {
    "collapsed": false,
    "deletable": true,
    "editable": true
   },
   "outputs": [],
   "source": [
    "#versecountlist"
   ]
  },
  {
   "cell_type": "markdown",
   "metadata": {
    "deletable": true,
    "editable": true
   },
   "source": [
    "### Concatenating versecount matrix to book dataset"
   ]
  },
  {
   "cell_type": "code",
   "execution_count": 536,
   "metadata": {
    "collapsed": false,
    "deletable": true,
    "editable": true
   },
   "outputs": [
    {
     "data": {
      "text/html": [
       "<div>\n",
       "<table border=\"1\" class=\"dataframe\">\n",
       "  <thead>\n",
       "    <tr style=\"text-align: right;\">\n",
       "      <th></th>\n",
       "      <th>bookname</th>\n",
       "      <th>booknum</th>\n",
       "      <th>chnum</th>\n",
       "      <th>versenum</th>\n",
       "      <th>wordcount</th>\n",
       "      <th>chaptercount</th>\n",
       "      <th>versecounts</th>\n",
       "    </tr>\n",
       "  </thead>\n",
       "  <tbody>\n",
       "    <tr>\n",
       "      <th>0</th>\n",
       "      <td>Genesis</td>\n",
       "      <td>1533</td>\n",
       "      <td>41015</td>\n",
       "      <td>26798</td>\n",
       "      <td>38524</td>\n",
       "      <td>50</td>\n",
       "      <td>[31, 25, 24, 26, 32, 22, 24, 22, 29, 32, 32, 2...</td>\n",
       "    </tr>\n",
       "    <tr>\n",
       "      <th>1</th>\n",
       "      <td>Exodus</td>\n",
       "      <td>2426</td>\n",
       "      <td>26273</td>\n",
       "      <td>20462</td>\n",
       "      <td>32769</td>\n",
       "      <td>40</td>\n",
       "      <td>[22, 25, 22, 31, 23, 30, 25, 32, 35, 29, 10, 5...</td>\n",
       "    </tr>\n",
       "    <tr>\n",
       "      <th>2</th>\n",
       "      <td>Leviticus</td>\n",
       "      <td>2577</td>\n",
       "      <td>13040</td>\n",
       "      <td>16412</td>\n",
       "      <td>24629</td>\n",
       "      <td>27</td>\n",
       "      <td>[17, 16, 17, 35, 19, 30, 38, 36, 24, 20, 47, 8...</td>\n",
       "    </tr>\n",
       "    <tr>\n",
       "      <th>3</th>\n",
       "      <td>Numbers</td>\n",
       "      <td>5152</td>\n",
       "      <td>22738</td>\n",
       "      <td>28038</td>\n",
       "      <td>32945</td>\n",
       "      <td>36</td>\n",
       "      <td>[54, 34, 51, 49, 31, 27, 89, 26, 23, 36, 35, 1...</td>\n",
       "    </tr>\n",
       "    <tr>\n",
       "      <th>4</th>\n",
       "      <td>Deuteronomy</td>\n",
       "      <td>4795</td>\n",
       "      <td>16370</td>\n",
       "      <td>16071</td>\n",
       "      <td>28402</td>\n",
       "      <td>34</td>\n",
       "      <td>[46, 37, 29, 49, 33, 25, 26, 20, 29, 22, 32, 3...</td>\n",
       "    </tr>\n",
       "  </tbody>\n",
       "</table>\n",
       "</div>"
      ],
      "text/plain": [
       "      bookname  booknum  chnum  versenum  wordcount  chaptercount  \\\n",
       "0      Genesis     1533  41015     26798      38524            50   \n",
       "1       Exodus     2426  26273     20462      32769            40   \n",
       "2    Leviticus     2577  13040     16412      24629            27   \n",
       "3      Numbers     5152  22738     28038      32945            36   \n",
       "4  Deuteronomy     4795  16370     16071      28402            34   \n",
       "\n",
       "                                         versecounts  \n",
       "0  [31, 25, 24, 26, 32, 22, 24, 22, 29, 32, 32, 2...  \n",
       "1  [22, 25, 22, 31, 23, 30, 25, 32, 35, 29, 10, 5...  \n",
       "2  [17, 16, 17, 35, 19, 30, 38, 36, 24, 20, 47, 8...  \n",
       "3  [54, 34, 51, 49, 31, 27, 89, 26, 23, 36, 35, 1...  \n",
       "4  [46, 37, 29, 49, 33, 25, 26, 20, 29, 22, 32, 3...  "
      ]
     },
     "execution_count": 536,
     "metadata": {},
     "output_type": "execute_result"
    }
   ],
   "source": [
    "#booklist[1][booklist[1]['field.2_x'] == 2]\n",
    "df['versecounts'] = versecountlist\n",
    "df.head()\n"
   ]
  },
  {
   "cell_type": "code",
   "execution_count": 537,
   "metadata": {
    "collapsed": false,
    "deletable": true,
    "editable": true
   },
   "outputs": [
    {
     "data": {
      "text/plain": [
       "numpy.int64"
      ]
     },
     "execution_count": 537,
     "metadata": {},
     "output_type": "execute_result"
    }
   ],
   "source": [
    "test1 = pd.DataFrame(df.iloc[0]['versecounts']).reset_index()\n",
    "type(test1[0][0])"
   ]
  },
  {
   "cell_type": "markdown",
   "metadata": {
    "deletable": true,
    "editable": true
   },
   "source": [
    "### Plotting word counts by book"
   ]
  },
  {
   "cell_type": "code",
   "execution_count": 538,
   "metadata": {
    "collapsed": false,
    "deletable": true,
    "editable": true
   },
   "outputs": [
    {
     "name": "stderr",
     "output_type": "stream",
     "text": [
      "/usr/lib/python3.6/site-packages/matplotlib/font_manager.py:1297: UserWarning: findfont: Font family ['sans-serif'] not found. Falling back to DejaVu Sans\n",
      "  (prop.get_family(), self.defaultFamily[fontext]))\n"
     ]
    },
    {
     "data": {
      "image/png": "[encoded data removed]",
      "text/plain": [
       "<matplotlib.figure.Figure at 0x7fe65495ae48>"
      ]
     },
     "metadata": {},
     "output_type": "display_data"
    }
   ],
   "source": [
    "plt.figure(figsize=(20,10))\n",
    "plt.xticks(rotation=75)\n",
    "fig = sns.barplot(y='wordcount', x='bookname', data=df)"
   ]
  },
  {
   "cell_type": "markdown",
   "metadata": {
    "deletable": true,
    "editable": true
   },
   "source": [
    "### Plotting chapter counts by book"
   ]
  },
  {
   "cell_type": "code",
   "execution_count": 539,
   "metadata": {
    "collapsed": false,
    "deletable": true,
    "editable": true
   },
   "outputs": [
    {
     "name": "stderr",
     "output_type": "stream",
     "text": [
      "/usr/lib/python3.6/site-packages/matplotlib/font_manager.py:1297: UserWarning: findfont: Font family ['sans-serif'] not found. Falling back to DejaVu Sans\n",
      "  (prop.get_family(), self.defaultFamily[fontext]))\n"
     ]
    },
    {
     "data": {
      "image/png": "[encoded data removed]",
      "text/plain": [
       "<matplotlib.figure.Figure at 0x7fe5b4c61dd8>"
      ]
     },
     "metadata": {},
     "output_type": "display_data"
    }
   ],
   "source": [
    "plt.figure(figsize=(20,10))\n",
    "plt.xticks(rotation=75)\n",
    "fig = sns.barplot(y='chaptercount', x='bookname', data=df)"
   ]
  },
  {
   "cell_type": "code",
   "execution_count": 540,
   "metadata": {
    "collapsed": false,
    "deletable": true,
    "editable": true
   },
   "outputs": [
    {
     "data": {
      "text/plain": [
       "\"\\nfor k in range(len(df)):\\n    chpos = 0\\n    fig,ax =  plt.subplots(int(math.sqrt(int(df.iloc[k]['chaptercount'])))+1,int(math.sqrt(int(df.iloc[k]['chaptercount'])))+1, sharex='col', sharey='row', figsize=(20,10))\\n    for i in range(int(math.sqrt(int(df.iloc[k]['chaptercount'])))):\\n        for j in range(int(math.sqrt(int(df.iloc[k]['chaptercount'])))):\\n        #for j in range(int(df.iloc[k]['chaptercount']/5)):\\n            #print(int(str(i)+str(j))+1)\\n            if chpos <= df.iloc[k]['chaptercount']: \\n                ax[i, j].bar(df.iloc[k]['chaptercount'], df.iloc[k]['versecounts'][chpos])\\n                chpos+=1\\n                #ax[i, j].bar(df.iloc[k]['chaptercount'], df.iloc[k]['versecounts'][int(str(i)+str(j))])\\n\""
      ]
     },
     "execution_count": 540,
     "metadata": {},
     "output_type": "execute_result"
    }
   ],
   "source": [
    "#for i in len(df):\n",
    "#fig = plt.figure()\n",
    "#fig.subplots_adjust(hspace=0.4, wspace=0.4)\n",
    "#plotlist = []\n",
    "#for i in range(1,df.iloc[0]['chaptercount']+1):\n",
    "    #plotlist.append(fig.add_subplot(5,df.iloc[0]['chaptercount']/5,i))\n",
    "    #plotlist[i-1].plot(df.iloc[0]['versecounts'][i-1])\n",
    "\n",
    "'''\n",
    "for k in range(len(df)):\n",
    "    chpos = 0\n",
    "    fig,ax =  plt.subplots(int(math.sqrt(int(df.iloc[k]['chaptercount'])))+1,int(math.sqrt(int(df.iloc[k]['chaptercount'])))+1, sharex='col', sharey='row', figsize=(20,10))\n",
    "    for i in range(int(math.sqrt(int(df.iloc[k]['chaptercount'])))):\n",
    "        for j in range(int(math.sqrt(int(df.iloc[k]['chaptercount'])))):\n",
    "        #for j in range(int(df.iloc[k]['chaptercount']/5)):\n",
    "            #print(int(str(i)+str(j))+1)\n",
    "            if chpos <= df.iloc[k]['chaptercount']: \n",
    "                ax[i, j].bar(df.iloc[k]['chaptercount'], df.iloc[k]['versecounts'][chpos])\n",
    "                chpos+=1\n",
    "                #ax[i, j].bar(df.iloc[k]['chaptercount'], df.iloc[k]['versecounts'][int(str(i)+str(j))])\n",
    "'''"
   ]
  },
  {
   "cell_type": "code",
   "execution_count": 541,
   "metadata": {
    "collapsed": false,
    "deletable": true,
    "editable": true
   },
   "outputs": [
    {
     "data": {
      "text/html": [
       "<div>\n",
       "<table border=\"1\" class=\"dataframe\">\n",
       "  <thead>\n",
       "    <tr style=\"text-align: right;\">\n",
       "      <th></th>\n",
       "      <th>bookname</th>\n",
       "      <th>booknum</th>\n",
       "      <th>chnum</th>\n",
       "      <th>versenum</th>\n",
       "      <th>wordcount</th>\n",
       "      <th>chaptercount</th>\n",
       "      <th>versecounts</th>\n",
       "    </tr>\n",
       "  </thead>\n",
       "  <tbody>\n",
       "    <tr>\n",
       "      <th>0</th>\n",
       "      <td>Genesis</td>\n",
       "      <td>1533</td>\n",
       "      <td>41015</td>\n",
       "      <td>26798</td>\n",
       "      <td>38524</td>\n",
       "      <td>50</td>\n",
       "      <td>[31, 25, 24, 26, 32, 22, 24, 22, 29, 32, 32, 2...</td>\n",
       "    </tr>\n",
       "    <tr>\n",
       "      <th>1</th>\n",
       "      <td>Exodus</td>\n",
       "      <td>2426</td>\n",
       "      <td>26273</td>\n",
       "      <td>20462</td>\n",
       "      <td>32769</td>\n",
       "      <td>40</td>\n",
       "      <td>[22, 25, 22, 31, 23, 30, 25, 32, 35, 29, 10, 5...</td>\n",
       "    </tr>\n",
       "    <tr>\n",
       "      <th>2</th>\n",
       "      <td>Leviticus</td>\n",
       "      <td>2577</td>\n",
       "      <td>13040</td>\n",
       "      <td>16412</td>\n",
       "      <td>24629</td>\n",
       "      <td>27</td>\n",
       "      <td>[17, 16, 17, 35, 19, 30, 38, 36, 24, 20, 47, 8...</td>\n",
       "    </tr>\n",
       "    <tr>\n",
       "      <th>3</th>\n",
       "      <td>Numbers</td>\n",
       "      <td>5152</td>\n",
       "      <td>22738</td>\n",
       "      <td>28038</td>\n",
       "      <td>32945</td>\n",
       "      <td>36</td>\n",
       "      <td>[54, 34, 51, 49, 31, 27, 89, 26, 23, 36, 35, 1...</td>\n",
       "    </tr>\n",
       "    <tr>\n",
       "      <th>4</th>\n",
       "      <td>Deuteronomy</td>\n",
       "      <td>4795</td>\n",
       "      <td>16370</td>\n",
       "      <td>16071</td>\n",
       "      <td>28402</td>\n",
       "      <td>34</td>\n",
       "      <td>[46, 37, 29, 49, 33, 25, 26, 20, 29, 22, 32, 3...</td>\n",
       "    </tr>\n",
       "  </tbody>\n",
       "</table>\n",
       "</div>"
      ],
      "text/plain": [
       "      bookname  booknum  chnum  versenum  wordcount  chaptercount  \\\n",
       "0      Genesis     1533  41015     26798      38524            50   \n",
       "1       Exodus     2426  26273     20462      32769            40   \n",
       "2    Leviticus     2577  13040     16412      24629            27   \n",
       "3      Numbers     5152  22738     28038      32945            36   \n",
       "4  Deuteronomy     4795  16370     16071      28402            34   \n",
       "\n",
       "                                         versecounts  \n",
       "0  [31, 25, 24, 26, 32, 22, 24, 22, 29, 32, 32, 2...  \n",
       "1  [22, 25, 22, 31, 23, 30, 25, 32, 35, 29, 10, 5...  \n",
       "2  [17, 16, 17, 35, 19, 30, 38, 36, 24, 20, 47, 8...  \n",
       "3  [54, 34, 51, 49, 31, 27, 89, 26, 23, 36, 35, 1...  \n",
       "4  [46, 37, 29, 49, 33, 25, 26, 20, 29, 22, 32, 3...  "
      ]
     },
     "execution_count": 541,
     "metadata": {},
     "output_type": "execute_result"
    }
   ],
   "source": [
    "df.head()"
   ]
  },
  {
   "cell_type": "code",
   "execution_count": 542,
   "metadata": {
    "collapsed": false,
    "deletable": true,
    "editable": true
   },
   "outputs": [],
   "source": [
    "counter = 0\n",
    "ncol = []\n",
    "for i in range(len(df)):\n",
    "    mat = []\n",
    "    for j in range(len(df.iloc[i]['versecounts'])):\n",
    "        lists = []\n",
    "        for k in range(df.iloc[i]['versecounts'][j]):\n",
    "            lists.append(tweb.iloc[counter]['id'])\n",
    "            counter+=1\n",
    "        mat.append(lists)\n",
    "    ncol.append(mat)\n",
    "            "
   ]
  },
  {
   "cell_type": "code",
   "execution_count": 543,
   "metadata": {
    "collapsed": false,
    "deletable": true,
    "editable": true
   },
   "outputs": [],
   "source": [
    "df['verseidmatrix'] = ncol"
   ]
  },
  {
   "cell_type": "code",
   "execution_count": 544,
   "metadata": {
    "collapsed": false,
    "deletable": true,
    "editable": true
   },
   "outputs": [
    {
     "data": {
      "text/html": [
       "<div>\n",
       "<table border=\"1\" class=\"dataframe\">\n",
       "  <thead>\n",
       "    <tr style=\"text-align: right;\">\n",
       "      <th></th>\n",
       "      <th>bookname</th>\n",
       "      <th>booknum</th>\n",
       "      <th>chnum</th>\n",
       "      <th>versenum</th>\n",
       "      <th>wordcount</th>\n",
       "      <th>chaptercount</th>\n",
       "      <th>versecounts</th>\n",
       "      <th>verseidmatrix</th>\n",
       "    </tr>\n",
       "  </thead>\n",
       "  <tbody>\n",
       "    <tr>\n",
       "      <th>0</th>\n",
       "      <td>Genesis</td>\n",
       "      <td>1533</td>\n",
       "      <td>41015</td>\n",
       "      <td>26798</td>\n",
       "      <td>38524</td>\n",
       "      <td>50</td>\n",
       "      <td>[31, 25, 24, 26, 32, 22, 24, 22, 29, 32, 32, 2...</td>\n",
       "      <td>[[01001001, 01001002, 01001003, 01001004, 0100...</td>\n",
       "    </tr>\n",
       "    <tr>\n",
       "      <th>1</th>\n",
       "      <td>Exodus</td>\n",
       "      <td>2426</td>\n",
       "      <td>26273</td>\n",
       "      <td>20462</td>\n",
       "      <td>32769</td>\n",
       "      <td>40</td>\n",
       "      <td>[22, 25, 22, 31, 23, 30, 25, 32, 35, 29, 10, 5...</td>\n",
       "      <td>[[02001001, 02001002, 02001003, 02001004, 0200...</td>\n",
       "    </tr>\n",
       "    <tr>\n",
       "      <th>2</th>\n",
       "      <td>Leviticus</td>\n",
       "      <td>2577</td>\n",
       "      <td>13040</td>\n",
       "      <td>16412</td>\n",
       "      <td>24629</td>\n",
       "      <td>27</td>\n",
       "      <td>[17, 16, 17, 35, 19, 30, 38, 36, 24, 20, 47, 8...</td>\n",
       "      <td>[[03001001, 03001002, 03001003, 03001004, 0300...</td>\n",
       "    </tr>\n",
       "    <tr>\n",
       "      <th>3</th>\n",
       "      <td>Numbers</td>\n",
       "      <td>5152</td>\n",
       "      <td>22738</td>\n",
       "      <td>28038</td>\n",
       "      <td>32945</td>\n",
       "      <td>36</td>\n",
       "      <td>[54, 34, 51, 49, 31, 27, 89, 26, 23, 36, 35, 1...</td>\n",
       "      <td>[[04001001, 04001002, 04001003, 04001004, 0400...</td>\n",
       "    </tr>\n",
       "    <tr>\n",
       "      <th>4</th>\n",
       "      <td>Deuteronomy</td>\n",
       "      <td>4795</td>\n",
       "      <td>16370</td>\n",
       "      <td>16071</td>\n",
       "      <td>28402</td>\n",
       "      <td>34</td>\n",
       "      <td>[46, 37, 29, 49, 33, 25, 26, 20, 29, 22, 32, 3...</td>\n",
       "      <td>[[05001001, 05001002, 05001003, 05001004, 0500...</td>\n",
       "    </tr>\n",
       "  </tbody>\n",
       "</table>\n",
       "</div>"
      ],
      "text/plain": [
       "      bookname  booknum  chnum  versenum  wordcount  chaptercount  \\\n",
       "0      Genesis     1533  41015     26798      38524            50   \n",
       "1       Exodus     2426  26273     20462      32769            40   \n",
       "2    Leviticus     2577  13040     16412      24629            27   \n",
       "3      Numbers     5152  22738     28038      32945            36   \n",
       "4  Deuteronomy     4795  16370     16071      28402            34   \n",
       "\n",
       "                                         versecounts  \\\n",
       "0  [31, 25, 24, 26, 32, 22, 24, 22, 29, 32, 32, 2...   \n",
       "1  [22, 25, 22, 31, 23, 30, 25, 32, 35, 29, 10, 5...   \n",
       "2  [17, 16, 17, 35, 19, 30, 38, 36, 24, 20, 47, 8...   \n",
       "3  [54, 34, 51, 49, 31, 27, 89, 26, 23, 36, 35, 1...   \n",
       "4  [46, 37, 29, 49, 33, 25, 26, 20, 29, 22, 32, 3...   \n",
       "\n",
       "                                       verseidmatrix  \n",
       "0  [[01001001, 01001002, 01001003, 01001004, 0100...  \n",
       "1  [[02001001, 02001002, 02001003, 02001004, 0200...  \n",
       "2  [[03001001, 03001002, 03001003, 03001004, 0300...  \n",
       "3  [[04001001, 04001002, 04001003, 04001004, 0400...  \n",
       "4  [[05001001, 05001002, 05001003, 05001004, 0500...  "
      ]
     },
     "execution_count": 544,
     "metadata": {},
     "output_type": "execute_result"
    }
   ],
   "source": [
    "df.head()"
   ]
  },
  {
   "cell_type": "code",
   "execution_count": 545,
   "metadata": {
    "collapsed": true,
    "deletable": true,
    "editable": true
   },
   "outputs": [],
   "source": [
    "#df.to_csv('bookwordcount.tsv',sep='\\t')\n",
    "df.to_csv('bookwordcount_kjv.tsv',sep='\\t')"
   ]
  },
  {
   "cell_type": "code",
   "execution_count": null,
   "metadata": {
    "collapsed": false,
    "deletable": true,
    "editable": true
   },
   "outputs": [],
   "source": []
  },
  {
   "cell_type": "code",
   "execution_count": null,
   "metadata": {
    "collapsed": true,
    "deletable": true,
    "editable": true
   },
   "outputs": [],
   "source": []
  }
 ],
 "metadata": {
  "kernelspec": {
   "display_name": "Python 3",
   "language": "python",
   "name": "python3"
  },
  "language_info": {
   "codemirror_mode": {
    "name": "ipython",
    "version": 3
   },
   "file_extension": ".py",
   "mimetype": "text/x-python",
   "name": "python",
   "nbconvert_exporter": "python",
   "pygments_lexer": "ipython3",
   "version": "3.6.6"
  }
 },
 "nbformat": 4,
 "nbformat_minor": 2
}
