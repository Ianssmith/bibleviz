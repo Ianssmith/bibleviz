{
 "cells": [
  {
   "cell_type": "code",
   "execution_count": 910,
   "metadata": {
    "collapsed": true,
    "deletable": true,
    "editable": true
   },
   "outputs": [],
   "source": [
    "import numpy as np\n",
    "import pandas as pd\n",
    "import matplotlib.pyplot as plt\n",
    "import seaborn as sns\n",
    "import nltk\n",
    "import re\n",
    "import math"
   ]
  },
  {
   "cell_type": "code",
   "execution_count": 911,
   "metadata": {
    "collapsed": true,
    "deletable": true,
    "editable": true
   },
   "outputs": [],
   "source": [
    "%matplotlib inline"
   ]
  },
  {
   "cell_type": "markdown",
   "metadata": {
    "deletable": true,
    "editable": true
   },
   "source": [
    "### Import data"
   ]
  },
  {
   "cell_type": "code",
   "execution_count": 912,
   "metadata": {
    "collapsed": true,
    "deletable": true,
    "editable": true
   },
   "outputs": [],
   "source": [
    "tweb = pd.read_csv('t_ylt.csv')\n",
    "#tweb = pd.read_csv('t_web.csv')\n",
    "#tweb = pd.read_csv('t_kjv.csv')\n",
    "key = pd.read_csv('key_english.csv')\n",
    "keygenre = pd.read_csv('key_genre_english.csv')\n"
   ]
  },
  {
   "cell_type": "code",
   "execution_count": 913,
   "metadata": {
    "collapsed": false,
    "deletable": true,
    "editable": true
   },
   "outputs": [
    {
     "data": {
      "text/plain": [
       "str"
      ]
     },
     "execution_count": 913,
     "metadata": {},
     "output_type": "execute_result"
    }
   ],
   "source": [
    "type(tweb['field.4'][3])"
   ]
  },
  {
   "cell_type": "code",
   "execution_count": 914,
   "metadata": {
    "collapsed": false,
    "deletable": true,
    "editable": true
   },
   "outputs": [
    {
     "data": {
      "text/html": [
       "<div>\n",
       "<table border=\"1\" class=\"dataframe\">\n",
       "  <thead>\n",
       "    <tr style=\"text-align: right;\">\n",
       "      <th></th>\n",
       "      <th>field</th>\n",
       "      <th>field.1</th>\n",
       "      <th>field.2</th>\n",
       "      <th>field.3</th>\n",
       "    </tr>\n",
       "  </thead>\n",
       "  <tbody>\n",
       "    <tr>\n",
       "      <th>0</th>\n",
       "      <td>1</td>\n",
       "      <td>Genesis</td>\n",
       "      <td>OT</td>\n",
       "      <td>1</td>\n",
       "    </tr>\n",
       "    <tr>\n",
       "      <th>1</th>\n",
       "      <td>2</td>\n",
       "      <td>Exodus</td>\n",
       "      <td>OT</td>\n",
       "      <td>1</td>\n",
       "    </tr>\n",
       "    <tr>\n",
       "      <th>2</th>\n",
       "      <td>3</td>\n",
       "      <td>Leviticus</td>\n",
       "      <td>OT</td>\n",
       "      <td>1</td>\n",
       "    </tr>\n",
       "    <tr>\n",
       "      <th>3</th>\n",
       "      <td>4</td>\n",
       "      <td>Numbers</td>\n",
       "      <td>OT</td>\n",
       "      <td>1</td>\n",
       "    </tr>\n",
       "    <tr>\n",
       "      <th>4</th>\n",
       "      <td>5</td>\n",
       "      <td>Deuteronomy</td>\n",
       "      <td>OT</td>\n",
       "      <td>1</td>\n",
       "    </tr>\n",
       "  </tbody>\n",
       "</table>\n",
       "</div>"
      ],
      "text/plain": [
       "   field      field.1 field.2  field.3\n",
       "0      1      Genesis      OT        1\n",
       "1      2       Exodus      OT        1\n",
       "2      3    Leviticus      OT        1\n",
       "3      4      Numbers      OT        1\n",
       "4      5  Deuteronomy      OT        1"
      ]
     },
     "execution_count": 914,
     "metadata": {},
     "output_type": "execute_result"
    }
   ],
   "source": [
    "key.head()"
   ]
  },
  {
   "cell_type": "code",
   "execution_count": 915,
   "metadata": {
    "collapsed": true,
    "deletable": true,
    "editable": true
   },
   "outputs": [],
   "source": [
    "key.columns = [\"id\",\"bookname\",\"testament\",\"genrenum\"]"
   ]
  },
  {
   "cell_type": "code",
   "execution_count": 916,
   "metadata": {
    "collapsed": true
   },
   "outputs": [],
   "source": [
    "def padbooks(d):\n",
    "    if d <= 9:\n",
    "        return '{:>02d}'.format(d)\n",
    "    else:\n",
    "        return '{:<02d}'.format(d)"
   ]
  },
  {
   "cell_type": "code",
   "execution_count": 917,
   "metadata": {
    "collapsed": false
   },
   "outputs": [
    {
     "data": {
      "text/html": [
       "<div>\n",
       "<table border=\"1\" class=\"dataframe\">\n",
       "  <thead>\n",
       "    <tr style=\"text-align: right;\">\n",
       "      <th></th>\n",
       "      <th>id</th>\n",
       "      <th>bookname</th>\n",
       "      <th>testament</th>\n",
       "      <th>genrenum</th>\n",
       "      <th>bookpad</th>\n",
       "    </tr>\n",
       "  </thead>\n",
       "  <tbody>\n",
       "    <tr>\n",
       "      <th>0</th>\n",
       "      <td>1</td>\n",
       "      <td>Genesis</td>\n",
       "      <td>OT</td>\n",
       "      <td>1</td>\n",
       "      <td>01</td>\n",
       "    </tr>\n",
       "    <tr>\n",
       "      <th>1</th>\n",
       "      <td>2</td>\n",
       "      <td>Exodus</td>\n",
       "      <td>OT</td>\n",
       "      <td>1</td>\n",
       "      <td>02</td>\n",
       "    </tr>\n",
       "    <tr>\n",
       "      <th>2</th>\n",
       "      <td>3</td>\n",
       "      <td>Leviticus</td>\n",
       "      <td>OT</td>\n",
       "      <td>1</td>\n",
       "      <td>03</td>\n",
       "    </tr>\n",
       "    <tr>\n",
       "      <th>3</th>\n",
       "      <td>4</td>\n",
       "      <td>Numbers</td>\n",
       "      <td>OT</td>\n",
       "      <td>1</td>\n",
       "      <td>04</td>\n",
       "    </tr>\n",
       "    <tr>\n",
       "      <th>4</th>\n",
       "      <td>5</td>\n",
       "      <td>Deuteronomy</td>\n",
       "      <td>OT</td>\n",
       "      <td>1</td>\n",
       "      <td>05</td>\n",
       "    </tr>\n",
       "    <tr>\n",
       "      <th>5</th>\n",
       "      <td>6</td>\n",
       "      <td>Joshua</td>\n",
       "      <td>OT</td>\n",
       "      <td>2</td>\n",
       "      <td>06</td>\n",
       "    </tr>\n",
       "    <tr>\n",
       "      <th>6</th>\n",
       "      <td>7</td>\n",
       "      <td>Judges</td>\n",
       "      <td>OT</td>\n",
       "      <td>2</td>\n",
       "      <td>07</td>\n",
       "    </tr>\n",
       "    <tr>\n",
       "      <th>7</th>\n",
       "      <td>8</td>\n",
       "      <td>Ruth</td>\n",
       "      <td>OT</td>\n",
       "      <td>2</td>\n",
       "      <td>08</td>\n",
       "    </tr>\n",
       "    <tr>\n",
       "      <th>8</th>\n",
       "      <td>9</td>\n",
       "      <td>1 Samuel</td>\n",
       "      <td>OT</td>\n",
       "      <td>2</td>\n",
       "      <td>09</td>\n",
       "    </tr>\n",
       "    <tr>\n",
       "      <th>9</th>\n",
       "      <td>10</td>\n",
       "      <td>2 Samuel</td>\n",
       "      <td>OT</td>\n",
       "      <td>2</td>\n",
       "      <td>10</td>\n",
       "    </tr>\n",
       "    <tr>\n",
       "      <th>10</th>\n",
       "      <td>11</td>\n",
       "      <td>1 Kings</td>\n",
       "      <td>OT</td>\n",
       "      <td>2</td>\n",
       "      <td>11</td>\n",
       "    </tr>\n",
       "    <tr>\n",
       "      <th>11</th>\n",
       "      <td>12</td>\n",
       "      <td>2 Kings</td>\n",
       "      <td>OT</td>\n",
       "      <td>2</td>\n",
       "      <td>12</td>\n",
       "    </tr>\n",
       "  </tbody>\n",
       "</table>\n",
       "</div>"
      ],
      "text/plain": [
       "    id     bookname testament  genrenum bookpad\n",
       "0    1      Genesis        OT         1      01\n",
       "1    2       Exodus        OT         1      02\n",
       "2    3    Leviticus        OT         1      03\n",
       "3    4      Numbers        OT         1      04\n",
       "4    5  Deuteronomy        OT         1      05\n",
       "5    6       Joshua        OT         2      06\n",
       "6    7       Judges        OT         2      07\n",
       "7    8         Ruth        OT         2      08\n",
       "8    9     1 Samuel        OT         2      09\n",
       "9   10     2 Samuel        OT         2      10\n",
       "10  11      1 Kings        OT         2      11\n",
       "11  12      2 Kings        OT         2      12"
      ]
     },
     "execution_count": 917,
     "metadata": {},
     "output_type": "execute_result"
    }
   ],
   "source": [
    "key['bookpad'] = key['id'].apply(padbooks)\n",
    "key.head(12)"
   ]
  },
  {
   "cell_type": "code",
   "execution_count": 918,
   "metadata": {
    "collapsed": false,
    "deletable": true,
    "editable": true
   },
   "outputs": [
    {
     "data": {
      "text/html": [
       "<div>\n",
       "<table border=\"1\" class=\"dataframe\">\n",
       "  <thead>\n",
       "    <tr style=\"text-align: right;\">\n",
       "      <th></th>\n",
       "      <th>field</th>\n",
       "      <th>field.1</th>\n",
       "      <th>field.2</th>\n",
       "      <th>field.3</th>\n",
       "      <th>field.4</th>\n",
       "    </tr>\n",
       "  </thead>\n",
       "  <tbody>\n",
       "    <tr>\n",
       "      <th>0</th>\n",
       "      <td>1001001</td>\n",
       "      <td>1</td>\n",
       "      <td>1</td>\n",
       "      <td>1</td>\n",
       "      <td>In the beginning of God's preparing the heaven...</td>\n",
       "    </tr>\n",
       "    <tr>\n",
       "      <th>1</th>\n",
       "      <td>1001002</td>\n",
       "      <td>1</td>\n",
       "      <td>1</td>\n",
       "      <td>2</td>\n",
       "      <td>the earth hath existed waste and void, and dar...</td>\n",
       "    </tr>\n",
       "    <tr>\n",
       "      <th>2</th>\n",
       "      <td>1001003</td>\n",
       "      <td>1</td>\n",
       "      <td>1</td>\n",
       "      <td>3</td>\n",
       "      <td>and God saith, `Let light be;' and light is.</td>\n",
       "    </tr>\n",
       "    <tr>\n",
       "      <th>3</th>\n",
       "      <td>1001004</td>\n",
       "      <td>1</td>\n",
       "      <td>1</td>\n",
       "      <td>4</td>\n",
       "      <td>And God seeth the light that `it is' good, and...</td>\n",
       "    </tr>\n",
       "    <tr>\n",
       "      <th>4</th>\n",
       "      <td>1001005</td>\n",
       "      <td>1</td>\n",
       "      <td>1</td>\n",
       "      <td>5</td>\n",
       "      <td>and God calleth to the light `Day,' and to the...</td>\n",
       "    </tr>\n",
       "  </tbody>\n",
       "</table>\n",
       "</div>"
      ],
      "text/plain": [
       "     field  field.1  field.2  field.3  \\\n",
       "0  1001001        1        1        1   \n",
       "1  1001002        1        1        2   \n",
       "2  1001003        1        1        3   \n",
       "3  1001004        1        1        4   \n",
       "4  1001005        1        1        5   \n",
       "\n",
       "                                             field.4  \n",
       "0  In the beginning of God's preparing the heaven...  \n",
       "1  the earth hath existed waste and void, and dar...  \n",
       "2       and God saith, `Let light be;' and light is.  \n",
       "3  And God seeth the light that `it is' good, and...  \n",
       "4  and God calleth to the light `Day,' and to the...  "
      ]
     },
     "execution_count": 918,
     "metadata": {},
     "output_type": "execute_result"
    }
   ],
   "source": [
    "tweb.head()"
   ]
  },
  {
   "cell_type": "code",
   "execution_count": 919,
   "metadata": {
    "collapsed": true,
    "deletable": true,
    "editable": true
   },
   "outputs": [],
   "source": [
    "tweb.columns = [\"id\",\"booknum\",\"chnum\",\"versenum\",\"text\"]\n"
   ]
  },
  {
   "cell_type": "code",
   "execution_count": 920,
   "metadata": {
    "collapsed": false
   },
   "outputs": [],
   "source": [
    "tweb['id'] = tweb['id'].apply('{:>08d}'.format)"
   ]
  },
  {
   "cell_type": "code",
   "execution_count": 921,
   "metadata": {
    "collapsed": false
   },
   "outputs": [
    {
     "data": {
      "text/html": [
       "<div>\n",
       "<table border=\"1\" class=\"dataframe\">\n",
       "  <thead>\n",
       "    <tr style=\"text-align: right;\">\n",
       "      <th></th>\n",
       "      <th>id</th>\n",
       "      <th>booknum</th>\n",
       "      <th>chnum</th>\n",
       "      <th>versenum</th>\n",
       "      <th>text</th>\n",
       "    </tr>\n",
       "  </thead>\n",
       "  <tbody>\n",
       "    <tr>\n",
       "      <th>0</th>\n",
       "      <td>01001001</td>\n",
       "      <td>1</td>\n",
       "      <td>1</td>\n",
       "      <td>1</td>\n",
       "      <td>In the beginning of God's preparing the heaven...</td>\n",
       "    </tr>\n",
       "    <tr>\n",
       "      <th>1</th>\n",
       "      <td>01001002</td>\n",
       "      <td>1</td>\n",
       "      <td>1</td>\n",
       "      <td>2</td>\n",
       "      <td>the earth hath existed waste and void, and dar...</td>\n",
       "    </tr>\n",
       "    <tr>\n",
       "      <th>2</th>\n",
       "      <td>01001003</td>\n",
       "      <td>1</td>\n",
       "      <td>1</td>\n",
       "      <td>3</td>\n",
       "      <td>and God saith, `Let light be;' and light is.</td>\n",
       "    </tr>\n",
       "    <tr>\n",
       "      <th>3</th>\n",
       "      <td>01001004</td>\n",
       "      <td>1</td>\n",
       "      <td>1</td>\n",
       "      <td>4</td>\n",
       "      <td>And God seeth the light that `it is' good, and...</td>\n",
       "    </tr>\n",
       "    <tr>\n",
       "      <th>4</th>\n",
       "      <td>01001005</td>\n",
       "      <td>1</td>\n",
       "      <td>1</td>\n",
       "      <td>5</td>\n",
       "      <td>and God calleth to the light `Day,' and to the...</td>\n",
       "    </tr>\n",
       "  </tbody>\n",
       "</table>\n",
       "</div>"
      ],
      "text/plain": [
       "         id  booknum  chnum  versenum  \\\n",
       "0  01001001        1      1         1   \n",
       "1  01001002        1      1         2   \n",
       "2  01001003        1      1         3   \n",
       "3  01001004        1      1         4   \n",
       "4  01001005        1      1         5   \n",
       "\n",
       "                                                text  \n",
       "0  In the beginning of God's preparing the heaven...  \n",
       "1  the earth hath existed waste and void, and dar...  \n",
       "2       and God saith, `Let light be;' and light is.  \n",
       "3  And God seeth the light that `it is' good, and...  \n",
       "4  and God calleth to the light `Day,' and to the...  "
      ]
     },
     "execution_count": 921,
     "metadata": {},
     "output_type": "execute_result"
    }
   ],
   "source": [
    "tweb.head()\n"
   ]
  },
  {
   "cell_type": "code",
   "execution_count": 922,
   "metadata": {
    "collapsed": false,
    "deletable": true,
    "editable": true
   },
   "outputs": [
    {
     "data": {
      "text/html": [
       "<div>\n",
       "<table border=\"1\" class=\"dataframe\">\n",
       "  <thead>\n",
       "    <tr style=\"text-align: right;\">\n",
       "      <th></th>\n",
       "      <th>field</th>\n",
       "      <th>field.1</th>\n",
       "    </tr>\n",
       "  </thead>\n",
       "  <tbody>\n",
       "    <tr>\n",
       "      <th>0</th>\n",
       "      <td>1</td>\n",
       "      <td>Law</td>\n",
       "    </tr>\n",
       "    <tr>\n",
       "      <th>1</th>\n",
       "      <td>2</td>\n",
       "      <td>History</td>\n",
       "    </tr>\n",
       "    <tr>\n",
       "      <th>2</th>\n",
       "      <td>3</td>\n",
       "      <td>Wisdom</td>\n",
       "    </tr>\n",
       "    <tr>\n",
       "      <th>3</th>\n",
       "      <td>4</td>\n",
       "      <td>Prophets</td>\n",
       "    </tr>\n",
       "    <tr>\n",
       "      <th>4</th>\n",
       "      <td>5</td>\n",
       "      <td>Gospels</td>\n",
       "    </tr>\n",
       "  </tbody>\n",
       "</table>\n",
       "</div>"
      ],
      "text/plain": [
       "   field   field.1\n",
       "0      1       Law\n",
       "1      2   History\n",
       "2      3    Wisdom\n",
       "3      4  Prophets\n",
       "4      5   Gospels"
      ]
     },
     "execution_count": 922,
     "metadata": {},
     "output_type": "execute_result"
    }
   ],
   "source": [
    "keygenre.head()"
   ]
  },
  {
   "cell_type": "code",
   "execution_count": 923,
   "metadata": {
    "collapsed": true,
    "deletable": true,
    "editable": true
   },
   "outputs": [],
   "source": [
    "keygenre.columns = [\"id\",\"genre\"]\n"
   ]
  },
  {
   "cell_type": "markdown",
   "metadata": {
    "deletable": true,
    "editable": true
   },
   "source": [
    "### Merge key data set with genre book name with main data"
   ]
  },
  {
   "cell_type": "code",
   "execution_count": 924,
   "metadata": {
    "collapsed": false,
    "deletable": true,
    "editable": true
   },
   "outputs": [],
   "source": [
    "#tweb = tweb.merge(key, left_on='field.1', right_on='field', how='outer')\n",
    "tweb = tweb.merge(key, left_on='booknum', right_on='id', how='outer')"
   ]
  },
  {
   "cell_type": "code",
   "execution_count": 925,
   "metadata": {
    "collapsed": false,
    "deletable": true,
    "editable": true
   },
   "outputs": [
    {
     "data": {
      "text/html": [
       "<div>\n",
       "<table border=\"1\" class=\"dataframe\">\n",
       "  <thead>\n",
       "    <tr style=\"text-align: right;\">\n",
       "      <th></th>\n",
       "      <th>id_x</th>\n",
       "      <th>booknum</th>\n",
       "      <th>chnum</th>\n",
       "      <th>versenum</th>\n",
       "      <th>text</th>\n",
       "      <th>id_y</th>\n",
       "      <th>bookname</th>\n",
       "      <th>testament</th>\n",
       "      <th>genrenum</th>\n",
       "      <th>bookpad</th>\n",
       "    </tr>\n",
       "  </thead>\n",
       "  <tbody>\n",
       "    <tr>\n",
       "      <th>0</th>\n",
       "      <td>01001001</td>\n",
       "      <td>1</td>\n",
       "      <td>1</td>\n",
       "      <td>1</td>\n",
       "      <td>In the beginning of God's preparing the heaven...</td>\n",
       "      <td>1</td>\n",
       "      <td>Genesis</td>\n",
       "      <td>OT</td>\n",
       "      <td>1</td>\n",
       "      <td>01</td>\n",
       "    </tr>\n",
       "    <tr>\n",
       "      <th>1</th>\n",
       "      <td>01001002</td>\n",
       "      <td>1</td>\n",
       "      <td>1</td>\n",
       "      <td>2</td>\n",
       "      <td>the earth hath existed waste and void, and dar...</td>\n",
       "      <td>1</td>\n",
       "      <td>Genesis</td>\n",
       "      <td>OT</td>\n",
       "      <td>1</td>\n",
       "      <td>01</td>\n",
       "    </tr>\n",
       "    <tr>\n",
       "      <th>2</th>\n",
       "      <td>01001003</td>\n",
       "      <td>1</td>\n",
       "      <td>1</td>\n",
       "      <td>3</td>\n",
       "      <td>and God saith, `Let light be;' and light is.</td>\n",
       "      <td>1</td>\n",
       "      <td>Genesis</td>\n",
       "      <td>OT</td>\n",
       "      <td>1</td>\n",
       "      <td>01</td>\n",
       "    </tr>\n",
       "    <tr>\n",
       "      <th>3</th>\n",
       "      <td>01001004</td>\n",
       "      <td>1</td>\n",
       "      <td>1</td>\n",
       "      <td>4</td>\n",
       "      <td>And God seeth the light that `it is' good, and...</td>\n",
       "      <td>1</td>\n",
       "      <td>Genesis</td>\n",
       "      <td>OT</td>\n",
       "      <td>1</td>\n",
       "      <td>01</td>\n",
       "    </tr>\n",
       "    <tr>\n",
       "      <th>4</th>\n",
       "      <td>01001005</td>\n",
       "      <td>1</td>\n",
       "      <td>1</td>\n",
       "      <td>5</td>\n",
       "      <td>and God calleth to the light `Day,' and to the...</td>\n",
       "      <td>1</td>\n",
       "      <td>Genesis</td>\n",
       "      <td>OT</td>\n",
       "      <td>1</td>\n",
       "      <td>01</td>\n",
       "    </tr>\n",
       "  </tbody>\n",
       "</table>\n",
       "</div>"
      ],
      "text/plain": [
       "       id_x  booknum  chnum  versenum  \\\n",
       "0  01001001        1      1         1   \n",
       "1  01001002        1      1         2   \n",
       "2  01001003        1      1         3   \n",
       "3  01001004        1      1         4   \n",
       "4  01001005        1      1         5   \n",
       "\n",
       "                                                text  id_y bookname testament  \\\n",
       "0  In the beginning of God's preparing the heaven...     1  Genesis        OT   \n",
       "1  the earth hath existed waste and void, and dar...     1  Genesis        OT   \n",
       "2       and God saith, `Let light be;' and light is.     1  Genesis        OT   \n",
       "3  And God seeth the light that `it is' good, and...     1  Genesis        OT   \n",
       "4  and God calleth to the light `Day,' and to the...     1  Genesis        OT   \n",
       "\n",
       "   genrenum bookpad  \n",
       "0         1      01  \n",
       "1         1      01  \n",
       "2         1      01  \n",
       "3         1      01  \n",
       "4         1      01  "
      ]
     },
     "execution_count": 925,
     "metadata": {},
     "output_type": "execute_result"
    }
   ],
   "source": [
    "tweb.head()\n"
   ]
  },
  {
   "cell_type": "code",
   "execution_count": 926,
   "metadata": {
    "collapsed": false,
    "deletable": true,
    "editable": true
   },
   "outputs": [
    {
     "data": {
      "text/html": [
       "<div>\n",
       "<table border=\"1\" class=\"dataframe\">\n",
       "  <thead>\n",
       "    <tr style=\"text-align: right;\">\n",
       "      <th></th>\n",
       "      <th>id_x</th>\n",
       "      <th>booknum</th>\n",
       "      <th>chnum</th>\n",
       "      <th>versenum</th>\n",
       "      <th>text</th>\n",
       "      <th>bookname</th>\n",
       "      <th>testament</th>\n",
       "      <th>genrenum</th>\n",
       "      <th>bookpad</th>\n",
       "    </tr>\n",
       "  </thead>\n",
       "  <tbody>\n",
       "    <tr>\n",
       "      <th>0</th>\n",
       "      <td>01001001</td>\n",
       "      <td>1</td>\n",
       "      <td>1</td>\n",
       "      <td>1</td>\n",
       "      <td>In the beginning of God's preparing the heaven...</td>\n",
       "      <td>Genesis</td>\n",
       "      <td>OT</td>\n",
       "      <td>1</td>\n",
       "      <td>01</td>\n",
       "    </tr>\n",
       "    <tr>\n",
       "      <th>1</th>\n",
       "      <td>01001002</td>\n",
       "      <td>1</td>\n",
       "      <td>1</td>\n",
       "      <td>2</td>\n",
       "      <td>the earth hath existed waste and void, and dar...</td>\n",
       "      <td>Genesis</td>\n",
       "      <td>OT</td>\n",
       "      <td>1</td>\n",
       "      <td>01</td>\n",
       "    </tr>\n",
       "    <tr>\n",
       "      <th>2</th>\n",
       "      <td>01001003</td>\n",
       "      <td>1</td>\n",
       "      <td>1</td>\n",
       "      <td>3</td>\n",
       "      <td>and God saith, `Let light be;' and light is.</td>\n",
       "      <td>Genesis</td>\n",
       "      <td>OT</td>\n",
       "      <td>1</td>\n",
       "      <td>01</td>\n",
       "    </tr>\n",
       "    <tr>\n",
       "      <th>3</th>\n",
       "      <td>01001004</td>\n",
       "      <td>1</td>\n",
       "      <td>1</td>\n",
       "      <td>4</td>\n",
       "      <td>And God seeth the light that `it is' good, and...</td>\n",
       "      <td>Genesis</td>\n",
       "      <td>OT</td>\n",
       "      <td>1</td>\n",
       "      <td>01</td>\n",
       "    </tr>\n",
       "    <tr>\n",
       "      <th>4</th>\n",
       "      <td>01001005</td>\n",
       "      <td>1</td>\n",
       "      <td>1</td>\n",
       "      <td>5</td>\n",
       "      <td>and God calleth to the light `Day,' and to the...</td>\n",
       "      <td>Genesis</td>\n",
       "      <td>OT</td>\n",
       "      <td>1</td>\n",
       "      <td>01</td>\n",
       "    </tr>\n",
       "  </tbody>\n",
       "</table>\n",
       "</div>"
      ],
      "text/plain": [
       "       id_x  booknum  chnum  versenum  \\\n",
       "0  01001001        1      1         1   \n",
       "1  01001002        1      1         2   \n",
       "2  01001003        1      1         3   \n",
       "3  01001004        1      1         4   \n",
       "4  01001005        1      1         5   \n",
       "\n",
       "                                                text bookname testament  \\\n",
       "0  In the beginning of God's preparing the heaven...  Genesis        OT   \n",
       "1  the earth hath existed waste and void, and dar...  Genesis        OT   \n",
       "2       and God saith, `Let light be;' and light is.  Genesis        OT   \n",
       "3  And God seeth the light that `it is' good, and...  Genesis        OT   \n",
       "4  and God calleth to the light `Day,' and to the...  Genesis        OT   \n",
       "\n",
       "   genrenum bookpad  \n",
       "0         1      01  \n",
       "1         1      01  \n",
       "2         1      01  \n",
       "3         1      01  \n",
       "4         1      01  "
      ]
     },
     "execution_count": 926,
     "metadata": {},
     "output_type": "execute_result"
    }
   ],
   "source": [
    "#tweb.drop(['field_y'],axis=1,inplace=True)\n",
    "tweb.drop(['id_y'],axis=1,inplace=True)\n",
    "tweb.head()\n"
   ]
  },
  {
   "cell_type": "markdown",
   "metadata": {
    "deletable": true,
    "editable": true
   },
   "source": [
    "### Merge genre name data set with main data"
   ]
  },
  {
   "cell_type": "code",
   "execution_count": 927,
   "metadata": {
    "collapsed": false,
    "deletable": true,
    "editable": true
   },
   "outputs": [
    {
     "data": {
      "text/html": [
       "<div>\n",
       "<table border=\"1\" class=\"dataframe\">\n",
       "  <thead>\n",
       "    <tr style=\"text-align: right;\">\n",
       "      <th></th>\n",
       "      <th>id_x</th>\n",
       "      <th>booknum</th>\n",
       "      <th>chnum</th>\n",
       "      <th>versenum</th>\n",
       "      <th>text</th>\n",
       "      <th>bookname</th>\n",
       "      <th>testament</th>\n",
       "      <th>genrenum</th>\n",
       "      <th>bookpad</th>\n",
       "      <th>id</th>\n",
       "      <th>genre</th>\n",
       "    </tr>\n",
       "  </thead>\n",
       "  <tbody>\n",
       "    <tr>\n",
       "      <th>0</th>\n",
       "      <td>01001001</td>\n",
       "      <td>1</td>\n",
       "      <td>1</td>\n",
       "      <td>1</td>\n",
       "      <td>In the beginning of God's preparing the heaven...</td>\n",
       "      <td>Genesis</td>\n",
       "      <td>OT</td>\n",
       "      <td>1</td>\n",
       "      <td>01</td>\n",
       "      <td>1</td>\n",
       "      <td>Law</td>\n",
       "    </tr>\n",
       "    <tr>\n",
       "      <th>1</th>\n",
       "      <td>01001002</td>\n",
       "      <td>1</td>\n",
       "      <td>1</td>\n",
       "      <td>2</td>\n",
       "      <td>the earth hath existed waste and void, and dar...</td>\n",
       "      <td>Genesis</td>\n",
       "      <td>OT</td>\n",
       "      <td>1</td>\n",
       "      <td>01</td>\n",
       "      <td>1</td>\n",
       "      <td>Law</td>\n",
       "    </tr>\n",
       "    <tr>\n",
       "      <th>2</th>\n",
       "      <td>01001003</td>\n",
       "      <td>1</td>\n",
       "      <td>1</td>\n",
       "      <td>3</td>\n",
       "      <td>and God saith, `Let light be;' and light is.</td>\n",
       "      <td>Genesis</td>\n",
       "      <td>OT</td>\n",
       "      <td>1</td>\n",
       "      <td>01</td>\n",
       "      <td>1</td>\n",
       "      <td>Law</td>\n",
       "    </tr>\n",
       "    <tr>\n",
       "      <th>3</th>\n",
       "      <td>01001004</td>\n",
       "      <td>1</td>\n",
       "      <td>1</td>\n",
       "      <td>4</td>\n",
       "      <td>And God seeth the light that `it is' good, and...</td>\n",
       "      <td>Genesis</td>\n",
       "      <td>OT</td>\n",
       "      <td>1</td>\n",
       "      <td>01</td>\n",
       "      <td>1</td>\n",
       "      <td>Law</td>\n",
       "    </tr>\n",
       "    <tr>\n",
       "      <th>4</th>\n",
       "      <td>01001005</td>\n",
       "      <td>1</td>\n",
       "      <td>1</td>\n",
       "      <td>5</td>\n",
       "      <td>and God calleth to the light `Day,' and to the...</td>\n",
       "      <td>Genesis</td>\n",
       "      <td>OT</td>\n",
       "      <td>1</td>\n",
       "      <td>01</td>\n",
       "      <td>1</td>\n",
       "      <td>Law</td>\n",
       "    </tr>\n",
       "  </tbody>\n",
       "</table>\n",
       "</div>"
      ],
      "text/plain": [
       "       id_x  booknum  chnum  versenum  \\\n",
       "0  01001001        1      1         1   \n",
       "1  01001002        1      1         2   \n",
       "2  01001003        1      1         3   \n",
       "3  01001004        1      1         4   \n",
       "4  01001005        1      1         5   \n",
       "\n",
       "                                                text bookname testament  \\\n",
       "0  In the beginning of God's preparing the heaven...  Genesis        OT   \n",
       "1  the earth hath existed waste and void, and dar...  Genesis        OT   \n",
       "2       and God saith, `Let light be;' and light is.  Genesis        OT   \n",
       "3  And God seeth the light that `it is' good, and...  Genesis        OT   \n",
       "4  and God calleth to the light `Day,' and to the...  Genesis        OT   \n",
       "\n",
       "   genrenum bookpad  id genre  \n",
       "0         1      01   1   Law  \n",
       "1         1      01   1   Law  \n",
       "2         1      01   1   Law  \n",
       "3         1      01   1   Law  \n",
       "4         1      01   1   Law  "
      ]
     },
     "execution_count": 927,
     "metadata": {},
     "output_type": "execute_result"
    }
   ],
   "source": [
    "#tweb = tweb.merge(keygenre, left_on='field.3_y',right_on='field')\n",
    "tweb = tweb.merge(keygenre, left_on='genrenum',right_on='id')\n",
    "tweb.head()"
   ]
  },
  {
   "cell_type": "code",
   "execution_count": 928,
   "metadata": {
    "collapsed": false,
    "deletable": true,
    "editable": true
   },
   "outputs": [],
   "source": [
    "tweb.drop(['id'],axis=1,inplace=True)"
   ]
  },
  {
   "cell_type": "code",
   "execution_count": 929,
   "metadata": {
    "collapsed": false,
    "deletable": true,
    "editable": true
   },
   "outputs": [
    {
     "data": {
      "text/plain": [
       "array(['Genesis', 'Exodus', 'Leviticus', 'Numbers', 'Deuteronomy',\n",
       "       'Joshua', 'Judges', 'Ruth', '1 Samuel', '2 Samuel', '1 Kings',\n",
       "       '2 Kings', '1 Chronicles', '2 Chronicles', 'Ezra', 'Nehemiah',\n",
       "       'Esther', 'Job', 'Psalms', 'Proverbs', 'Ecclesiastes',\n",
       "       'Song of Solomon', 'Isaiah', 'Jeremiah', 'Lamentations', 'Ezekiel',\n",
       "       'Daniel', 'Hosea', 'Joel', 'Amos', 'Obadiah', 'Jonah', 'Micah',\n",
       "       'Nahum', 'Habakkuk', 'Zephaniah', 'Haggai', 'Zechariah', 'Malachi',\n",
       "       'Matthew', 'Mark', 'Luke', 'John', 'Acts', 'Romans',\n",
       "       '1 Corinthians', '2 Corinthians', 'Galatians', 'Ephesians',\n",
       "       'Philippians', 'Colossians', '1 Thessalonians', '2 Thessalonians',\n",
       "       '1 Timothy', '2 Timothy', 'Titus', 'Philemon', 'Hebrews', 'James',\n",
       "       '1 Peter', '2 Peter', '1 John', '2 John', '3 John', 'Jude',\n",
       "       'Revelation'], dtype=object)"
      ]
     },
     "execution_count": 929,
     "metadata": {},
     "output_type": "execute_result"
    }
   ],
   "source": [
    "pd.unique(tweb['bookname'])"
   ]
  },
  {
   "cell_type": "markdown",
   "metadata": {
    "deletable": true,
    "editable": true
   },
   "source": [
    "### Use countplot to count book title instances and plot \n",
    "#### (Data has a row for each verse so implementing countplot using book titles will bin books counting verses)"
   ]
  },
  {
   "cell_type": "code",
   "execution_count": 930,
   "metadata": {
    "collapsed": false,
    "deletable": true,
    "editable": true
   },
   "outputs": [
    {
     "name": "stderr",
     "output_type": "stream",
     "text": [
      "/usr/lib/python3.6/site-packages/matplotlib/font_manager.py:1297: UserWarning: findfont: Font family ['sans-serif'] not found. Falling back to DejaVu Sans\n",
      "  (prop.get_family(), self.defaultFamily[fontext]))\n"
     ]
    },
    {
     "data": {
      "image/png": "[encoded data removed]",
      "text/plain": [
       "<matplotlib.figure.Figure at 0x7fe5a22ccd68>"
      ]
     },
     "metadata": {},
     "output_type": "display_data"
    }
   ],
   "source": [
    "plt.figure(figsize=(20,10))\n",
    "plt.xticks(rotation=75)\n",
    "#fig = sns.countplot(x=\"field.1_y\",  hue=\"field.1\",data=tweb)\n",
    "fig = sns.countplot(x=\"bookname\",data=tweb)"
   ]
  },
  {
   "cell_type": "markdown",
   "metadata": {
    "deletable": true,
    "editable": true
   },
   "source": [
    "### Plot Genre verse counts using same method"
   ]
  },
  {
   "cell_type": "code",
   "execution_count": 931,
   "metadata": {
    "collapsed": false,
    "deletable": true,
    "editable": true
   },
   "outputs": [
    {
     "name": "stderr",
     "output_type": "stream",
     "text": [
      "/usr/lib/python3.6/site-packages/matplotlib/font_manager.py:1297: UserWarning: findfont: Font family ['sans-serif'] not found. Falling back to DejaVu Sans\n",
      "  (prop.get_family(), self.defaultFamily[fontext]))\n"
     ]
    },
    {
     "data": {
      "image/png": "[encoded data removed]",
      "text/plain": [
       "<matplotlib.figure.Figure at 0x7fe59b656dd8>"
      ]
     },
     "metadata": {},
     "output_type": "display_data"
    }
   ],
   "source": [
    "plt.xticks(rotation=75)\n",
    "fig = sns.countplot(x=\"genre\", data=tweb)"
   ]
  },
  {
   "cell_type": "markdown",
   "metadata": {
    "deletable": true,
    "editable": true
   },
   "source": [
    "### Use Regex to tokenize words in verses (skipping punctuation)"
   ]
  },
  {
   "cell_type": "code",
   "execution_count": 932,
   "metadata": {
    "collapsed": false,
    "deletable": true,
    "editable": true
   },
   "outputs": [
    {
     "data": {
      "text/html": [
       "<div>\n",
       "<table border=\"1\" class=\"dataframe\">\n",
       "  <thead>\n",
       "    <tr style=\"text-align: right;\">\n",
       "      <th></th>\n",
       "      <th>id_x</th>\n",
       "      <th>booknum</th>\n",
       "      <th>chnum</th>\n",
       "      <th>versenum</th>\n",
       "      <th>text</th>\n",
       "      <th>bookname</th>\n",
       "      <th>testament</th>\n",
       "      <th>genrenum</th>\n",
       "      <th>bookpad</th>\n",
       "      <th>genre</th>\n",
       "      <th>verses_nopunct</th>\n",
       "    </tr>\n",
       "  </thead>\n",
       "  <tbody>\n",
       "    <tr>\n",
       "      <th>0</th>\n",
       "      <td>01001001</td>\n",
       "      <td>1</td>\n",
       "      <td>1</td>\n",
       "      <td>1</td>\n",
       "      <td>In the beginning of God's preparing the heaven...</td>\n",
       "      <td>Genesis</td>\n",
       "      <td>OT</td>\n",
       "      <td>1</td>\n",
       "      <td>01</td>\n",
       "      <td>Law</td>\n",
       "      <td>[In, the, beginning, of, God, s, preparing, th...</td>\n",
       "    </tr>\n",
       "    <tr>\n",
       "      <th>1</th>\n",
       "      <td>01001002</td>\n",
       "      <td>1</td>\n",
       "      <td>1</td>\n",
       "      <td>2</td>\n",
       "      <td>the earth hath existed waste and void, and dar...</td>\n",
       "      <td>Genesis</td>\n",
       "      <td>OT</td>\n",
       "      <td>1</td>\n",
       "      <td>01</td>\n",
       "      <td>Law</td>\n",
       "      <td>[the, earth, hath, existed, waste, and, void, ...</td>\n",
       "    </tr>\n",
       "    <tr>\n",
       "      <th>2</th>\n",
       "      <td>01001003</td>\n",
       "      <td>1</td>\n",
       "      <td>1</td>\n",
       "      <td>3</td>\n",
       "      <td>and God saith, `Let light be;' and light is.</td>\n",
       "      <td>Genesis</td>\n",
       "      <td>OT</td>\n",
       "      <td>1</td>\n",
       "      <td>01</td>\n",
       "      <td>Law</td>\n",
       "      <td>[and, God, saith, Let, light, be, and, light, is]</td>\n",
       "    </tr>\n",
       "    <tr>\n",
       "      <th>3</th>\n",
       "      <td>01001004</td>\n",
       "      <td>1</td>\n",
       "      <td>1</td>\n",
       "      <td>4</td>\n",
       "      <td>And God seeth the light that `it is' good, and...</td>\n",
       "      <td>Genesis</td>\n",
       "      <td>OT</td>\n",
       "      <td>1</td>\n",
       "      <td>01</td>\n",
       "      <td>Law</td>\n",
       "      <td>[And, God, seeth, the, light, that, it, is, go...</td>\n",
       "    </tr>\n",
       "    <tr>\n",
       "      <th>4</th>\n",
       "      <td>01001005</td>\n",
       "      <td>1</td>\n",
       "      <td>1</td>\n",
       "      <td>5</td>\n",
       "      <td>and God calleth to the light `Day,' and to the...</td>\n",
       "      <td>Genesis</td>\n",
       "      <td>OT</td>\n",
       "      <td>1</td>\n",
       "      <td>01</td>\n",
       "      <td>Law</td>\n",
       "      <td>[and, God, calleth, to, the, light, Day, and, ...</td>\n",
       "    </tr>\n",
       "  </tbody>\n",
       "</table>\n",
       "</div>"
      ],
      "text/plain": [
       "       id_x  booknum  chnum  versenum  \\\n",
       "0  01001001        1      1         1   \n",
       "1  01001002        1      1         2   \n",
       "2  01001003        1      1         3   \n",
       "3  01001004        1      1         4   \n",
       "4  01001005        1      1         5   \n",
       "\n",
       "                                                text bookname testament  \\\n",
       "0  In the beginning of God's preparing the heaven...  Genesis        OT   \n",
       "1  the earth hath existed waste and void, and dar...  Genesis        OT   \n",
       "2       and God saith, `Let light be;' and light is.  Genesis        OT   \n",
       "3  And God seeth the light that `it is' good, and...  Genesis        OT   \n",
       "4  and God calleth to the light `Day,' and to the...  Genesis        OT   \n",
       "\n",
       "   genrenum bookpad genre                                     verses_nopunct  \n",
       "0         1      01   Law  [In, the, beginning, of, God, s, preparing, th...  \n",
       "1         1      01   Law  [the, earth, hath, existed, waste, and, void, ...  \n",
       "2         1      01   Law  [and, God, saith, Let, light, be, and, light, is]  \n",
       "3         1      01   Law  [And, God, seeth, the, light, that, it, is, go...  \n",
       "4         1      01   Law  [and, God, calleth, to, the, light, Day, and, ...  "
      ]
     },
     "execution_count": 932,
     "metadata": {},
     "output_type": "execute_result"
    }
   ],
   "source": [
    "notpunct = re.compile('\\w+')\n",
    "tweb['verses_nopunct'] = tweb['text'].str.findall(notpunct)\n",
    "tweb.head()"
   ]
  },
  {
   "cell_type": "code",
   "execution_count": 933,
   "metadata": {
    "collapsed": true,
    "deletable": true,
    "editable": true
   },
   "outputs": [],
   "source": [
    "from nltk.corpus import stopwords"
   ]
  },
  {
   "cell_type": "code",
   "execution_count": 934,
   "metadata": {
    "collapsed": false,
    "deletable": true,
    "editable": true
   },
   "outputs": [],
   "source": [
    "english_stops = set(stopwords.words(\"english\"))"
   ]
  },
  {
   "cell_type": "code",
   "execution_count": 935,
   "metadata": {
    "collapsed": false,
    "deletable": true,
    "editable": true
   },
   "outputs": [],
   "source": [
    "def remstopwords(ls):\n",
    "    stopwt = [word.lower() for word in ls if word.lower() not in english_stops]\n",
    "    return stopwt"
   ]
  },
  {
   "cell_type": "code",
   "execution_count": 936,
   "metadata": {
    "collapsed": false,
    "deletable": true,
    "editable": true
   },
   "outputs": [],
   "source": [
    "tweb['swverses'] = tweb['verses_nopunct'].apply(remstopwords)"
   ]
  },
  {
   "cell_type": "code",
   "execution_count": 937,
   "metadata": {
    "collapsed": false,
    "deletable": true,
    "editable": true
   },
   "outputs": [],
   "source": [
    "# nltk word_tokenize by default does not remove punctuation\n",
    "#tweb['words'] = tweb['field.4'].apply(nltk.word_tokenize)\n",
    "#tweb.head()"
   ]
  },
  {
   "cell_type": "code",
   "execution_count": 938,
   "metadata": {
    "collapsed": false,
    "deletable": true,
    "editable": true
   },
   "outputs": [
    {
     "data": {
      "text/html": [
       "<div>\n",
       "<table border=\"1\" class=\"dataframe\">\n",
       "  <thead>\n",
       "    <tr style=\"text-align: right;\">\n",
       "      <th></th>\n",
       "      <th>id_x</th>\n",
       "      <th>booknum</th>\n",
       "      <th>chnum</th>\n",
       "      <th>versenum</th>\n",
       "      <th>text</th>\n",
       "      <th>bookname</th>\n",
       "      <th>testament</th>\n",
       "      <th>genrenum</th>\n",
       "      <th>bookpad</th>\n",
       "      <th>genre</th>\n",
       "      <th>verses_nopunct</th>\n",
       "      <th>swverses</th>\n",
       "    </tr>\n",
       "  </thead>\n",
       "  <tbody>\n",
       "    <tr>\n",
       "      <th>0</th>\n",
       "      <td>01001001</td>\n",
       "      <td>1</td>\n",
       "      <td>1</td>\n",
       "      <td>1</td>\n",
       "      <td>In the beginning of God's preparing the heaven...</td>\n",
       "      <td>Genesis</td>\n",
       "      <td>OT</td>\n",
       "      <td>1</td>\n",
       "      <td>01</td>\n",
       "      <td>Law</td>\n",
       "      <td>[In, the, beginning, of, God, s, preparing, th...</td>\n",
       "      <td>[beginning, god, preparing, heavens, earth]</td>\n",
       "    </tr>\n",
       "    <tr>\n",
       "      <th>1</th>\n",
       "      <td>01001002</td>\n",
       "      <td>1</td>\n",
       "      <td>1</td>\n",
       "      <td>2</td>\n",
       "      <td>the earth hath existed waste and void, and dar...</td>\n",
       "      <td>Genesis</td>\n",
       "      <td>OT</td>\n",
       "      <td>1</td>\n",
       "      <td>01</td>\n",
       "      <td>Law</td>\n",
       "      <td>[the, earth, hath, existed, waste, and, void, ...</td>\n",
       "      <td>[earth, hath, existed, waste, void, darkness, ...</td>\n",
       "    </tr>\n",
       "    <tr>\n",
       "      <th>2</th>\n",
       "      <td>01001003</td>\n",
       "      <td>1</td>\n",
       "      <td>1</td>\n",
       "      <td>3</td>\n",
       "      <td>and God saith, `Let light be;' and light is.</td>\n",
       "      <td>Genesis</td>\n",
       "      <td>OT</td>\n",
       "      <td>1</td>\n",
       "      <td>01</td>\n",
       "      <td>Law</td>\n",
       "      <td>[and, God, saith, Let, light, be, and, light, is]</td>\n",
       "      <td>[god, saith, let, light, light]</td>\n",
       "    </tr>\n",
       "    <tr>\n",
       "      <th>3</th>\n",
       "      <td>01001004</td>\n",
       "      <td>1</td>\n",
       "      <td>1</td>\n",
       "      <td>4</td>\n",
       "      <td>And God seeth the light that `it is' good, and...</td>\n",
       "      <td>Genesis</td>\n",
       "      <td>OT</td>\n",
       "      <td>1</td>\n",
       "      <td>01</td>\n",
       "      <td>Law</td>\n",
       "      <td>[And, God, seeth, the, light, that, it, is, go...</td>\n",
       "      <td>[god, seeth, light, good, god, separateth, lig...</td>\n",
       "    </tr>\n",
       "    <tr>\n",
       "      <th>4</th>\n",
       "      <td>01001005</td>\n",
       "      <td>1</td>\n",
       "      <td>1</td>\n",
       "      <td>5</td>\n",
       "      <td>and God calleth to the light `Day,' and to the...</td>\n",
       "      <td>Genesis</td>\n",
       "      <td>OT</td>\n",
       "      <td>1</td>\n",
       "      <td>01</td>\n",
       "      <td>Law</td>\n",
       "      <td>[and, God, calleth, to, the, light, Day, and, ...</td>\n",
       "      <td>[god, calleth, light, day, darkness, hath, cal...</td>\n",
       "    </tr>\n",
       "  </tbody>\n",
       "</table>\n",
       "</div>"
      ],
      "text/plain": [
       "       id_x  booknum  chnum  versenum  \\\n",
       "0  01001001        1      1         1   \n",
       "1  01001002        1      1         2   \n",
       "2  01001003        1      1         3   \n",
       "3  01001004        1      1         4   \n",
       "4  01001005        1      1         5   \n",
       "\n",
       "                                                text bookname testament  \\\n",
       "0  In the beginning of God's preparing the heaven...  Genesis        OT   \n",
       "1  the earth hath existed waste and void, and dar...  Genesis        OT   \n",
       "2       and God saith, `Let light be;' and light is.  Genesis        OT   \n",
       "3  And God seeth the light that `it is' good, and...  Genesis        OT   \n",
       "4  and God calleth to the light `Day,' and to the...  Genesis        OT   \n",
       "\n",
       "   genrenum bookpad genre                                     verses_nopunct  \\\n",
       "0         1      01   Law  [In, the, beginning, of, God, s, preparing, th...   \n",
       "1         1      01   Law  [the, earth, hath, existed, waste, and, void, ...   \n",
       "2         1      01   Law  [and, God, saith, Let, light, be, and, light, is]   \n",
       "3         1      01   Law  [And, God, seeth, the, light, that, it, is, go...   \n",
       "4         1      01   Law  [and, God, calleth, to, the, light, Day, and, ...   \n",
       "\n",
       "                                            swverses  \n",
       "0        [beginning, god, preparing, heavens, earth]  \n",
       "1  [earth, hath, existed, waste, void, darkness, ...  \n",
       "2                    [god, saith, let, light, light]  \n",
       "3  [god, seeth, light, good, god, separateth, lig...  \n",
       "4  [god, calleth, light, day, darkness, hath, cal...  "
      ]
     },
     "execution_count": 938,
     "metadata": {},
     "output_type": "execute_result"
    }
   ],
   "source": [
    "tweb.head()"
   ]
  },
  {
   "cell_type": "code",
   "execution_count": 939,
   "metadata": {
    "collapsed": true,
    "deletable": true,
    "editable": true
   },
   "outputs": [],
   "source": [
    "words = []\n",
    "sWords = []\n",
    "for i in tweb['swverses']:\n",
    "    for j in i:\n",
    "        sWords.append(j)\n",
    "for i in tweb['verses_nopunct']:\n",
    "    for j in i:\n",
    "        words.append(j)"
   ]
  },
  {
   "cell_type": "code",
   "execution_count": 940,
   "metadata": {
    "collapsed": false,
    "deletable": true,
    "editable": true
   },
   "outputs": [],
   "source": [
    "#sWords"
   ]
  },
  {
   "cell_type": "code",
   "execution_count": 941,
   "metadata": {
    "collapsed": false,
    "deletable": true,
    "editable": true
   },
   "outputs": [
    {
     "data": {
      "text/plain": [
       "791581"
      ]
     },
     "execution_count": 941,
     "metadata": {},
     "output_type": "execute_result"
    }
   ],
   "source": [
    "len(words)"
   ]
  },
  {
   "cell_type": "code",
   "execution_count": 942,
   "metadata": {
    "collapsed": false,
    "deletable": true,
    "editable": true
   },
   "outputs": [
    {
     "data": {
      "text/plain": [
       "366690"
      ]
     },
     "execution_count": 942,
     "metadata": {},
     "output_type": "execute_result"
    }
   ],
   "source": [
    "len(sWords)"
   ]
  },
  {
   "cell_type": "code",
   "execution_count": 943,
   "metadata": {
    "collapsed": false,
    "deletable": true,
    "editable": true
   },
   "outputs": [],
   "source": [
    "uwords = pd.unique(sWords)\n",
    "nwords = pd.unique(words)"
   ]
  },
  {
   "cell_type": "code",
   "execution_count": 944,
   "metadata": {
    "collapsed": false,
    "deletable": true,
    "editable": true
   },
   "outputs": [
    {
     "data": {
      "text/plain": [
       "12065"
      ]
     },
     "execution_count": 944,
     "metadata": {},
     "output_type": "execute_result"
    }
   ],
   "source": [
    "len(uwords)"
   ]
  },
  {
   "cell_type": "code",
   "execution_count": 945,
   "metadata": {
    "collapsed": false,
    "deletable": true,
    "editable": true
   },
   "outputs": [],
   "source": [
    "removedw = [word for word in nwords if word not in uwords]\n",
    "#removedw"
   ]
  },
  {
   "cell_type": "code",
   "execution_count": 946,
   "metadata": {
    "collapsed": false,
    "deletable": true,
    "editable": true
   },
   "outputs": [
    {
     "data": {
      "text/plain": [
       "True"
      ]
     },
     "execution_count": 946,
     "metadata": {},
     "output_type": "execute_result"
    }
   ],
   "source": [
    "#len(removedw)\n",
    "'In' in removedw"
   ]
  },
  {
   "cell_type": "code",
   "execution_count": 947,
   "metadata": {
    "collapsed": true,
    "deletable": true,
    "editable": true
   },
   "outputs": [],
   "source": [
    "from nltk.collocations import BigramCollocationFinder, TrigramCollocationFinder, QuadgramCollocationFinder, ngrams\n",
    "from nltk.metrics import BigramAssocMeasures, TrigramAssocMeasures, NgramAssocMeasures"
   ]
  },
  {
   "cell_type": "code",
   "execution_count": 948,
   "metadata": {
    "collapsed": true,
    "deletable": true,
    "editable": true
   },
   "outputs": [],
   "source": [
    "### Getting Error QuadgramAssocMeasures not defined copied below class from NLTK source\n",
    "class QuadgramAssocMeasures(NgramAssocMeasures):\n",
    "    \"\"\"\n",
    "    A collection of quadgram association measures. Each association measure\n",
    "    is provided as a function with five arguments::\n",
    "\n",
    "        trigram_score_fn(n_iiii,\n",
    "                        (n_iiix, n_iixi, n_ixii, n_xiii),\n",
    "                        (n_iixx, n_ixix, n_ixxi, n_xixi, n_xxii, n_xiix),\n",
    "                        (n_ixxx, n_xixx, n_xxix, n_xxxi),\n",
    "                        n_all)\n",
    "\n",
    "    The arguments constitute the marginals of a contingency table, counting\n",
    "    the occurrences of particular events in a corpus. The letter i in the\n",
    "    suffix refers to the appearance of the word in question, while x indicates\n",
    "    the appearance of any word. Thus, for example:\n",
    "    n_iiii counts (w1, w2, w3, w4), i.e. the quadgram being scored\n",
    "    n_ixxi counts (w1, *, *, w4)\n",
    "    n_xxxx counts (*, *, *, *), i.e. any quadgram\n",
    "    \"\"\"\n",
    "\n",
    "    _n = 4\n",
    "\n",
    "    @staticmethod\n",
    "    def _contingency(n_iiii, n_iiix_tuple, n_iixx_tuple, n_ixxx_tuple, n_xxxx):\n",
    "        \"\"\"Calculates values of a quadgram contingency table from\n",
    "        marginal values.\n",
    "        \"\"\"\n",
    "        (n_iiix, n_iixi, n_ixii, n_xiii) = n_iiix_tuple\n",
    "        (n_iixx, n_ixix, n_ixxi, n_xixi, n_xxii, n_xiix) = n_iixx_tuple\n",
    "        (n_ixxx, n_xixx, n_xxix, n_xxxi) = n_ixxx_tuple\n",
    "        n_oiii = n_xiii - n_iiii\n",
    "        n_ioii = n_ixii - n_iiii\n",
    "        n_iioi = n_iixi - n_iiii\n",
    "        n_ooii = n_xxii - n_iiii - n_oiii - n_ioii\n",
    "        n_oioi = n_xixi - n_iiii - n_oiii - n_iioi\n",
    "        n_iooi = n_ixxi - n_iiii - n_ioii - n_iioi\n",
    "        n_oooi = n_xxxi - n_iiii - n_oiii - n_ioii - n_iioi - n_ooii - n_iooi - n_oioi\n",
    "        n_iiio = n_iiix - n_iiii\n",
    "        n_oiio = n_xiix - n_iiii - n_oiii - n_iiio\n",
    "        n_ioio = n_ixix - n_iiii - n_ioii - n_iiio\n",
    "        n_ooio = n_xxix - n_iiii - n_oiii - n_ioii - n_iiio - n_ooii - n_ioio - n_oiio\n",
    "        n_iioo = n_iixx - n_iiii - n_iioi - n_iiio\n",
    "        n_oioo = n_xixx - n_iiii - n_oiii - n_iioi - n_iiio - n_oioi - n_oiio - n_iioo\n",
    "        n_iooo = n_ixxx - n_iiii - n_ioii - n_iioi - n_iiio - n_iooi - n_iioo - n_ioio\n",
    "        n_oooo = n_xxxx - n_iiii - n_oiii - n_ioii - n_iioi - n_ooii - n_oioi - n_iooi - \\\n",
    "                 n_oooi - n_iiio - n_oiio - n_ioio - n_ooio - n_iioo - n_oioo - n_iooo\n",
    "\n",
    "        return (n_iiii, n_oiii, n_ioii, n_ooii, n_iioi,\n",
    "                n_oioi, n_iooi, n_oooi, n_iiio, n_oiio,\n",
    "                n_ioio, n_ooio, n_iioo, n_oioo, n_iooo, n_oooo)\n",
    "\n",
    "    @staticmethod\n",
    "    def _marginals(*contingency):\n",
    "        \"\"\"Calculates values of contingency table marginals from its values.\n",
    "        QuadgramAssocMeasures._marginals(1, 0, 2, 46, 552, 825, 2577, 34967, 1, 0, 2, 48, 7250, 9031, 28585, 356653)\n",
    "        (1, (2, 553, 3, 1), (7804, 6, 3132, 1378, 49, 2), (38970, 17660, 100, 38970), 440540)\n",
    "        \"\"\"\n",
    "        n_iiii, n_oiii, n_ioii, n_ooii, n_iioi, n_oioi, n_iooi, n_oooi, n_iiio, n_oiio, n_ioio, n_ooio, \\\n",
    "        n_iioo, n_oioo, n_iooo, n_oooo = contingency\n",
    "\n",
    "        n_iiix = n_iiii + n_iiio\n",
    "        n_iixi = n_iiii + n_iioi\n",
    "        n_ixii = n_iiii + n_ioii\n",
    "        n_xiii = n_iiii + n_oiii\n",
    "\n",
    "        n_iixx = n_iiii + n_iioi + n_iiio + n_iioo\n",
    "        n_ixix = n_iiii + n_ioii + n_iiio + n_ioio\n",
    "        n_ixxi = n_iiii + n_ioii + n_iioi + n_iooi\n",
    "        n_xixi = n_iiii + n_oiii + n_iioi + n_oioi\n",
    "        n_xxii = n_iiii + n_oiii + n_ioii + n_ooii\n",
    "        n_xiix = n_iiii + n_oiii + n_iiio + n_oiio\n",
    "\n",
    "        n_ixxx = n_iiii + n_ioii + n_iioi + n_iiio + n_iooi + n_iioo + n_ioio + n_iooo\n",
    "        n_xixx = n_iiii + n_oiii + n_iioi + n_iiio + n_oioi + n_oiio + n_iioo + n_oioo\n",
    "        n_xxix = n_iiii + n_oiii + n_ioii + n_iiio + n_ooii + n_ioio + n_oiio + n_ooio\n",
    "        n_xxxi = n_iiii + n_oiii + n_ioii + n_iioi + n_ooii + n_iooi + n_oioi + n_oooi\n",
    "\n",
    "        n_all = sum(contingency)\n",
    "\n",
    "        return (n_iiii,\n",
    "                (n_iiix, n_iixi, n_ixii, n_xiii),\n",
    "                (n_iixx, n_ixix, n_ixxi, n_xixi, n_xxii, n_xiix),\n",
    "                (n_ixxx, n_xixx, n_xxix, n_xxxi),\n",
    "                n_all)"
   ]
  },
  {
   "cell_type": "code",
   "execution_count": 949,
   "metadata": {
    "collapsed": false,
    "deletable": true,
    "editable": true
   },
   "outputs": [],
   "source": [
    "#bcf = BigramCollocationFinder.from_words(sWords)\n",
    "#tcf = TrigramCollocationFinder.from_words(words)\n",
    "#qcf = QuadgramCollocationFinder.from_words(words)\n",
    "#scf = ngrams\n",
    "\n"
   ]
  },
  {
   "cell_type": "code",
   "execution_count": 950,
   "metadata": {
    "collapsed": false,
    "deletable": true,
    "editable": true
   },
   "outputs": [],
   "source": [
    "#bigrams = [b for b in bcf.nbest(BigramAssocMeasures.likelihood_ratio,len(sWords))]\n",
    "#trigrams = [t for t in tcf.nbest(TrigramAssocMeasures.likelihood_ratio,len(words))]\n",
    "#quadgrams = [q for q in qcf.nbest(QuadgramAssocMeasures.likelihood_ratio,len(words))]\n"
   ]
  },
  {
   "cell_type": "code",
   "execution_count": null,
   "metadata": {
    "collapsed": false,
    "deletable": true,
    "editable": true
   },
   "outputs": [],
   "source": []
  },
  {
   "cell_type": "code",
   "execution_count": null,
   "metadata": {
    "collapsed": true,
    "deletable": true,
    "editable": true
   },
   "outputs": [],
   "source": []
  },
  {
   "cell_type": "markdown",
   "metadata": {
    "collapsed": false,
    "deletable": true,
    "editable": true
   },
   "source": [
    "### Adds column of word counts to each row"
   ]
  },
  {
   "cell_type": "code",
   "execution_count": 951,
   "metadata": {
    "collapsed": true,
    "deletable": true,
    "editable": true
   },
   "outputs": [],
   "source": [
    "tweb['wordcount'] = tweb['verses_nopunct'].apply(len)"
   ]
  },
  {
   "cell_type": "code",
   "execution_count": 952,
   "metadata": {
    "collapsed": false,
    "deletable": true,
    "editable": true
   },
   "outputs": [],
   "source": [
    "#tweb.drop(['field.3_y','field'],axis=1,inplace=True)\n",
    "tweb.drop(['genrenum'],axis=1,inplace=True)"
   ]
  },
  {
   "cell_type": "code",
   "execution_count": 953,
   "metadata": {
    "collapsed": false,
    "deletable": true,
    "editable": true
   },
   "outputs": [],
   "source": [
    "tweb.columns = [\"id\",\"booknum\",\"chnum\",\"versenum\",\"text\",\"bookname\",\"testament\",\"bookpad\",\"genre\",\"versearr\",\"sversearr\",\"wordcount\"]"
   ]
  },
  {
   "cell_type": "code",
   "execution_count": 954,
   "metadata": {
    "collapsed": false,
    "deletable": true,
    "editable": true,
    "scrolled": true
   },
   "outputs": [
    {
     "data": {
      "text/html": [
       "<div>\n",
       "<table border=\"1\" class=\"dataframe\">\n",
       "  <thead>\n",
       "    <tr style=\"text-align: right;\">\n",
       "      <th></th>\n",
       "      <th>id</th>\n",
       "      <th>booknum</th>\n",
       "      <th>chnum</th>\n",
       "      <th>versenum</th>\n",
       "      <th>text</th>\n",
       "      <th>bookname</th>\n",
       "      <th>testament</th>\n",
       "      <th>bookpad</th>\n",
       "      <th>genre</th>\n",
       "      <th>versearr</th>\n",
       "      <th>sversearr</th>\n",
       "      <th>wordcount</th>\n",
       "    </tr>\n",
       "  </thead>\n",
       "  <tbody>\n",
       "    <tr>\n",
       "      <th>0</th>\n",
       "      <td>01001001</td>\n",
       "      <td>1</td>\n",
       "      <td>1</td>\n",
       "      <td>1</td>\n",
       "      <td>In the beginning of God's preparing the heaven...</td>\n",
       "      <td>Genesis</td>\n",
       "      <td>OT</td>\n",
       "      <td>01</td>\n",
       "      <td>Law</td>\n",
       "      <td>[In, the, beginning, of, God, s, preparing, th...</td>\n",
       "      <td>[beginning, god, preparing, heavens, earth]</td>\n",
       "      <td>12</td>\n",
       "    </tr>\n",
       "    <tr>\n",
       "      <th>1</th>\n",
       "      <td>01001002</td>\n",
       "      <td>1</td>\n",
       "      <td>1</td>\n",
       "      <td>2</td>\n",
       "      <td>the earth hath existed waste and void, and dar...</td>\n",
       "      <td>Genesis</td>\n",
       "      <td>OT</td>\n",
       "      <td>01</td>\n",
       "      <td>Law</td>\n",
       "      <td>[the, earth, hath, existed, waste, and, void, ...</td>\n",
       "      <td>[earth, hath, existed, waste, void, darkness, ...</td>\n",
       "      <td>28</td>\n",
       "    </tr>\n",
       "    <tr>\n",
       "      <th>2</th>\n",
       "      <td>01001003</td>\n",
       "      <td>1</td>\n",
       "      <td>1</td>\n",
       "      <td>3</td>\n",
       "      <td>and God saith, `Let light be;' and light is.</td>\n",
       "      <td>Genesis</td>\n",
       "      <td>OT</td>\n",
       "      <td>01</td>\n",
       "      <td>Law</td>\n",
       "      <td>[and, God, saith, Let, light, be, and, light, is]</td>\n",
       "      <td>[god, saith, let, light, light]</td>\n",
       "      <td>9</td>\n",
       "    </tr>\n",
       "    <tr>\n",
       "      <th>3</th>\n",
       "      <td>01001004</td>\n",
       "      <td>1</td>\n",
       "      <td>1</td>\n",
       "      <td>4</td>\n",
       "      <td>And God seeth the light that `it is' good, and...</td>\n",
       "      <td>Genesis</td>\n",
       "      <td>OT</td>\n",
       "      <td>01</td>\n",
       "      <td>Law</td>\n",
       "      <td>[And, God, seeth, the, light, that, it, is, go...</td>\n",
       "      <td>[god, seeth, light, good, god, separateth, lig...</td>\n",
       "      <td>18</td>\n",
       "    </tr>\n",
       "    <tr>\n",
       "      <th>4</th>\n",
       "      <td>01001005</td>\n",
       "      <td>1</td>\n",
       "      <td>1</td>\n",
       "      <td>5</td>\n",
       "      <td>and God calleth to the light `Day,' and to the...</td>\n",
       "      <td>Genesis</td>\n",
       "      <td>OT</td>\n",
       "      <td>01</td>\n",
       "      <td>Law</td>\n",
       "      <td>[and, God, calleth, to, the, light, Day, and, ...</td>\n",
       "      <td>[god, calleth, light, day, darkness, hath, cal...</td>\n",
       "      <td>27</td>\n",
       "    </tr>\n",
       "  </tbody>\n",
       "</table>\n",
       "</div>"
      ],
      "text/plain": [
       "         id  booknum  chnum  versenum  \\\n",
       "0  01001001        1      1         1   \n",
       "1  01001002        1      1         2   \n",
       "2  01001003        1      1         3   \n",
       "3  01001004        1      1         4   \n",
       "4  01001005        1      1         5   \n",
       "\n",
       "                                                text bookname testament  \\\n",
       "0  In the beginning of God's preparing the heaven...  Genesis        OT   \n",
       "1  the earth hath existed waste and void, and dar...  Genesis        OT   \n",
       "2       and God saith, `Let light be;' and light is.  Genesis        OT   \n",
       "3  And God seeth the light that `it is' good, and...  Genesis        OT   \n",
       "4  and God calleth to the light `Day,' and to the...  Genesis        OT   \n",
       "\n",
       "  bookpad genre                                           versearr  \\\n",
       "0      01   Law  [In, the, beginning, of, God, s, preparing, th...   \n",
       "1      01   Law  [the, earth, hath, existed, waste, and, void, ...   \n",
       "2      01   Law  [and, God, saith, Let, light, be, and, light, is]   \n",
       "3      01   Law  [And, God, seeth, the, light, that, it, is, go...   \n",
       "4      01   Law  [and, God, calleth, to, the, light, Day, and, ...   \n",
       "\n",
       "                                           sversearr  wordcount  \n",
       "0        [beginning, god, preparing, heavens, earth]         12  \n",
       "1  [earth, hath, existed, waste, void, darkness, ...         28  \n",
       "2                    [god, saith, let, light, light]          9  \n",
       "3  [god, seeth, light, good, god, separateth, lig...         18  \n",
       "4  [god, calleth, light, day, darkness, hath, cal...         27  "
      ]
     },
     "execution_count": 954,
     "metadata": {},
     "output_type": "execute_result"
    }
   ],
   "source": [
    "tweb.head()"
   ]
  },
  {
   "cell_type": "code",
   "execution_count": 955,
   "metadata": {
    "collapsed": false
   },
   "outputs": [
    {
     "data": {
      "text/html": [
       "<div>\n",
       "<table border=\"1\" class=\"dataframe\">\n",
       "  <thead>\n",
       "    <tr style=\"text-align: right;\">\n",
       "      <th></th>\n",
       "      <th>id</th>\n",
       "      <th>booknum</th>\n",
       "      <th>chnum</th>\n",
       "      <th>versenum</th>\n",
       "      <th>text</th>\n",
       "      <th>bookname</th>\n",
       "      <th>testament</th>\n",
       "      <th>bookpad</th>\n",
       "      <th>genre</th>\n",
       "      <th>wordcount</th>\n",
       "    </tr>\n",
       "  </thead>\n",
       "  <tbody>\n",
       "    <tr>\n",
       "      <th>0</th>\n",
       "      <td>01001001</td>\n",
       "      <td>1</td>\n",
       "      <td>1</td>\n",
       "      <td>1</td>\n",
       "      <td>In the beginning of God's preparing the heaven...</td>\n",
       "      <td>Genesis</td>\n",
       "      <td>OT</td>\n",
       "      <td>01</td>\n",
       "      <td>Law</td>\n",
       "      <td>12</td>\n",
       "    </tr>\n",
       "    <tr>\n",
       "      <th>1</th>\n",
       "      <td>01001002</td>\n",
       "      <td>1</td>\n",
       "      <td>1</td>\n",
       "      <td>2</td>\n",
       "      <td>the earth hath existed waste and void, and dar...</td>\n",
       "      <td>Genesis</td>\n",
       "      <td>OT</td>\n",
       "      <td>01</td>\n",
       "      <td>Law</td>\n",
       "      <td>28</td>\n",
       "    </tr>\n",
       "    <tr>\n",
       "      <th>2</th>\n",
       "      <td>01001003</td>\n",
       "      <td>1</td>\n",
       "      <td>1</td>\n",
       "      <td>3</td>\n",
       "      <td>and God saith, `Let light be;' and light is.</td>\n",
       "      <td>Genesis</td>\n",
       "      <td>OT</td>\n",
       "      <td>01</td>\n",
       "      <td>Law</td>\n",
       "      <td>9</td>\n",
       "    </tr>\n",
       "    <tr>\n",
       "      <th>3</th>\n",
       "      <td>01001004</td>\n",
       "      <td>1</td>\n",
       "      <td>1</td>\n",
       "      <td>4</td>\n",
       "      <td>And God seeth the light that `it is' good, and...</td>\n",
       "      <td>Genesis</td>\n",
       "      <td>OT</td>\n",
       "      <td>01</td>\n",
       "      <td>Law</td>\n",
       "      <td>18</td>\n",
       "    </tr>\n",
       "    <tr>\n",
       "      <th>4</th>\n",
       "      <td>01001005</td>\n",
       "      <td>1</td>\n",
       "      <td>1</td>\n",
       "      <td>5</td>\n",
       "      <td>and God calleth to the light `Day,' and to the...</td>\n",
       "      <td>Genesis</td>\n",
       "      <td>OT</td>\n",
       "      <td>01</td>\n",
       "      <td>Law</td>\n",
       "      <td>27</td>\n",
       "    </tr>\n",
       "  </tbody>\n",
       "</table>\n",
       "</div>"
      ],
      "text/plain": [
       "         id  booknum  chnum  versenum  \\\n",
       "0  01001001        1      1         1   \n",
       "1  01001002        1      1         2   \n",
       "2  01001003        1      1         3   \n",
       "3  01001004        1      1         4   \n",
       "4  01001005        1      1         5   \n",
       "\n",
       "                                                text bookname testament  \\\n",
       "0  In the beginning of God's preparing the heaven...  Genesis        OT   \n",
       "1  the earth hath existed waste and void, and dar...  Genesis        OT   \n",
       "2       and God saith, `Let light be;' and light is.  Genesis        OT   \n",
       "3  And God seeth the light that `it is' good, and...  Genesis        OT   \n",
       "4  and God calleth to the light `Day,' and to the...  Genesis        OT   \n",
       "\n",
       "  bookpad genre  wordcount  \n",
       "0      01   Law         12  \n",
       "1      01   Law         28  \n",
       "2      01   Law          9  \n",
       "3      01   Law         18  \n",
       "4      01   Law         27  "
      ]
     },
     "execution_count": 955,
     "metadata": {},
     "output_type": "execute_result"
    }
   ],
   "source": [
    "# remove text arrays for export to file\n",
    "temparr_df = tweb.drop(['versearr','sversearr'],axis=1)\n",
    "temparr_df.head()"
   ]
  },
  {
   "cell_type": "code",
   "execution_count": null,
   "metadata": {
    "collapsed": true
   },
   "outputs": [],
   "source": []
  },
  {
   "cell_type": "markdown",
   "metadata": {
    "deletable": true,
    "editable": true
   },
   "source": [
    "### Export main verse data to tsv"
   ]
  },
  {
   "cell_type": "code",
   "execution_count": 956,
   "metadata": {
    "collapsed": true,
    "deletable": true,
    "editable": true
   },
   "outputs": [],
   "source": [
    "temparr_df.to_csv('yltdata.tsv',sep='\\t')\n",
    "#temparr_df.to_csv('webdata.tsv',sep='\\t')\n",
    "#temparr_df.to_csv('kjvdata.tsv',sep='\\t')"
   ]
  },
  {
   "cell_type": "code",
   "execution_count": 957,
   "metadata": {
    "collapsed": false,
    "deletable": true,
    "editable": true
   },
   "outputs": [],
   "source": [
    "#wdf = pd.DataFrame(sWords)"
   ]
  },
  {
   "cell_type": "code",
   "execution_count": 958,
   "metadata": {
    "collapsed": false,
    "deletable": true,
    "editable": true
   },
   "outputs": [],
   "source": [
    "#wdf.columns = ['words']\n",
    "#wdf.head()"
   ]
  },
  {
   "cell_type": "code",
   "execution_count": 959,
   "metadata": {
    "collapsed": false,
    "deletable": true,
    "editable": true
   },
   "outputs": [
    {
     "data": {
      "text/html": [
       "<div>\n",
       "<table border=\"1\" class=\"dataframe\">\n",
       "  <thead>\n",
       "    <tr style=\"text-align: right;\">\n",
       "      <th></th>\n",
       "      <th>0</th>\n",
       "    </tr>\n",
       "  </thead>\n",
       "  <tbody>\n",
       "    <tr>\n",
       "      <th>0</th>\n",
       "      <td>beginning</td>\n",
       "    </tr>\n",
       "    <tr>\n",
       "      <th>1</th>\n",
       "      <td>god</td>\n",
       "    </tr>\n",
       "    <tr>\n",
       "      <th>2</th>\n",
       "      <td>preparing</td>\n",
       "    </tr>\n",
       "    <tr>\n",
       "      <th>3</th>\n",
       "      <td>heavens</td>\n",
       "    </tr>\n",
       "    <tr>\n",
       "      <th>4</th>\n",
       "      <td>earth</td>\n",
       "    </tr>\n",
       "  </tbody>\n",
       "</table>\n",
       "</div>"
      ],
      "text/plain": [
       "           0\n",
       "0  beginning\n",
       "1        god\n",
       "2  preparing\n",
       "3    heavens\n",
       "4      earth"
      ]
     },
     "execution_count": 959,
     "metadata": {},
     "output_type": "execute_result"
    }
   ],
   "source": [
    "uwdf = pd.DataFrame(uwords)\n",
    "uwdf.head()"
   ]
  },
  {
   "cell_type": "code",
   "execution_count": 960,
   "metadata": {
    "collapsed": false,
    "deletable": true,
    "editable": true
   },
   "outputs": [],
   "source": [
    "#wdf['vlocations'] = [[tweb.iloc[el]['id'] for i,el in enumerate(tweb) if x in el['sversearr']] for x in sWords]"
   ]
  },
  {
   "cell_type": "code",
   "execution_count": 961,
   "metadata": {
    "collapsed": false,
    "deletable": true,
    "editable": true
   },
   "outputs": [
    {
     "data": {
      "text/plain": [
       "31103"
      ]
     },
     "execution_count": 961,
     "metadata": {},
     "output_type": "execute_result"
    }
   ],
   "source": [
    "len(tweb)"
   ]
  },
  {
   "cell_type": "code",
   "execution_count": 962,
   "metadata": {
    "collapsed": false,
    "deletable": true,
    "editable": true
   },
   "outputs": [],
   "source": [
    "wordmat = tweb['sversearr']\n",
    "wordlists = []\n",
    "for i in wordmat:\n",
    "    wordlists = wordlists+i"
   ]
  },
  {
   "cell_type": "code",
   "execution_count": 963,
   "metadata": {
    "collapsed": false,
    "deletable": true,
    "editable": true
   },
   "outputs": [],
   "source": [
    "#wordlists"
   ]
  },
  {
   "cell_type": "code",
   "execution_count": 964,
   "metadata": {
    "collapsed": false,
    "deletable": true,
    "editable": true
   },
   "outputs": [],
   "source": [
    "wordlocs = []\n",
    "for i in uwords:\n",
    "    wlocs = []\n",
    "    for j,el in enumerate(wordmat):\n",
    "        if i in el:\n",
    "            wlocs.append(j)\n",
    "    wordlocs.append(wlocs)\n",
    "            "
   ]
  },
  {
   "cell_type": "code",
   "execution_count": 965,
   "metadata": {
    "collapsed": false,
    "deletable": true,
    "editable": true
   },
   "outputs": [],
   "source": [
    "#wordlocs\n",
    "#[print(i) for i in tweb['id'][:3000]]"
   ]
  },
  {
   "cell_type": "code",
   "execution_count": 966,
   "metadata": {
    "collapsed": false,
    "deletable": true,
    "editable": true
   },
   "outputs": [
    {
     "data": {
      "text/plain": [
       "\"\\ndef addlocations(ls):\\n    locations = []\\n    for i in uwords:\\n        wlocs = []\\n        for j in range(len(ls)):\\n            if i in ls.iloc[j]['sversearr']:\\n                wlocs.append(ls.iloc[j]['id'])\\n                #print(i)\\n    locations.append(wlocs)\\n    return locations\\n    \\nlocmat[0]\\n\""
      ]
     },
     "execution_count": 966,
     "metadata": {},
     "output_type": "execute_result"
    }
   ],
   "source": [
    "'''\n",
    "def addlocations(ls):\n",
    "    locations = []\n",
    "    for i in uwords:\n",
    "        wlocs = []\n",
    "        for j in range(len(ls)):\n",
    "            if i in ls.iloc[j]['sversearr']:\n",
    "                wlocs.append(ls.iloc[j]['id'])\n",
    "                #print(i)\n",
    "    locations.append(wlocs)\n",
    "    return locations\n",
    "    \n",
    "locmat[0]\n",
    "'''"
   ]
  },
  {
   "cell_type": "code",
   "execution_count": 967,
   "metadata": {
    "collapsed": true,
    "deletable": true,
    "editable": true
   },
   "outputs": [],
   "source": [
    "wordids = []\n",
    "for i in wordlocs:\n",
    "    ids = []\n",
    "    for j in i:\n",
    "        ids.append(tweb.iloc[j]['id'])\n",
    "    wordids.append(ids)"
   ]
  },
  {
   "cell_type": "code",
   "execution_count": 968,
   "metadata": {
    "collapsed": false,
    "deletable": true,
    "editable": true
   },
   "outputs": [
    {
     "data": {
      "text/plain": [
       "['01001001',\n",
       " '01004026',\n",
       " '01049003',\n",
       " '02023019',\n",
       " '03023010',\n",
       " '04015020',\n",
       " '04015021',\n",
       " '04024020',\n",
       " '05011012',\n",
       " '05016009',\n",
       " '05021017',\n",
       " '07007019',\n",
       " '07020032',\n",
       " '08003010',\n",
       " '09003012',\n",
       " '10007010',\n",
       " '11013006',\n",
       " '13016007',\n",
       " '14031010',\n",
       " '16007005']"
      ]
     },
     "execution_count": 968,
     "metadata": {},
     "output_type": "execute_result"
    }
   ],
   "source": [
    "wordids[0][0:20]"
   ]
  },
  {
   "cell_type": "code",
   "execution_count": 969,
   "metadata": {
    "collapsed": false,
    "deletable": true,
    "editable": true
   },
   "outputs": [
    {
     "data": {
      "text/html": [
       "<div>\n",
       "<table border=\"1\" class=\"dataframe\">\n",
       "  <thead>\n",
       "    <tr style=\"text-align: right;\">\n",
       "      <th></th>\n",
       "      <th>uwords</th>\n",
       "      <th>wlocations</th>\n",
       "    </tr>\n",
       "  </thead>\n",
       "  <tbody>\n",
       "    <tr>\n",
       "      <th>0</th>\n",
       "      <td>beginning</td>\n",
       "      <td>[01001001, 01004026, 01049003, 02023019, 03023...</td>\n",
       "    </tr>\n",
       "    <tr>\n",
       "      <th>1</th>\n",
       "      <td>god</td>\n",
       "      <td>[01001001, 01001002, 01001003, 01001004, 01001...</td>\n",
       "    </tr>\n",
       "    <tr>\n",
       "      <th>2</th>\n",
       "      <td>preparing</td>\n",
       "      <td>[01001001, 01005001, 19009007, 19147008, 20008...</td>\n",
       "    </tr>\n",
       "    <tr>\n",
       "      <th>3</th>\n",
       "      <td>heavens</td>\n",
       "      <td>[01001001, 01001008, 01001009, 01001014, 01001...</td>\n",
       "    </tr>\n",
       "    <tr>\n",
       "      <th>4</th>\n",
       "      <td>earth</td>\n",
       "      <td>[01001001, 01001002, 01001010, 01001011, 01001...</td>\n",
       "    </tr>\n",
       "  </tbody>\n",
       "</table>\n",
       "</div>"
      ],
      "text/plain": [
       "      uwords                                         wlocations\n",
       "0  beginning  [01001001, 01004026, 01049003, 02023019, 03023...\n",
       "1        god  [01001001, 01001002, 01001003, 01001004, 01001...\n",
       "2  preparing  [01001001, 01005001, 19009007, 19147008, 20008...\n",
       "3    heavens  [01001001, 01001008, 01001009, 01001014, 01001...\n",
       "4      earth  [01001001, 01001002, 01001010, 01001011, 01001..."
      ]
     },
     "execution_count": 969,
     "metadata": {},
     "output_type": "execute_result"
    }
   ],
   "source": [
    "uwdf['wlocations'] = wordids\n",
    "uwdf.columns = ['uwords','wlocations']\n",
    "uwdf.head()"
   ]
  },
  {
   "cell_type": "code",
   "execution_count": 970,
   "metadata": {
    "collapsed": false
   },
   "outputs": [],
   "source": [
    "\n",
    "def getbookcounts(d):\n",
    "    narr = []\n",
    "    for j in key['bookpad']:\n",
    "        counter = 0\n",
    "        for i in d:\n",
    "            if str(i)[:2] == j:\n",
    "                counter+=1\n",
    "        narr.append(counter)\n",
    "    return narr"
   ]
  },
  {
   "cell_type": "code",
   "execution_count": 971,
   "metadata": {
    "collapsed": false
   },
   "outputs": [],
   "source": [
    "bookc = uwdf['wlocations'].apply(getbookcounts)\n",
    "#bookc.head()"
   ]
  },
  {
   "cell_type": "code",
   "execution_count": 972,
   "metadata": {
    "collapsed": false
   },
   "outputs": [
    {
     "data": {
      "text/plain": [
       "0    [3, 1, 1, 3, 3, 0, 2, 1, 1, 1, 1, 0, 1, 1, 0, ...\n",
       "1    [200, 100, 47, 30, 294, 61, 49, 4, 85, 52, 81,...\n",
       "2    [2, 0, 0, 0, 0, 0, 0, 0, 0, 0, 0, 0, 0, 0, 0, ...\n",
       "3    [36, 14, 1, 0, 37, 4, 4, 0, 4, 4, 18, 14, 6, 2...\n",
       "4    [92, 16, 8, 5, 29, 8, 9, 1, 24, 24, 14, 9, 11,...\n",
       "Name: wlocations, dtype: object"
      ]
     },
     "execution_count": 972,
     "metadata": {},
     "output_type": "execute_result"
    }
   ],
   "source": [
    "bookc.head()"
   ]
  },
  {
   "cell_type": "code",
   "execution_count": 973,
   "metadata": {
    "collapsed": true
   },
   "outputs": [],
   "source": [
    "uwdf['bookcounts'] = bookc\n"
   ]
  },
  {
   "cell_type": "code",
   "execution_count": 974,
   "metadata": {
    "collapsed": false
   },
   "outputs": [
    {
     "data": {
      "text/html": [
       "<div>\n",
       "<table border=\"1\" class=\"dataframe\">\n",
       "  <thead>\n",
       "    <tr style=\"text-align: right;\">\n",
       "      <th></th>\n",
       "      <th>uwords</th>\n",
       "      <th>wlocations</th>\n",
       "      <th>bookcounts</th>\n",
       "    </tr>\n",
       "  </thead>\n",
       "  <tbody>\n",
       "    <tr>\n",
       "      <th>0</th>\n",
       "      <td>beginning</td>\n",
       "      <td>[01001001, 01004026, 01049003, 02023019, 03023...</td>\n",
       "      <td>[3, 1, 1, 3, 3, 0, 2, 1, 1, 1, 1, 0, 1, 1, 0, ...</td>\n",
       "    </tr>\n",
       "    <tr>\n",
       "      <th>1</th>\n",
       "      <td>god</td>\n",
       "      <td>[01001001, 01001002, 01001003, 01001004, 01001...</td>\n",
       "      <td>[200, 100, 47, 30, 294, 61, 49, 4, 85, 52, 81,...</td>\n",
       "    </tr>\n",
       "    <tr>\n",
       "      <th>2</th>\n",
       "      <td>preparing</td>\n",
       "      <td>[01001001, 01005001, 19009007, 19147008, 20008...</td>\n",
       "      <td>[2, 0, 0, 0, 0, 0, 0, 0, 0, 0, 0, 0, 0, 0, 0, ...</td>\n",
       "    </tr>\n",
       "    <tr>\n",
       "      <th>3</th>\n",
       "      <td>heavens</td>\n",
       "      <td>[01001001, 01001008, 01001009, 01001014, 01001...</td>\n",
       "      <td>[36, 14, 1, 0, 37, 4, 4, 0, 4, 4, 18, 14, 6, 2...</td>\n",
       "    </tr>\n",
       "    <tr>\n",
       "      <th>4</th>\n",
       "      <td>earth</td>\n",
       "      <td>[01001001, 01001002, 01001010, 01001011, 01001...</td>\n",
       "      <td>[92, 16, 8, 5, 29, 8, 9, 1, 24, 24, 14, 9, 11,...</td>\n",
       "    </tr>\n",
       "  </tbody>\n",
       "</table>\n",
       "</div>"
      ],
      "text/plain": [
       "      uwords                                         wlocations  \\\n",
       "0  beginning  [01001001, 01004026, 01049003, 02023019, 03023...   \n",
       "1        god  [01001001, 01001002, 01001003, 01001004, 01001...   \n",
       "2  preparing  [01001001, 01005001, 19009007, 19147008, 20008...   \n",
       "3    heavens  [01001001, 01001008, 01001009, 01001014, 01001...   \n",
       "4      earth  [01001001, 01001002, 01001010, 01001011, 01001...   \n",
       "\n",
       "                                          bookcounts  \n",
       "0  [3, 1, 1, 3, 3, 0, 2, 1, 1, 1, 1, 0, 1, 1, 0, ...  \n",
       "1  [200, 100, 47, 30, 294, 61, 49, 4, 85, 52, 81,...  \n",
       "2  [2, 0, 0, 0, 0, 0, 0, 0, 0, 0, 0, 0, 0, 0, 0, ...  \n",
       "3  [36, 14, 1, 0, 37, 4, 4, 0, 4, 4, 18, 14, 6, 2...  \n",
       "4  [92, 16, 8, 5, 29, 8, 9, 1, 24, 24, 14, 9, 11,...  "
      ]
     },
     "execution_count": 974,
     "metadata": {},
     "output_type": "execute_result"
    }
   ],
   "source": [
    "uwdf.head()"
   ]
  },
  {
   "cell_type": "code",
   "execution_count": 975,
   "metadata": {
    "collapsed": false
   },
   "outputs": [
    {
     "name": "stdout",
     "output_type": "stream",
     "text": [
      "<class 'pandas.core.series.Series'>\n"
     ]
    }
   ],
   "source": [
    "print(type(uwdf.iloc[0]))"
   ]
  },
  {
   "cell_type": "code",
   "execution_count": 976,
   "metadata": {
    "collapsed": false
   },
   "outputs": [],
   "source": [
    "#print(ord('a'),ord('z'))\n",
    "dwdf = []\n",
    "for i in range(97,123):\n",
    "    alphlist = []\n",
    "    for j,el in enumerate(uwdf.uwords):\n",
    "        if el[0] == chr(i):\n",
    "            alphlist.append(uwdf.iloc[j])\n",
    "    dwdf.append(alphlist)\n",
    "            \n",
    "    \n",
    "    #print(chr(i))\n",
    "\n"
   ]
  },
  {
   "cell_type": "code",
   "execution_count": 977,
   "metadata": {
    "collapsed": false
   },
   "outputs": [],
   "source": [
    "\n",
    "#nd = pd.DataFrame(dwdf[0])\n",
    "#nd.head()"
   ]
  },
  {
   "cell_type": "code",
   "execution_count": 978,
   "metadata": {
    "collapsed": false
   },
   "outputs": [
    {
     "data": {
      "text/html": [
       "<div>\n",
       "<table border=\"1\" class=\"dataframe\">\n",
       "  <thead>\n",
       "    <tr style=\"text-align: right;\">\n",
       "      <th></th>\n",
       "      <th>uwords</th>\n",
       "      <th>wlocations</th>\n",
       "      <th>bookcounts</th>\n",
       "      <th>first_letter</th>\n",
       "    </tr>\n",
       "  </thead>\n",
       "  <tbody>\n",
       "    <tr>\n",
       "      <th>0</th>\n",
       "      <td>beginning</td>\n",
       "      <td>[01001001, 01004026, 01049003, 02023019, 03023...</td>\n",
       "      <td>[3, 1, 1, 3, 3, 0, 2, 1, 1, 1, 1, 0, 1, 1, 0, ...</td>\n",
       "      <td>b</td>\n",
       "    </tr>\n",
       "    <tr>\n",
       "      <th>1</th>\n",
       "      <td>god</td>\n",
       "      <td>[01001001, 01001002, 01001003, 01001004, 01001...</td>\n",
       "      <td>[200, 100, 47, 30, 294, 61, 49, 4, 85, 52, 81,...</td>\n",
       "      <td>g</td>\n",
       "    </tr>\n",
       "    <tr>\n",
       "      <th>2</th>\n",
       "      <td>preparing</td>\n",
       "      <td>[01001001, 01005001, 19009007, 19147008, 20008...</td>\n",
       "      <td>[2, 0, 0, 0, 0, 0, 0, 0, 0, 0, 0, 0, 0, 0, 0, ...</td>\n",
       "      <td>p</td>\n",
       "    </tr>\n",
       "    <tr>\n",
       "      <th>3</th>\n",
       "      <td>heavens</td>\n",
       "      <td>[01001001, 01001008, 01001009, 01001014, 01001...</td>\n",
       "      <td>[36, 14, 1, 0, 37, 4, 4, 0, 4, 4, 18, 14, 6, 2...</td>\n",
       "      <td>h</td>\n",
       "    </tr>\n",
       "    <tr>\n",
       "      <th>4</th>\n",
       "      <td>earth</td>\n",
       "      <td>[01001001, 01001002, 01001010, 01001011, 01001...</td>\n",
       "      <td>[92, 16, 8, 5, 29, 8, 9, 1, 24, 24, 14, 9, 11,...</td>\n",
       "      <td>e</td>\n",
       "    </tr>\n",
       "  </tbody>\n",
       "</table>\n",
       "</div>"
      ],
      "text/plain": [
       "      uwords                                         wlocations  \\\n",
       "0  beginning  [01001001, 01004026, 01049003, 02023019, 03023...   \n",
       "1        god  [01001001, 01001002, 01001003, 01001004, 01001...   \n",
       "2  preparing  [01001001, 01005001, 19009007, 19147008, 20008...   \n",
       "3    heavens  [01001001, 01001008, 01001009, 01001014, 01001...   \n",
       "4      earth  [01001001, 01001002, 01001010, 01001011, 01001...   \n",
       "\n",
       "                                          bookcounts first_letter  \n",
       "0  [3, 1, 1, 3, 3, 0, 2, 1, 1, 1, 1, 0, 1, 1, 0, ...            b  \n",
       "1  [200, 100, 47, 30, 294, 61, 49, 4, 85, 52, 81,...            g  \n",
       "2  [2, 0, 0, 0, 0, 0, 0, 0, 0, 0, 0, 0, 0, 0, 0, ...            p  \n",
       "3  [36, 14, 1, 0, 37, 4, 4, 0, 4, 4, 18, 14, 6, 2...            h  \n",
       "4  [92, 16, 8, 5, 29, 8, 9, 1, 24, 24, 14, 9, 11,...            e  "
      ]
     },
     "execution_count": 978,
     "metadata": {},
     "output_type": "execute_result"
    }
   ],
   "source": [
    "uwdf['first_letter'] = [x[0] for x in uwdf['uwords']]\n",
    "#pd.concat\n",
    "uwdf.head()"
   ]
  },
  {
   "cell_type": "code",
   "execution_count": 979,
   "metadata": {
    "collapsed": false
   },
   "outputs": [],
   "source": [
    "#[print(type(x)) for x in uwdf.columns]\n",
    "#for i in uwdf.columns:\n",
    "    #print(type(i))"
   ]
  },
  {
   "cell_type": "code",
   "execution_count": 980,
   "metadata": {
    "collapsed": false
   },
   "outputs": [],
   "source": [
    "#nd = uwdf.groupby(['first_letter'])\n",
    "#nd.get_group('b')\n"
   ]
  },
  {
   "cell_type": "code",
   "execution_count": 981,
   "metadata": {
    "collapsed": false
   },
   "outputs": [
    {
     "data": {
      "text/plain": [
       "[None, None, None]"
      ]
     },
     "execution_count": 981,
     "metadata": {},
     "output_type": "execute_result"
    }
   ],
   "source": [
    "#dwdf = uwdf.groupby(['first_letter'])['uwords'].apply(list)\n",
    "dwdf = []\n",
    "[dwdf.append(uwdf.groupby('first_letter')[x].apply(list)) for x in uwdf.columns[:-1]]\n"
   ]
  },
  {
   "cell_type": "code",
   "execution_count": 982,
   "metadata": {
    "collapsed": false
   },
   "outputs": [],
   "source": [
    "#for i in dwdf:\n",
    "    #print(i['a'])\n",
    "gdata = pd.DataFrame(dwdf)\n"
   ]
  },
  {
   "cell_type": "code",
   "execution_count": 983,
   "metadata": {
    "collapsed": false
   },
   "outputs": [
    {
     "data": {
      "text/html": [
       "<div>\n",
       "<table border=\"1\" class=\"dataframe\">\n",
       "  <thead>\n",
       "    <tr style=\"text-align: right;\">\n",
       "      <th>first_letter</th>\n",
       "      <th>1</th>\n",
       "      <th>6</th>\n",
       "      <th>a</th>\n",
       "      <th>b</th>\n",
       "      <th>c</th>\n",
       "      <th>d</th>\n",
       "      <th>e</th>\n",
       "      <th>f</th>\n",
       "      <th>g</th>\n",
       "      <th>h</th>\n",
       "      <th>...</th>\n",
       "      <th>p</th>\n",
       "      <th>q</th>\n",
       "      <th>r</th>\n",
       "      <th>s</th>\n",
       "      <th>t</th>\n",
       "      <th>u</th>\n",
       "      <th>v</th>\n",
       "      <th>w</th>\n",
       "      <th>y</th>\n",
       "      <th>z</th>\n",
       "    </tr>\n",
       "  </thead>\n",
       "  <tbody>\n",
       "    <tr>\n",
       "      <th>uwords</th>\n",
       "      <td>[144, 12]</td>\n",
       "      <td>[666]</td>\n",
       "      <td>[according, appearance, asshur, alone, ashamed...</td>\n",
       "      <td>[beginning, bringeth, blesseth, bring, beast, ...</td>\n",
       "      <td>[calleth, called, collected, collection, creat...</td>\n",
       "      <td>[darkness, deep, day, dry, days, done, dust, d...</td>\n",
       "      <td>[earth, existed, evening, expanse, every, eden...</td>\n",
       "      <td>[face, fluttering, fruit, forth, fourth, fowl,...</td>\n",
       "      <td>[god, good, grass, give, great, giveth, ground...</td>\n",
       "      <td>[heavens, hath, herb, host, havilah, hiddekel,...</td>\n",
       "      <td>...</td>\n",
       "      <td>[preparing, place, prepareth, prepared, plante...</td>\n",
       "      <td>[quiver, quantity, quail, quenched, quickening...</td>\n",
       "      <td>[rule, rained, river, rivers, rest, ribs, rib,...</td>\n",
       "      <td>[spirit, saith, seeth, separateth, separating,...</td>\n",
       "      <td>[tender, tree, third, two, teem, teeming, teem...</td>\n",
       "      <td>[unto, upon, us, upwards, uncovereth, uz, uzal...</td>\n",
       "      <td>[void, voice, violence, vineyard, valley, visi...</td>\n",
       "      <td>[waste, waters, whose, wing, work, watered, wh...</td>\n",
       "      <td>[yield, years, yet, ye, yea, young, year, yout...</td>\n",
       "      <td>[zillah, zemarite, zeboim, zoar, zuzim, zimran...</td>\n",
       "    </tr>\n",
       "    <tr>\n",
       "      <th>wlocations</th>\n",
       "      <td>[[66007004], [66007005, 66007006, 66007007, 66...</td>\n",
       "      <td>[[66013018]]</td>\n",
       "      <td>[[01001026, 01004017, 01005003, 01006022, 0100...</td>\n",
       "      <td>[[01001001, 01004026, 01049003, 02023019, 0302...</td>\n",
       "      <td>[[01001005, 01001008, 01001010, 01002019, 0100...</td>\n",
       "      <td>[[01001002, 01001004, 01001005, 01001018, 0101...</td>\n",
       "      <td>[[01001001, 01001002, 01001010, 01001011, 0100...</td>\n",
       "      <td>[[01001002, 01001020, 01001029, 01002006, 0100...</td>\n",
       "      <td>[[01001001, 01001002, 01001003, 01001004, 0100...</td>\n",
       "      <td>[[01001001, 01001008, 01001009, 01001014, 0100...</td>\n",
       "      <td>...</td>\n",
       "      <td>[[01001001, 01005001, 19009007, 19147008, 2000...</td>\n",
       "      <td>[[01027003, 18039023, 19127005, 23022006, 2304...</td>\n",
       "      <td>[[01001016, 01001018, 01001026, 01001028, 0100...</td>\n",
       "      <td>[[01001002, 01006003, 01006017, 01007015, 0100...</td>\n",
       "      <td>[[01001011, 01001012, 01018007, 01029017, 0103...</td>\n",
       "      <td>[[01001009, 01002019, 01002022, 01002024, 0100...</td>\n",
       "      <td>[[01001002, 05032010, 10015034, 10017014, 1100...</td>\n",
       "      <td>[[01001002, 03026031, 03026033, 04033052, 0502...</td>\n",
       "      <td>[[01001011, 23005010, 23055010, 28008007, 2800...</td>\n",
       "      <td>[[01004019, 01004022, 01004023], [01010018, 13...</td>\n",
       "    </tr>\n",
       "    <tr>\n",
       "      <th>bookcounts</th>\n",
       "      <td>[[0, 0, 0, 0, 0, 0, 0, 0, 0, 0, 0, 0, 0, 0, 0,...</td>\n",
       "      <td>[[0, 0, 0, 0, 0, 0, 0, 0, 0, 0, 0, 0, 0, 0, 0,...</td>\n",
       "      <td>[[30, 32, 17, 33, 27, 22, 7, 1, 12, 13, 33, 42...</td>\n",
       "      <td>[[3, 1, 1, 3, 3, 0, 2, 1, 1, 1, 1, 0, 1, 1, 0,...</td>\n",
       "      <td>[[69, 23, 3, 7, 4, 9, 15, 0, 18, 20, 18, 12, 7...</td>\n",
       "      <td>[[6, 4, 0, 0, 4, 1, 0, 0, 1, 3, 1, 0, 0, 1, 0,...</td>\n",
       "      <td>[[92, 16, 8, 5, 29, 8, 9, 1, 24, 24, 14, 9, 11...</td>\n",
       "      <td>[[52, 22, 12, 10, 19, 4, 4, 1, 20, 18, 17, 18,...</td>\n",
       "      <td>[[200, 100, 47, 30, 294, 61, 49, 4, 85, 52, 81...</td>\n",
       "      <td>[[36, 14, 1, 0, 37, 4, 4, 0, 4, 4, 18, 14, 6, ...</td>\n",
       "      <td>...</td>\n",
       "      <td>[[2, 0, 0, 0, 0, 0, 0, 0, 0, 0, 0, 0, 0, 0, 0,...</td>\n",
       "      <td>[[1, 0, 0, 0, 0, 0, 0, 0, 0, 0, 0, 0, 0, 0, 0,...</td>\n",
       "      <td>[[6, 0, 2, 1, 1, 0, 3, 0, 0, 0, 1, 0, 0, 0, 0,...</td>\n",
       "      <td>[[9, 6, 1, 10, 3, 2, 9, 0, 16, 2, 7, 5, 4, 11,...</td>\n",
       "      <td>[[5, 0, 0, 0, 5, 0, 0, 0, 0, 2, 0, 2, 2, 2, 0,...</td>\n",
       "      <td>[[399, 292, 173, 279, 204, 193, 198, 18, 276, ...</td>\n",
       "      <td>[[1, 0, 0, 0, 1, 0, 0, 0, 0, 2, 1, 0, 0, 0, 1,...</td>\n",
       "      <td>[[1, 0, 2, 1, 1, 0, 1, 0, 0, 0, 0, 1, 0, 0, 0,...</td>\n",
       "      <td>[[1, 0, 0, 0, 0, 0, 0, 0, 0, 0, 0, 0, 0, 0, 0,...</td>\n",
       "      <td>[[3, 0, 0, 0, 0, 0, 0, 0, 0, 0, 0, 0, 0, 0, 0,...</td>\n",
       "    </tr>\n",
       "  </tbody>\n",
       "</table>\n",
       "<p>3 rows × 27 columns</p>\n",
       "</div>"
      ],
      "text/plain": [
       "first_letter                                                  1  \\\n",
       "uwords                                                [144, 12]   \n",
       "wlocations    [[66007004], [66007005, 66007006, 66007007, 66...   \n",
       "bookcounts    [[0, 0, 0, 0, 0, 0, 0, 0, 0, 0, 0, 0, 0, 0, 0,...   \n",
       "\n",
       "first_letter                                                  6  \\\n",
       "uwords                                                    [666]   \n",
       "wlocations                                         [[66013018]]   \n",
       "bookcounts    [[0, 0, 0, 0, 0, 0, 0, 0, 0, 0, 0, 0, 0, 0, 0,...   \n",
       "\n",
       "first_letter                                                  a  \\\n",
       "uwords        [according, appearance, asshur, alone, ashamed...   \n",
       "wlocations    [[01001026, 01004017, 01005003, 01006022, 0100...   \n",
       "bookcounts    [[30, 32, 17, 33, 27, 22, 7, 1, 12, 13, 33, 42...   \n",
       "\n",
       "first_letter                                                  b  \\\n",
       "uwords        [beginning, bringeth, blesseth, bring, beast, ...   \n",
       "wlocations    [[01001001, 01004026, 01049003, 02023019, 0302...   \n",
       "bookcounts    [[3, 1, 1, 3, 3, 0, 2, 1, 1, 1, 1, 0, 1, 1, 0,...   \n",
       "\n",
       "first_letter                                                  c  \\\n",
       "uwords        [calleth, called, collected, collection, creat...   \n",
       "wlocations    [[01001005, 01001008, 01001010, 01002019, 0100...   \n",
       "bookcounts    [[69, 23, 3, 7, 4, 9, 15, 0, 18, 20, 18, 12, 7...   \n",
       "\n",
       "first_letter                                                  d  \\\n",
       "uwords        [darkness, deep, day, dry, days, done, dust, d...   \n",
       "wlocations    [[01001002, 01001004, 01001005, 01001018, 0101...   \n",
       "bookcounts    [[6, 4, 0, 0, 4, 1, 0, 0, 1, 3, 1, 0, 0, 1, 0,...   \n",
       "\n",
       "first_letter                                                  e  \\\n",
       "uwords        [earth, existed, evening, expanse, every, eden...   \n",
       "wlocations    [[01001001, 01001002, 01001010, 01001011, 0100...   \n",
       "bookcounts    [[92, 16, 8, 5, 29, 8, 9, 1, 24, 24, 14, 9, 11...   \n",
       "\n",
       "first_letter                                                  f  \\\n",
       "uwords        [face, fluttering, fruit, forth, fourth, fowl,...   \n",
       "wlocations    [[01001002, 01001020, 01001029, 01002006, 0100...   \n",
       "bookcounts    [[52, 22, 12, 10, 19, 4, 4, 1, 20, 18, 17, 18,...   \n",
       "\n",
       "first_letter                                                  g  \\\n",
       "uwords        [god, good, grass, give, great, giveth, ground...   \n",
       "wlocations    [[01001001, 01001002, 01001003, 01001004, 0100...   \n",
       "bookcounts    [[200, 100, 47, 30, 294, 61, 49, 4, 85, 52, 81...   \n",
       "\n",
       "first_letter                                                  h  \\\n",
       "uwords        [heavens, hath, herb, host, havilah, hiddekel,...   \n",
       "wlocations    [[01001001, 01001008, 01001009, 01001014, 0100...   \n",
       "bookcounts    [[36, 14, 1, 0, 37, 4, 4, 0, 4, 4, 18, 14, 6, ...   \n",
       "\n",
       "first_letter                        ...                          \\\n",
       "uwords                              ...                           \n",
       "wlocations                          ...                           \n",
       "bookcounts                          ...                           \n",
       "\n",
       "first_letter                                                  p  \\\n",
       "uwords        [preparing, place, prepareth, prepared, plante...   \n",
       "wlocations    [[01001001, 01005001, 19009007, 19147008, 2000...   \n",
       "bookcounts    [[2, 0, 0, 0, 0, 0, 0, 0, 0, 0, 0, 0, 0, 0, 0,...   \n",
       "\n",
       "first_letter                                                  q  \\\n",
       "uwords        [quiver, quantity, quail, quenched, quickening...   \n",
       "wlocations    [[01027003, 18039023, 19127005, 23022006, 2304...   \n",
       "bookcounts    [[1, 0, 0, 0, 0, 0, 0, 0, 0, 0, 0, 0, 0, 0, 0,...   \n",
       "\n",
       "first_letter                                                  r  \\\n",
       "uwords        [rule, rained, river, rivers, rest, ribs, rib,...   \n",
       "wlocations    [[01001016, 01001018, 01001026, 01001028, 0100...   \n",
       "bookcounts    [[6, 0, 2, 1, 1, 0, 3, 0, 0, 0, 1, 0, 0, 0, 0,...   \n",
       "\n",
       "first_letter                                                  s  \\\n",
       "uwords        [spirit, saith, seeth, separateth, separating,...   \n",
       "wlocations    [[01001002, 01006003, 01006017, 01007015, 0100...   \n",
       "bookcounts    [[9, 6, 1, 10, 3, 2, 9, 0, 16, 2, 7, 5, 4, 11,...   \n",
       "\n",
       "first_letter                                                  t  \\\n",
       "uwords        [tender, tree, third, two, teem, teeming, teem...   \n",
       "wlocations    [[01001011, 01001012, 01018007, 01029017, 0103...   \n",
       "bookcounts    [[5, 0, 0, 0, 5, 0, 0, 0, 0, 2, 0, 2, 2, 2, 0,...   \n",
       "\n",
       "first_letter                                                  u  \\\n",
       "uwords        [unto, upon, us, upwards, uncovereth, uz, uzal...   \n",
       "wlocations    [[01001009, 01002019, 01002022, 01002024, 0100...   \n",
       "bookcounts    [[399, 292, 173, 279, 204, 193, 198, 18, 276, ...   \n",
       "\n",
       "first_letter                                                  v  \\\n",
       "uwords        [void, voice, violence, vineyard, valley, visi...   \n",
       "wlocations    [[01001002, 05032010, 10015034, 10017014, 1100...   \n",
       "bookcounts    [[1, 0, 0, 0, 1, 0, 0, 0, 0, 2, 1, 0, 0, 0, 1,...   \n",
       "\n",
       "first_letter                                                  w  \\\n",
       "uwords        [waste, waters, whose, wing, work, watered, wh...   \n",
       "wlocations    [[01001002, 03026031, 03026033, 04033052, 0502...   \n",
       "bookcounts    [[1, 0, 2, 1, 1, 0, 1, 0, 0, 0, 0, 1, 0, 0, 0,...   \n",
       "\n",
       "first_letter                                                  y  \\\n",
       "uwords        [yield, years, yet, ye, yea, young, year, yout...   \n",
       "wlocations    [[01001011, 23005010, 23055010, 28008007, 2800...   \n",
       "bookcounts    [[1, 0, 0, 0, 0, 0, 0, 0, 0, 0, 0, 0, 0, 0, 0,...   \n",
       "\n",
       "first_letter                                                  z  \n",
       "uwords        [zillah, zemarite, zeboim, zoar, zuzim, zimran...  \n",
       "wlocations    [[01004019, 01004022, 01004023], [01010018, 13...  \n",
       "bookcounts    [[3, 0, 0, 0, 0, 0, 0, 0, 0, 0, 0, 0, 0, 0, 0,...  \n",
       "\n",
       "[3 rows x 27 columns]"
      ]
     },
     "execution_count": 983,
     "metadata": {},
     "output_type": "execute_result"
    }
   ],
   "source": [
    "gdata.head()"
   ]
  },
  {
   "cell_type": "code",
   "execution_count": 984,
   "metadata": {
    "collapsed": false
   },
   "outputs": [],
   "source": [
    "gdata.to_json('upwordlocs_ylt.json')\n",
    "#gdata.to_json('upwordlocs_web.json')\n",
    "#gdata.to_json('upwordlocs_kjv.json')"
   ]
  },
  {
   "cell_type": "code",
   "execution_count": 985,
   "metadata": {
    "collapsed": false
   },
   "outputs": [
    {
     "data": {
      "text/html": [
       "<div>\n",
       "<table border=\"1\" class=\"dataframe\">\n",
       "  <thead>\n",
       "    <tr style=\"text-align: right;\">\n",
       "      <th></th>\n",
       "      <th>uwords</th>\n",
       "      <th>wlocations</th>\n",
       "      <th>bookcounts</th>\n",
       "    </tr>\n",
       "  </thead>\n",
       "  <tbody>\n",
       "    <tr>\n",
       "      <th>0</th>\n",
       "      <td>beginning</td>\n",
       "      <td>[01001001, 01004026, 01049003, 02023019, 03023...</td>\n",
       "      <td>[3, 1, 1, 3, 3, 0, 2, 1, 1, 1, 1, 0, 1, 1, 0, ...</td>\n",
       "    </tr>\n",
       "    <tr>\n",
       "      <th>1</th>\n",
       "      <td>god</td>\n",
       "      <td>[01001001, 01001002, 01001003, 01001004, 01001...</td>\n",
       "      <td>[200, 100, 47, 30, 294, 61, 49, 4, 85, 52, 81,...</td>\n",
       "    </tr>\n",
       "    <tr>\n",
       "      <th>2</th>\n",
       "      <td>preparing</td>\n",
       "      <td>[01001001, 01005001, 19009007, 19147008, 20008...</td>\n",
       "      <td>[2, 0, 0, 0, 0, 0, 0, 0, 0, 0, 0, 0, 0, 0, 0, ...</td>\n",
       "    </tr>\n",
       "    <tr>\n",
       "      <th>3</th>\n",
       "      <td>heavens</td>\n",
       "      <td>[01001001, 01001008, 01001009, 01001014, 01001...</td>\n",
       "      <td>[36, 14, 1, 0, 37, 4, 4, 0, 4, 4, 18, 14, 6, 2...</td>\n",
       "    </tr>\n",
       "    <tr>\n",
       "      <th>4</th>\n",
       "      <td>earth</td>\n",
       "      <td>[01001001, 01001002, 01001010, 01001011, 01001...</td>\n",
       "      <td>[92, 16, 8, 5, 29, 8, 9, 1, 24, 24, 14, 9, 11,...</td>\n",
       "    </tr>\n",
       "  </tbody>\n",
       "</table>\n",
       "</div>"
      ],
      "text/plain": [
       "      uwords                                         wlocations  \\\n",
       "0  beginning  [01001001, 01004026, 01049003, 02023019, 03023...   \n",
       "1        god  [01001001, 01001002, 01001003, 01001004, 01001...   \n",
       "2  preparing  [01001001, 01005001, 19009007, 19147008, 20008...   \n",
       "3    heavens  [01001001, 01001008, 01001009, 01001014, 01001...   \n",
       "4      earth  [01001001, 01001002, 01001010, 01001011, 01001...   \n",
       "\n",
       "                                          bookcounts  \n",
       "0  [3, 1, 1, 3, 3, 0, 2, 1, 1, 1, 1, 0, 1, 1, 0, ...  \n",
       "1  [200, 100, 47, 30, 294, 61, 49, 4, 85, 52, 81,...  \n",
       "2  [2, 0, 0, 0, 0, 0, 0, 0, 0, 0, 0, 0, 0, 0, 0, ...  \n",
       "3  [36, 14, 1, 0, 37, 4, 4, 0, 4, 4, 18, 14, 6, 2...  \n",
       "4  [92, 16, 8, 5, 29, 8, 9, 1, 24, 24, 14, 9, 11,...  "
      ]
     },
     "execution_count": 985,
     "metadata": {},
     "output_type": "execute_result"
    }
   ],
   "source": [
    "uwdf.drop(['first_letter'],axis=1,inplace=True)\n",
    "uwdf.head()"
   ]
  },
  {
   "cell_type": "code",
   "execution_count": 986,
   "metadata": {
    "collapsed": true,
    "deletable": true,
    "editable": true
   },
   "outputs": [],
   "source": [
    "#uwdf.to_csv('wordlocs.tsv',sep='\\t')\n",
    "#uwdf.to_csv('wordlocs_kjv.tsv',sep='\\t')"
   ]
  },
  {
   "cell_type": "code",
   "execution_count": null,
   "metadata": {
    "collapsed": true,
    "deletable": true,
    "editable": true
   },
   "outputs": [],
   "source": []
  },
  {
   "cell_type": "code",
   "execution_count": 987,
   "metadata": {
    "collapsed": false,
    "deletable": true,
    "editable": true
   },
   "outputs": [],
   "source": [
    "#locmat = addlocations(tweb)"
   ]
  },
  {
   "cell_type": "code",
   "execution_count": 988,
   "metadata": {
    "collapsed": true,
    "deletable": true,
    "editable": true
   },
   "outputs": [],
   "source": [
    "#locmat"
   ]
  },
  {
   "cell_type": "markdown",
   "metadata": {
    "deletable": true,
    "editable": true
   },
   "source": [
    "### Using similar method as plotting counts with groupby to create a new dataset with rows for each book rather than verses."
   ]
  },
  {
   "cell_type": "code",
   "execution_count": 989,
   "metadata": {
    "collapsed": false,
    "deletable": true,
    "editable": true
   },
   "outputs": [
    {
     "data": {
      "text/html": [
       "<div>\n",
       "<table border=\"1\" class=\"dataframe\">\n",
       "  <thead>\n",
       "    <tr style=\"text-align: right;\">\n",
       "      <th></th>\n",
       "      <th>bookname</th>\n",
       "      <th>booknum</th>\n",
       "      <th>chnum</th>\n",
       "      <th>versenum</th>\n",
       "      <th>wordcount</th>\n",
       "    </tr>\n",
       "  </thead>\n",
       "  <tbody>\n",
       "    <tr>\n",
       "      <th>0</th>\n",
       "      <td>Genesis</td>\n",
       "      <td>1533</td>\n",
       "      <td>41015</td>\n",
       "      <td>26798</td>\n",
       "      <td>39054</td>\n",
       "    </tr>\n",
       "    <tr>\n",
       "      <th>1</th>\n",
       "      <td>Exodus</td>\n",
       "      <td>2426</td>\n",
       "      <td>26273</td>\n",
       "      <td>20462</td>\n",
       "      <td>32331</td>\n",
       "    </tr>\n",
       "    <tr>\n",
       "      <th>2</th>\n",
       "      <td>Leviticus</td>\n",
       "      <td>2577</td>\n",
       "      <td>13040</td>\n",
       "      <td>16412</td>\n",
       "      <td>24342</td>\n",
       "    </tr>\n",
       "    <tr>\n",
       "      <th>3</th>\n",
       "      <td>Numbers</td>\n",
       "      <td>5152</td>\n",
       "      <td>22738</td>\n",
       "      <td>28038</td>\n",
       "      <td>32212</td>\n",
       "    </tr>\n",
       "    <tr>\n",
       "      <th>4</th>\n",
       "      <td>Deuteronomy</td>\n",
       "      <td>4795</td>\n",
       "      <td>16370</td>\n",
       "      <td>16071</td>\n",
       "      <td>28335</td>\n",
       "    </tr>\n",
       "  </tbody>\n",
       "</table>\n",
       "</div>"
      ],
      "text/plain": [
       "      bookname  booknum  chnum  versenum  wordcount\n",
       "0      Genesis     1533  41015     26798      39054\n",
       "1       Exodus     2426  26273     20462      32331\n",
       "2    Leviticus     2577  13040     16412      24342\n",
       "3      Numbers     5152  22738     28038      32212\n",
       "4  Deuteronomy     4795  16370     16071      28335"
      ]
     },
     "execution_count": 989,
     "metadata": {},
     "output_type": "execute_result"
    }
   ],
   "source": [
    "wordsum = []\n",
    "df = tweb.groupby('bookname',sort=False).sum()\n",
    "df = df.reset_index()\n",
    "df.head()\n"
   ]
  },
  {
   "cell_type": "code",
   "execution_count": 990,
   "metadata": {
    "collapsed": false,
    "deletable": true,
    "editable": true
   },
   "outputs": [],
   "source": [
    "df.drop(['booknum','chnum','versenum'],axis=1,inplace=True)"
   ]
  },
  {
   "cell_type": "code",
   "execution_count": 991,
   "metadata": {
    "collapsed": false,
    "deletable": true,
    "editable": true
   },
   "outputs": [
    {
     "data": {
      "text/html": [
       "<div>\n",
       "<table border=\"1\" class=\"dataframe\">\n",
       "  <thead>\n",
       "    <tr style=\"text-align: right;\">\n",
       "      <th></th>\n",
       "      <th>bookname</th>\n",
       "      <th>wordcount</th>\n",
       "    </tr>\n",
       "  </thead>\n",
       "  <tbody>\n",
       "    <tr>\n",
       "      <th>0</th>\n",
       "      <td>Genesis</td>\n",
       "      <td>39054</td>\n",
       "    </tr>\n",
       "    <tr>\n",
       "      <th>1</th>\n",
       "      <td>Exodus</td>\n",
       "      <td>32331</td>\n",
       "    </tr>\n",
       "    <tr>\n",
       "      <th>2</th>\n",
       "      <td>Leviticus</td>\n",
       "      <td>24342</td>\n",
       "    </tr>\n",
       "    <tr>\n",
       "      <th>3</th>\n",
       "      <td>Numbers</td>\n",
       "      <td>32212</td>\n",
       "    </tr>\n",
       "    <tr>\n",
       "      <th>4</th>\n",
       "      <td>Deuteronomy</td>\n",
       "      <td>28335</td>\n",
       "    </tr>\n",
       "  </tbody>\n",
       "</table>\n",
       "</div>"
      ],
      "text/plain": [
       "      bookname  wordcount\n",
       "0      Genesis      39054\n",
       "1       Exodus      32331\n",
       "2    Leviticus      24342\n",
       "3      Numbers      32212\n",
       "4  Deuteronomy      28335"
      ]
     },
     "execution_count": 991,
     "metadata": {},
     "output_type": "execute_result"
    }
   ],
   "source": [
    "range(len(df))\n",
    "df.head()"
   ]
  },
  {
   "cell_type": "markdown",
   "metadata": {
    "deletable": true,
    "editable": true
   },
   "source": [
    "### Function to be applied to verse data set (tweb) iteratively to create a separate data frame of verses for each book and store them in a list. "
   ]
  },
  {
   "cell_type": "code",
   "execution_count": 992,
   "metadata": {
    "collapsed": false,
    "deletable": true,
    "editable": true
   },
   "outputs": [],
   "source": [
    "def splitbybook(data,num):\n",
    "    book = data[data['booknum'] == num]\n",
    "    return book"
   ]
  },
  {
   "cell_type": "markdown",
   "metadata": {
    "deletable": true,
    "editable": true
   },
   "source": [
    "### Applies splitbybook function in a loop using index of book data set to aggregate verses matching each book"
   ]
  },
  {
   "cell_type": "code",
   "execution_count": 993,
   "metadata": {
    "collapsed": true,
    "deletable": true,
    "editable": true
   },
   "outputs": [],
   "source": [
    "booklist = []\n",
    "for i in range(len(df)):\n",
    "    booklist.append(splitbybook(tweb,i+1))\n"
   ]
  },
  {
   "cell_type": "code",
   "execution_count": 994,
   "metadata": {
    "collapsed": false,
    "deletable": true,
    "editable": true
   },
   "outputs": [
    {
     "data": {
      "text/plain": [
       "id                                                    66022021\n",
       "booknum                                                     66\n",
       "chnum                                                       22\n",
       "versenum                                                    21\n",
       "text         The grace of our Lord Jesus Christ `is' with y...\n",
       "bookname                                            Revelation\n",
       "testament                                                   NT\n",
       "bookpad                                                     66\n",
       "genre                                              Apocalyptic\n",
       "versearr     [The, grace, of, our, Lord, Jesus, Christ, is,...\n",
       "sversearr                   [grace, lord, jesus, christ, amen]\n",
       "wordcount                                                   12\n",
       "Name: 31102, dtype: object"
      ]
     },
     "execution_count": 994,
     "metadata": {},
     "output_type": "execute_result"
    }
   ],
   "source": [
    "booklist[-1].iloc[-1]"
   ]
  },
  {
   "cell_type": "markdown",
   "metadata": {
    "deletable": true,
    "editable": true
   },
   "source": [
    "### looping through list of book dataframes grabbing the chapter number of the last element in each to create a column of number of chapters in book dataframe"
   ]
  },
  {
   "cell_type": "code",
   "execution_count": 995,
   "metadata": {
    "collapsed": false,
    "deletable": true,
    "editable": true
   },
   "outputs": [
    {
     "data": {
      "text/html": [
       "<div>\n",
       "<table border=\"1\" class=\"dataframe\">\n",
       "  <thead>\n",
       "    <tr style=\"text-align: right;\">\n",
       "      <th></th>\n",
       "      <th>bookname</th>\n",
       "      <th>wordcount</th>\n",
       "      <th>chaptercount</th>\n",
       "    </tr>\n",
       "  </thead>\n",
       "  <tbody>\n",
       "    <tr>\n",
       "      <th>0</th>\n",
       "      <td>Genesis</td>\n",
       "      <td>39054</td>\n",
       "      <td>50</td>\n",
       "    </tr>\n",
       "    <tr>\n",
       "      <th>1</th>\n",
       "      <td>Exodus</td>\n",
       "      <td>32331</td>\n",
       "      <td>40</td>\n",
       "    </tr>\n",
       "    <tr>\n",
       "      <th>2</th>\n",
       "      <td>Leviticus</td>\n",
       "      <td>24342</td>\n",
       "      <td>27</td>\n",
       "    </tr>\n",
       "    <tr>\n",
       "      <th>3</th>\n",
       "      <td>Numbers</td>\n",
       "      <td>32212</td>\n",
       "      <td>36</td>\n",
       "    </tr>\n",
       "    <tr>\n",
       "      <th>4</th>\n",
       "      <td>Deuteronomy</td>\n",
       "      <td>28335</td>\n",
       "      <td>34</td>\n",
       "    </tr>\n",
       "  </tbody>\n",
       "</table>\n",
       "</div>"
      ],
      "text/plain": [
       "      bookname  wordcount  chaptercount\n",
       "0      Genesis      39054            50\n",
       "1       Exodus      32331            40\n",
       "2    Leviticus      24342            27\n",
       "3      Numbers      32212            36\n",
       "4  Deuteronomy      28335            34"
      ]
     },
     "execution_count": 995,
     "metadata": {},
     "output_type": "execute_result"
    }
   ],
   "source": [
    "df['chaptercount'] = [i.iloc[-1]['chnum'] for i in booklist]\n",
    "df.head()"
   ]
  },
  {
   "cell_type": "code",
   "execution_count": 996,
   "metadata": {
    "collapsed": false,
    "deletable": true,
    "editable": true
   },
   "outputs": [
    {
     "data": {
      "text/plain": [
       "array([ 1,  2,  3,  4,  5,  6,  7,  8,  9, 10, 11, 12, 13, 14, 15, 16, 17,\n",
       "       18, 19, 20, 21, 22, 23, 24, 25, 26, 27, 28, 29, 30, 31, 32, 33, 34,\n",
       "       35, 36, 37, 38, 39, 40, 41, 42, 43, 44, 45, 46, 47, 48, 49, 50])"
      ]
     },
     "execution_count": 996,
     "metadata": {},
     "output_type": "execute_result"
    }
   ],
   "source": [
    "pd.unique(booklist[0]['chnum'])"
   ]
  },
  {
   "cell_type": "code",
   "execution_count": 997,
   "metadata": {
    "collapsed": false,
    "deletable": true,
    "editable": true
   },
   "outputs": [
    {
     "data": {
      "text/plain": [
       "31103"
      ]
     },
     "execution_count": 997,
     "metadata": {},
     "output_type": "execute_result"
    }
   ],
   "source": [
    "len(tweb)"
   ]
  },
  {
   "cell_type": "markdown",
   "metadata": {
    "deletable": true,
    "editable": true
   },
   "source": [
    "### A more functional approach to getting counts of verses in each chapter\n",
    "#### Using chaptercounts calculated prior as an counter reset to loop through verses for chapters creating a matrix of verse counts for each chapter in each book"
   ]
  },
  {
   "cell_type": "code",
   "execution_count": 998,
   "metadata": {
    "collapsed": false,
    "deletable": true,
    "editable": true
   },
   "outputs": [],
   "source": [
    "versecountlist = []\n",
    "pos = 0\n",
    "for i in df.chaptercount:\n",
    "    versecounts = []\n",
    "    for j in range(1,i+1):\n",
    "        counter = 0\n",
    "        while tweb.iloc[pos]['chnum'] <= i:\n",
    "            if tweb.iloc[pos]['chnum'] == j:\n",
    "                pos+=1\n",
    "                counter+=1\n",
    "            else: \n",
    "                break\n",
    "            if pos > len(tweb)-1:break\n",
    "        versecounts.append(counter)\n",
    "    versecountlist.append(versecounts)\n",
    "\n",
    "            \n",
    "        "
   ]
  },
  {
   "cell_type": "code",
   "execution_count": 999,
   "metadata": {
    "collapsed": false,
    "deletable": true,
    "editable": true
   },
   "outputs": [],
   "source": [
    "#versecountlist"
   ]
  },
  {
   "cell_type": "markdown",
   "metadata": {
    "deletable": true,
    "editable": true
   },
   "source": [
    "### Concatenating versecount matrix to book dataset"
   ]
  },
  {
   "cell_type": "code",
   "execution_count": 1000,
   "metadata": {
    "collapsed": false,
    "deletable": true,
    "editable": true
   },
   "outputs": [
    {
     "data": {
      "text/html": [
       "<div>\n",
       "<table border=\"1\" class=\"dataframe\">\n",
       "  <thead>\n",
       "    <tr style=\"text-align: right;\">\n",
       "      <th></th>\n",
       "      <th>bookname</th>\n",
       "      <th>wordcount</th>\n",
       "      <th>chaptercount</th>\n",
       "      <th>versecounts</th>\n",
       "    </tr>\n",
       "  </thead>\n",
       "  <tbody>\n",
       "    <tr>\n",
       "      <th>0</th>\n",
       "      <td>Genesis</td>\n",
       "      <td>39054</td>\n",
       "      <td>50</td>\n",
       "      <td>[31, 25, 24, 26, 32, 22, 24, 22, 29, 32, 32, 2...</td>\n",
       "    </tr>\n",
       "    <tr>\n",
       "      <th>1</th>\n",
       "      <td>Exodus</td>\n",
       "      <td>32331</td>\n",
       "      <td>40</td>\n",
       "      <td>[22, 25, 22, 31, 23, 30, 25, 32, 35, 29, 10, 5...</td>\n",
       "    </tr>\n",
       "    <tr>\n",
       "      <th>2</th>\n",
       "      <td>Leviticus</td>\n",
       "      <td>24342</td>\n",
       "      <td>27</td>\n",
       "      <td>[17, 16, 17, 35, 19, 30, 38, 36, 24, 20, 47, 8...</td>\n",
       "    </tr>\n",
       "    <tr>\n",
       "      <th>3</th>\n",
       "      <td>Numbers</td>\n",
       "      <td>32212</td>\n",
       "      <td>36</td>\n",
       "      <td>[54, 34, 51, 49, 31, 27, 89, 26, 23, 36, 35, 1...</td>\n",
       "    </tr>\n",
       "    <tr>\n",
       "      <th>4</th>\n",
       "      <td>Deuteronomy</td>\n",
       "      <td>28335</td>\n",
       "      <td>34</td>\n",
       "      <td>[46, 37, 29, 49, 33, 25, 26, 20, 29, 22, 32, 3...</td>\n",
       "    </tr>\n",
       "  </tbody>\n",
       "</table>\n",
       "</div>"
      ],
      "text/plain": [
       "      bookname  wordcount  chaptercount  \\\n",
       "0      Genesis      39054            50   \n",
       "1       Exodus      32331            40   \n",
       "2    Leviticus      24342            27   \n",
       "3      Numbers      32212            36   \n",
       "4  Deuteronomy      28335            34   \n",
       "\n",
       "                                         versecounts  \n",
       "0  [31, 25, 24, 26, 32, 22, 24, 22, 29, 32, 32, 2...  \n",
       "1  [22, 25, 22, 31, 23, 30, 25, 32, 35, 29, 10, 5...  \n",
       "2  [17, 16, 17, 35, 19, 30, 38, 36, 24, 20, 47, 8...  \n",
       "3  [54, 34, 51, 49, 31, 27, 89, 26, 23, 36, 35, 1...  \n",
       "4  [46, 37, 29, 49, 33, 25, 26, 20, 29, 22, 32, 3...  "
      ]
     },
     "execution_count": 1000,
     "metadata": {},
     "output_type": "execute_result"
    }
   ],
   "source": [
    "#booklist[1][booklist[1]['field.2_x'] == 2]\n",
    "df['versecounts'] = versecountlist\n",
    "df.head()\n"
   ]
  },
  {
   "cell_type": "code",
   "execution_count": 1001,
   "metadata": {
    "collapsed": false,
    "deletable": true,
    "editable": true
   },
   "outputs": [
    {
     "data": {
      "text/plain": [
       "numpy.int64"
      ]
     },
     "execution_count": 1001,
     "metadata": {},
     "output_type": "execute_result"
    }
   ],
   "source": [
    "test1 = pd.DataFrame(df.iloc[0]['versecounts']).reset_index()\n",
    "type(test1[0][0])"
   ]
  },
  {
   "cell_type": "markdown",
   "metadata": {
    "deletable": true,
    "editable": true
   },
   "source": [
    "### Plotting word counts by book"
   ]
  },
  {
   "cell_type": "code",
   "execution_count": 1002,
   "metadata": {
    "collapsed": false,
    "deletable": true,
    "editable": true
   },
   "outputs": [
    {
     "name": "stderr",
     "output_type": "stream",
     "text": [
      "/usr/lib/python3.6/site-packages/matplotlib/font_manager.py:1297: UserWarning: findfont: Font family ['sans-serif'] not found. Falling back to DejaVu Sans\n",
      "  (prop.get_family(), self.defaultFamily[fontext]))\n"
     ]
    },
    {
     "data": {
      "image/png": "[encoded data removed]",
      "text/plain": [
       "<matplotlib.figure.Figure at 0x7fe59b641198>"
      ]
     },
     "metadata": {},
     "output_type": "display_data"
    }
   ],
   "source": [
    "plt.figure(figsize=(20,10))\n",
    "plt.xticks(rotation=75)\n",
    "fig = sns.barplot(y='wordcount', x='bookname', data=df)"
   ]
  },
  {
   "cell_type": "markdown",
   "metadata": {
    "deletable": true,
    "editable": true
   },
   "source": [
    "### Plotting chapter counts by book"
   ]
  },
  {
   "cell_type": "code",
   "execution_count": 1003,
   "metadata": {
    "collapsed": false,
    "deletable": true,
    "editable": true
   },
   "outputs": [
    {
     "name": "stderr",
     "output_type": "stream",
     "text": [
      "/usr/lib/python3.6/site-packages/matplotlib/font_manager.py:1297: UserWarning: findfont: Font family ['sans-serif'] not found. Falling back to DejaVu Sans\n",
      "  (prop.get_family(), self.defaultFamily[fontext]))\n"
     ]
    },
    {
     "data": {
      "image/png": "[encoded data removed]",
      "text/plain": [
       "<matplotlib.figure.Figure at 0x7fe59b57c4a8>"
      ]
     },
     "metadata": {},
     "output_type": "display_data"
    }
   ],
   "source": [
    "plt.figure(figsize=(20,10))\n",
    "plt.xticks(rotation=75)\n",
    "fig = sns.barplot(y='chaptercount', x='bookname', data=df)"
   ]
  },
  {
   "cell_type": "code",
   "execution_count": 1004,
   "metadata": {
    "collapsed": false,
    "deletable": true,
    "editable": true
   },
   "outputs": [
    {
     "data": {
      "text/plain": [
       "\"\\nfor k in range(len(df)):\\n    chpos = 0\\n    fig,ax =  plt.subplots(int(math.sqrt(int(df.iloc[k]['chaptercount'])))+1,int(math.sqrt(int(df.iloc[k]['chaptercount'])))+1, sharex='col', sharey='row', figsize=(20,10))\\n    for i in range(int(math.sqrt(int(df.iloc[k]['chaptercount'])))):\\n        for j in range(int(math.sqrt(int(df.iloc[k]['chaptercount'])))):\\n        #for j in range(int(df.iloc[k]['chaptercount']/5)):\\n            #print(int(str(i)+str(j))+1)\\n            if chpos <= df.iloc[k]['chaptercount']: \\n                ax[i, j].bar(df.iloc[k]['chaptercount'], df.iloc[k]['versecounts'][chpos])\\n                chpos+=1\\n                #ax[i, j].bar(df.iloc[k]['chaptercount'], df.iloc[k]['versecounts'][int(str(i)+str(j))])\\n\""
      ]
     },
     "execution_count": 1004,
     "metadata": {},
     "output_type": "execute_result"
    }
   ],
   "source": [
    "#for i in len(df):\n",
    "#fig = plt.figure()\n",
    "#fig.subplots_adjust(hspace=0.4, wspace=0.4)\n",
    "#plotlist = []\n",
    "#for i in range(1,df.iloc[0]['chaptercount']+1):\n",
    "    #plotlist.append(fig.add_subplot(5,df.iloc[0]['chaptercount']/5,i))\n",
    "    #plotlist[i-1].plot(df.iloc[0]['versecounts'][i-1])\n",
    "\n",
    "'''\n",
    "for k in range(len(df)):\n",
    "    chpos = 0\n",
    "    fig,ax =  plt.subplots(int(math.sqrt(int(df.iloc[k]['chaptercount'])))+1,int(math.sqrt(int(df.iloc[k]['chaptercount'])))+1, sharex='col', sharey='row', figsize=(20,10))\n",
    "    for i in range(int(math.sqrt(int(df.iloc[k]['chaptercount'])))):\n",
    "        for j in range(int(math.sqrt(int(df.iloc[k]['chaptercount'])))):\n",
    "        #for j in range(int(df.iloc[k]['chaptercount']/5)):\n",
    "            #print(int(str(i)+str(j))+1)\n",
    "            if chpos <= df.iloc[k]['chaptercount']: \n",
    "                ax[i, j].bar(df.iloc[k]['chaptercount'], df.iloc[k]['versecounts'][chpos])\n",
    "                chpos+=1\n",
    "                #ax[i, j].bar(df.iloc[k]['chaptercount'], df.iloc[k]['versecounts'][int(str(i)+str(j))])\n",
    "'''"
   ]
  },
  {
   "cell_type": "code",
   "execution_count": 1005,
   "metadata": {
    "collapsed": false,
    "deletable": true,
    "editable": true
   },
   "outputs": [
    {
     "data": {
      "text/html": [
       "<div>\n",
       "<table border=\"1\" class=\"dataframe\">\n",
       "  <thead>\n",
       "    <tr style=\"text-align: right;\">\n",
       "      <th></th>\n",
       "      <th>bookname</th>\n",
       "      <th>wordcount</th>\n",
       "      <th>chaptercount</th>\n",
       "      <th>versecounts</th>\n",
       "    </tr>\n",
       "  </thead>\n",
       "  <tbody>\n",
       "    <tr>\n",
       "      <th>0</th>\n",
       "      <td>Genesis</td>\n",
       "      <td>39054</td>\n",
       "      <td>50</td>\n",
       "      <td>[31, 25, 24, 26, 32, 22, 24, 22, 29, 32, 32, 2...</td>\n",
       "    </tr>\n",
       "    <tr>\n",
       "      <th>1</th>\n",
       "      <td>Exodus</td>\n",
       "      <td>32331</td>\n",
       "      <td>40</td>\n",
       "      <td>[22, 25, 22, 31, 23, 30, 25, 32, 35, 29, 10, 5...</td>\n",
       "    </tr>\n",
       "    <tr>\n",
       "      <th>2</th>\n",
       "      <td>Leviticus</td>\n",
       "      <td>24342</td>\n",
       "      <td>27</td>\n",
       "      <td>[17, 16, 17, 35, 19, 30, 38, 36, 24, 20, 47, 8...</td>\n",
       "    </tr>\n",
       "    <tr>\n",
       "      <th>3</th>\n",
       "      <td>Numbers</td>\n",
       "      <td>32212</td>\n",
       "      <td>36</td>\n",
       "      <td>[54, 34, 51, 49, 31, 27, 89, 26, 23, 36, 35, 1...</td>\n",
       "    </tr>\n",
       "    <tr>\n",
       "      <th>4</th>\n",
       "      <td>Deuteronomy</td>\n",
       "      <td>28335</td>\n",
       "      <td>34</td>\n",
       "      <td>[46, 37, 29, 49, 33, 25, 26, 20, 29, 22, 32, 3...</td>\n",
       "    </tr>\n",
       "  </tbody>\n",
       "</table>\n",
       "</div>"
      ],
      "text/plain": [
       "      bookname  wordcount  chaptercount  \\\n",
       "0      Genesis      39054            50   \n",
       "1       Exodus      32331            40   \n",
       "2    Leviticus      24342            27   \n",
       "3      Numbers      32212            36   \n",
       "4  Deuteronomy      28335            34   \n",
       "\n",
       "                                         versecounts  \n",
       "0  [31, 25, 24, 26, 32, 22, 24, 22, 29, 32, 32, 2...  \n",
       "1  [22, 25, 22, 31, 23, 30, 25, 32, 35, 29, 10, 5...  \n",
       "2  [17, 16, 17, 35, 19, 30, 38, 36, 24, 20, 47, 8...  \n",
       "3  [54, 34, 51, 49, 31, 27, 89, 26, 23, 36, 35, 1...  \n",
       "4  [46, 37, 29, 49, 33, 25, 26, 20, 29, 22, 32, 3...  "
      ]
     },
     "execution_count": 1005,
     "metadata": {},
     "output_type": "execute_result"
    }
   ],
   "source": [
    "df.head()"
   ]
  },
  {
   "cell_type": "code",
   "execution_count": 1006,
   "metadata": {
    "collapsed": false,
    "deletable": true,
    "editable": true
   },
   "outputs": [],
   "source": [
    "counter = 0\n",
    "ncol = []\n",
    "for i in range(len(df)):\n",
    "    mat = []\n",
    "    for j in range(len(df.iloc[i]['versecounts'])):\n",
    "        lists = []\n",
    "        for k in range(df.iloc[i]['versecounts'][j]):\n",
    "            lists.append(tweb.iloc[counter]['id'])\n",
    "            counter+=1\n",
    "        mat.append(lists)\n",
    "    ncol.append(mat)\n",
    "            "
   ]
  },
  {
   "cell_type": "code",
   "execution_count": 1007,
   "metadata": {
    "collapsed": false,
    "deletable": true,
    "editable": true
   },
   "outputs": [],
   "source": [
    "df['verseidmatrix'] = ncol"
   ]
  },
  {
   "cell_type": "code",
   "execution_count": 1008,
   "metadata": {
    "collapsed": false,
    "deletable": true,
    "editable": true
   },
   "outputs": [
    {
     "data": {
      "text/html": [
       "<div>\n",
       "<table border=\"1\" class=\"dataframe\">\n",
       "  <thead>\n",
       "    <tr style=\"text-align: right;\">\n",
       "      <th></th>\n",
       "      <th>bookname</th>\n",
       "      <th>wordcount</th>\n",
       "      <th>chaptercount</th>\n",
       "      <th>versecounts</th>\n",
       "      <th>verseidmatrix</th>\n",
       "    </tr>\n",
       "  </thead>\n",
       "  <tbody>\n",
       "    <tr>\n",
       "      <th>0</th>\n",
       "      <td>Genesis</td>\n",
       "      <td>39054</td>\n",
       "      <td>50</td>\n",
       "      <td>[31, 25, 24, 26, 32, 22, 24, 22, 29, 32, 32, 2...</td>\n",
       "      <td>[[01001001, 01001002, 01001003, 01001004, 0100...</td>\n",
       "    </tr>\n",
       "    <tr>\n",
       "      <th>1</th>\n",
       "      <td>Exodus</td>\n",
       "      <td>32331</td>\n",
       "      <td>40</td>\n",
       "      <td>[22, 25, 22, 31, 23, 30, 25, 32, 35, 29, 10, 5...</td>\n",
       "      <td>[[02001001, 02001002, 02001003, 02001004, 0200...</td>\n",
       "    </tr>\n",
       "    <tr>\n",
       "      <th>2</th>\n",
       "      <td>Leviticus</td>\n",
       "      <td>24342</td>\n",
       "      <td>27</td>\n",
       "      <td>[17, 16, 17, 35, 19, 30, 38, 36, 24, 20, 47, 8...</td>\n",
       "      <td>[[03001001, 03001002, 03001003, 03001004, 0300...</td>\n",
       "    </tr>\n",
       "    <tr>\n",
       "      <th>3</th>\n",
       "      <td>Numbers</td>\n",
       "      <td>32212</td>\n",
       "      <td>36</td>\n",
       "      <td>[54, 34, 51, 49, 31, 27, 89, 26, 23, 36, 35, 1...</td>\n",
       "      <td>[[04001001, 04001002, 04001003, 04001004, 0400...</td>\n",
       "    </tr>\n",
       "    <tr>\n",
       "      <th>4</th>\n",
       "      <td>Deuteronomy</td>\n",
       "      <td>28335</td>\n",
       "      <td>34</td>\n",
       "      <td>[46, 37, 29, 49, 33, 25, 26, 20, 29, 22, 32, 3...</td>\n",
       "      <td>[[05001001, 05001002, 05001003, 05001004, 0500...</td>\n",
       "    </tr>\n",
       "  </tbody>\n",
       "</table>\n",
       "</div>"
      ],
      "text/plain": [
       "      bookname  wordcount  chaptercount  \\\n",
       "0      Genesis      39054            50   \n",
       "1       Exodus      32331            40   \n",
       "2    Leviticus      24342            27   \n",
       "3      Numbers      32212            36   \n",
       "4  Deuteronomy      28335            34   \n",
       "\n",
       "                                         versecounts  \\\n",
       "0  [31, 25, 24, 26, 32, 22, 24, 22, 29, 32, 32, 2...   \n",
       "1  [22, 25, 22, 31, 23, 30, 25, 32, 35, 29, 10, 5...   \n",
       "2  [17, 16, 17, 35, 19, 30, 38, 36, 24, 20, 47, 8...   \n",
       "3  [54, 34, 51, 49, 31, 27, 89, 26, 23, 36, 35, 1...   \n",
       "4  [46, 37, 29, 49, 33, 25, 26, 20, 29, 22, 32, 3...   \n",
       "\n",
       "                                       verseidmatrix  \n",
       "0  [[01001001, 01001002, 01001003, 01001004, 0100...  \n",
       "1  [[02001001, 02001002, 02001003, 02001004, 0200...  \n",
       "2  [[03001001, 03001002, 03001003, 03001004, 0300...  \n",
       "3  [[04001001, 04001002, 04001003, 04001004, 0400...  \n",
       "4  [[05001001, 05001002, 05001003, 05001004, 0500...  "
      ]
     },
     "execution_count": 1008,
     "metadata": {},
     "output_type": "execute_result"
    }
   ],
   "source": [
    "df.head()"
   ]
  },
  {
   "cell_type": "code",
   "execution_count": 1009,
   "metadata": {
    "collapsed": true,
    "deletable": true,
    "editable": true
   },
   "outputs": [],
   "source": [
    "df.to_csv('bookwordcount_ylt.tsv',sep='\\t')\n",
    "#df.to_csv('bookwordcount_web.tsv',sep='\\t')\n",
    "#df.to_csv('bookwordcount_kjv.tsv',sep='\\t')"
   ]
  },
  {
   "cell_type": "code",
   "execution_count": null,
   "metadata": {
    "collapsed": false,
    "deletable": true,
    "editable": true
   },
   "outputs": [],
   "source": []
  },
  {
   "cell_type": "code",
   "execution_count": null,
   "metadata": {
    "collapsed": true,
    "deletable": true,
    "editable": true
   },
   "outputs": [],
   "source": []
  }
 ],
 "metadata": {
  "kernelspec": {
   "display_name": "Python 3",
   "language": "python",
   "name": "python3"
  },
  "language_info": {
   "codemirror_mode": {
    "name": "ipython",
    "version": 3
   },
   "file_extension": ".py",
   "mimetype": "text/x-python",
   "name": "python",
   "nbconvert_exporter": "python",
   "pygments_lexer": "ipython3",
   "version": "3.6.6"
  }
 },
 "nbformat": 4,
 "nbformat_minor": 2
}
