{
 "cells": [
  {
   "cell_type": "code",
   "execution_count": 1,
   "metadata": {
    "collapsed": true,
    "deletable": true,
    "editable": true
   },
   "outputs": [],
   "source": [
    "import numpy as np\n",
    "import pandas as pd\n",
    "import matplotlib.pyplot as plt\n",
    "import seaborn as sns\n",
    "import nltk\n",
    "import re\n",
    "import math"
   ]
  },
  {
   "cell_type": "code",
   "execution_count": 2,
   "metadata": {
    "collapsed": true,
    "deletable": true,
    "editable": true
   },
   "outputs": [],
   "source": [
    "%matplotlib inline"
   ]
  },
  {
   "cell_type": "markdown",
   "metadata": {
    "deletable": true,
    "editable": true
   },
   "source": [
    "### Import data"
   ]
  },
  {
   "cell_type": "code",
   "execution_count": 3,
   "metadata": {
    "collapsed": true,
    "deletable": true,
    "editable": true
   },
   "outputs": [],
   "source": [
    "tweb = pd.read_csv('t_web.csv')\n",
    "key = pd.read_csv('key_english.csv')\n",
    "keygenre = pd.read_csv('key_genre_english.csv')\n"
   ]
  },
  {
   "cell_type": "code",
   "execution_count": 4,
   "metadata": {
    "collapsed": false,
    "deletable": true,
    "editable": true
   },
   "outputs": [
    {
     "data": {
      "text/plain": [
       "str"
      ]
     },
     "execution_count": 4,
     "metadata": {},
     "output_type": "execute_result"
    }
   ],
   "source": [
    "type(tweb['field.4'][3])"
   ]
  },
  {
   "cell_type": "code",
   "execution_count": 5,
   "metadata": {
    "collapsed": false,
    "deletable": true,
    "editable": true
   },
   "outputs": [
    {
     "data": {
      "text/html": [
       "<div>\n",
       "<table border=\"1\" class=\"dataframe\">\n",
       "  <thead>\n",
       "    <tr style=\"text-align: right;\">\n",
       "      <th></th>\n",
       "      <th>field</th>\n",
       "      <th>field.1</th>\n",
       "      <th>field.2</th>\n",
       "      <th>field.3</th>\n",
       "    </tr>\n",
       "  </thead>\n",
       "  <tbody>\n",
       "    <tr>\n",
       "      <th>0</th>\n",
       "      <td>1</td>\n",
       "      <td>Genesis</td>\n",
       "      <td>OT</td>\n",
       "      <td>1</td>\n",
       "    </tr>\n",
       "    <tr>\n",
       "      <th>1</th>\n",
       "      <td>2</td>\n",
       "      <td>Exodus</td>\n",
       "      <td>OT</td>\n",
       "      <td>1</td>\n",
       "    </tr>\n",
       "    <tr>\n",
       "      <th>2</th>\n",
       "      <td>3</td>\n",
       "      <td>Leviticus</td>\n",
       "      <td>OT</td>\n",
       "      <td>1</td>\n",
       "    </tr>\n",
       "    <tr>\n",
       "      <th>3</th>\n",
       "      <td>4</td>\n",
       "      <td>Numbers</td>\n",
       "      <td>OT</td>\n",
       "      <td>1</td>\n",
       "    </tr>\n",
       "    <tr>\n",
       "      <th>4</th>\n",
       "      <td>5</td>\n",
       "      <td>Deuteronomy</td>\n",
       "      <td>OT</td>\n",
       "      <td>1</td>\n",
       "    </tr>\n",
       "  </tbody>\n",
       "</table>\n",
       "</div>"
      ],
      "text/plain": [
       "   field      field.1 field.2  field.3\n",
       "0      1      Genesis      OT        1\n",
       "1      2       Exodus      OT        1\n",
       "2      3    Leviticus      OT        1\n",
       "3      4      Numbers      OT        1\n",
       "4      5  Deuteronomy      OT        1"
      ]
     },
     "execution_count": 5,
     "metadata": {},
     "output_type": "execute_result"
    }
   ],
   "source": [
    "key.head()"
   ]
  },
  {
   "cell_type": "code",
   "execution_count": 9,
   "metadata": {
    "collapsed": true
   },
   "outputs": [],
   "source": [
    "key.columns = [\"id\",\"bookname\",\"testament\",\"genrenum\"]"
   ]
  },
  {
   "cell_type": "code",
   "execution_count": 6,
   "metadata": {
    "collapsed": false,
    "deletable": true,
    "editable": true
   },
   "outputs": [
    {
     "data": {
      "text/html": [
       "<div>\n",
       "<table border=\"1\" class=\"dataframe\">\n",
       "  <thead>\n",
       "    <tr style=\"text-align: right;\">\n",
       "      <th></th>\n",
       "      <th>field</th>\n",
       "      <th>field.1</th>\n",
       "      <th>field.2</th>\n",
       "      <th>field.3</th>\n",
       "      <th>field.4</th>\n",
       "    </tr>\n",
       "  </thead>\n",
       "  <tbody>\n",
       "    <tr>\n",
       "      <th>0</th>\n",
       "      <td>1001001</td>\n",
       "      <td>1</td>\n",
       "      <td>1</td>\n",
       "      <td>1</td>\n",
       "      <td>In the beginning God{After \"God,\" the Hebrew h...</td>\n",
       "    </tr>\n",
       "    <tr>\n",
       "      <th>1</th>\n",
       "      <td>1001002</td>\n",
       "      <td>1</td>\n",
       "      <td>1</td>\n",
       "      <td>2</td>\n",
       "      <td>Now the earth was formless and empty. Darkness...</td>\n",
       "    </tr>\n",
       "    <tr>\n",
       "      <th>2</th>\n",
       "      <td>1001003</td>\n",
       "      <td>1</td>\n",
       "      <td>1</td>\n",
       "      <td>3</td>\n",
       "      <td>God said, \"Let there be light,\" and there was ...</td>\n",
       "    </tr>\n",
       "    <tr>\n",
       "      <th>3</th>\n",
       "      <td>1001004</td>\n",
       "      <td>1</td>\n",
       "      <td>1</td>\n",
       "      <td>4</td>\n",
       "      <td>God saw the light, and saw that it was good. G...</td>\n",
       "    </tr>\n",
       "    <tr>\n",
       "      <th>4</th>\n",
       "      <td>1001005</td>\n",
       "      <td>1</td>\n",
       "      <td>1</td>\n",
       "      <td>5</td>\n",
       "      <td>God called the light Day, and the darkness he ...</td>\n",
       "    </tr>\n",
       "  </tbody>\n",
       "</table>\n",
       "</div>"
      ],
      "text/plain": [
       "     field  field.1  field.2  field.3  \\\n",
       "0  1001001        1        1        1   \n",
       "1  1001002        1        1        2   \n",
       "2  1001003        1        1        3   \n",
       "3  1001004        1        1        4   \n",
       "4  1001005        1        1        5   \n",
       "\n",
       "                                             field.4  \n",
       "0  In the beginning God{After \"God,\" the Hebrew h...  \n",
       "1  Now the earth was formless and empty. Darkness...  \n",
       "2  God said, \"Let there be light,\" and there was ...  \n",
       "3  God saw the light, and saw that it was good. G...  \n",
       "4  God called the light Day, and the darkness he ...  "
      ]
     },
     "execution_count": 6,
     "metadata": {},
     "output_type": "execute_result"
    }
   ],
   "source": [
    "tweb.head()"
   ]
  },
  {
   "cell_type": "code",
   "execution_count": 8,
   "metadata": {
    "collapsed": true
   },
   "outputs": [],
   "source": [
    "tweb.columns = [\"id\",\"booknum\",\"chnum\",\"versenum\",\"text\"]\n"
   ]
  },
  {
   "cell_type": "code",
   "execution_count": 279,
   "metadata": {
    "collapsed": false,
    "deletable": true,
    "editable": true
   },
   "outputs": [
    {
     "data": {
      "text/html": [
       "<div>\n",
       "<table border=\"1\" class=\"dataframe\">\n",
       "  <thead>\n",
       "    <tr style=\"text-align: right;\">\n",
       "      <th></th>\n",
       "      <th>field</th>\n",
       "      <th>field.1</th>\n",
       "    </tr>\n",
       "  </thead>\n",
       "  <tbody>\n",
       "    <tr>\n",
       "      <th>0</th>\n",
       "      <td>1</td>\n",
       "      <td>Law</td>\n",
       "    </tr>\n",
       "    <tr>\n",
       "      <th>1</th>\n",
       "      <td>2</td>\n",
       "      <td>History</td>\n",
       "    </tr>\n",
       "    <tr>\n",
       "      <th>2</th>\n",
       "      <td>3</td>\n",
       "      <td>Wisdom</td>\n",
       "    </tr>\n",
       "    <tr>\n",
       "      <th>3</th>\n",
       "      <td>4</td>\n",
       "      <td>Prophets</td>\n",
       "    </tr>\n",
       "    <tr>\n",
       "      <th>4</th>\n",
       "      <td>5</td>\n",
       "      <td>Gospels</td>\n",
       "    </tr>\n",
       "  </tbody>\n",
       "</table>\n",
       "</div>"
      ],
      "text/plain": [
       "   field   field.1\n",
       "0      1       Law\n",
       "1      2   History\n",
       "2      3    Wisdom\n",
       "3      4  Prophets\n",
       "4      5   Gospels"
      ]
     },
     "execution_count": 279,
     "metadata": {},
     "output_type": "execute_result"
    }
   ],
   "source": [
    "keygenre.head()"
   ]
  },
  {
   "cell_type": "code",
   "execution_count": 7,
   "metadata": {
    "collapsed": true
   },
   "outputs": [],
   "source": [
    "keygenre.columns = [\"id\",\"genre\"]\n"
   ]
  },
  {
   "cell_type": "markdown",
   "metadata": {
    "deletable": true,
    "editable": true
   },
   "source": [
    "### Merge key data set with genre book name with main data"
   ]
  },
  {
   "cell_type": "code",
   "execution_count": 10,
   "metadata": {
    "collapsed": false,
    "deletable": true,
    "editable": true
   },
   "outputs": [],
   "source": [
    "#tweb = tweb.merge(key, left_on='field.1', right_on='field', how='outer')\n",
    "tweb = tweb.merge(key, left_on='booknum', right_on='id', how='outer')"
   ]
  },
  {
   "cell_type": "code",
   "execution_count": 11,
   "metadata": {
    "collapsed": false
   },
   "outputs": [
    {
     "data": {
      "text/html": [
       "<div>\n",
       "<table border=\"1\" class=\"dataframe\">\n",
       "  <thead>\n",
       "    <tr style=\"text-align: right;\">\n",
       "      <th></th>\n",
       "      <th>id_x</th>\n",
       "      <th>booknum</th>\n",
       "      <th>chnum</th>\n",
       "      <th>versenum</th>\n",
       "      <th>text</th>\n",
       "      <th>id_y</th>\n",
       "      <th>bookname</th>\n",
       "      <th>testament</th>\n",
       "      <th>genrenum</th>\n",
       "    </tr>\n",
       "  </thead>\n",
       "  <tbody>\n",
       "    <tr>\n",
       "      <th>0</th>\n",
       "      <td>1001001</td>\n",
       "      <td>1</td>\n",
       "      <td>1</td>\n",
       "      <td>1</td>\n",
       "      <td>In the beginning God{After \"God,\" the Hebrew h...</td>\n",
       "      <td>1</td>\n",
       "      <td>Genesis</td>\n",
       "      <td>OT</td>\n",
       "      <td>1</td>\n",
       "    </tr>\n",
       "    <tr>\n",
       "      <th>1</th>\n",
       "      <td>1001002</td>\n",
       "      <td>1</td>\n",
       "      <td>1</td>\n",
       "      <td>2</td>\n",
       "      <td>Now the earth was formless and empty. Darkness...</td>\n",
       "      <td>1</td>\n",
       "      <td>Genesis</td>\n",
       "      <td>OT</td>\n",
       "      <td>1</td>\n",
       "    </tr>\n",
       "    <tr>\n",
       "      <th>2</th>\n",
       "      <td>1001003</td>\n",
       "      <td>1</td>\n",
       "      <td>1</td>\n",
       "      <td>3</td>\n",
       "      <td>God said, \"Let there be light,\" and there was ...</td>\n",
       "      <td>1</td>\n",
       "      <td>Genesis</td>\n",
       "      <td>OT</td>\n",
       "      <td>1</td>\n",
       "    </tr>\n",
       "    <tr>\n",
       "      <th>3</th>\n",
       "      <td>1001004</td>\n",
       "      <td>1</td>\n",
       "      <td>1</td>\n",
       "      <td>4</td>\n",
       "      <td>God saw the light, and saw that it was good. G...</td>\n",
       "      <td>1</td>\n",
       "      <td>Genesis</td>\n",
       "      <td>OT</td>\n",
       "      <td>1</td>\n",
       "    </tr>\n",
       "    <tr>\n",
       "      <th>4</th>\n",
       "      <td>1001005</td>\n",
       "      <td>1</td>\n",
       "      <td>1</td>\n",
       "      <td>5</td>\n",
       "      <td>God called the light Day, and the darkness he ...</td>\n",
       "      <td>1</td>\n",
       "      <td>Genesis</td>\n",
       "      <td>OT</td>\n",
       "      <td>1</td>\n",
       "    </tr>\n",
       "  </tbody>\n",
       "</table>\n",
       "</div>"
      ],
      "text/plain": [
       "      id_x  booknum  chnum  versenum  \\\n",
       "0  1001001        1      1         1   \n",
       "1  1001002        1      1         2   \n",
       "2  1001003        1      1         3   \n",
       "3  1001004        1      1         4   \n",
       "4  1001005        1      1         5   \n",
       "\n",
       "                                                text  id_y bookname testament  \\\n",
       "0  In the beginning God{After \"God,\" the Hebrew h...     1  Genesis        OT   \n",
       "1  Now the earth was formless and empty. Darkness...     1  Genesis        OT   \n",
       "2  God said, \"Let there be light,\" and there was ...     1  Genesis        OT   \n",
       "3  God saw the light, and saw that it was good. G...     1  Genesis        OT   \n",
       "4  God called the light Day, and the darkness he ...     1  Genesis        OT   \n",
       "\n",
       "   genrenum  \n",
       "0         1  \n",
       "1         1  \n",
       "2         1  \n",
       "3         1  \n",
       "4         1  "
      ]
     },
     "execution_count": 11,
     "metadata": {},
     "output_type": "execute_result"
    }
   ],
   "source": [
    "tweb.head()\n"
   ]
  },
  {
   "cell_type": "code",
   "execution_count": 12,
   "metadata": {
    "collapsed": false,
    "deletable": true,
    "editable": true
   },
   "outputs": [
    {
     "data": {
      "text/html": [
       "<div>\n",
       "<table border=\"1\" class=\"dataframe\">\n",
       "  <thead>\n",
       "    <tr style=\"text-align: right;\">\n",
       "      <th></th>\n",
       "      <th>id_x</th>\n",
       "      <th>booknum</th>\n",
       "      <th>chnum</th>\n",
       "      <th>versenum</th>\n",
       "      <th>text</th>\n",
       "      <th>bookname</th>\n",
       "      <th>testament</th>\n",
       "      <th>genrenum</th>\n",
       "    </tr>\n",
       "  </thead>\n",
       "  <tbody>\n",
       "    <tr>\n",
       "      <th>0</th>\n",
       "      <td>1001001</td>\n",
       "      <td>1</td>\n",
       "      <td>1</td>\n",
       "      <td>1</td>\n",
       "      <td>In the beginning God{After \"God,\" the Hebrew h...</td>\n",
       "      <td>Genesis</td>\n",
       "      <td>OT</td>\n",
       "      <td>1</td>\n",
       "    </tr>\n",
       "    <tr>\n",
       "      <th>1</th>\n",
       "      <td>1001002</td>\n",
       "      <td>1</td>\n",
       "      <td>1</td>\n",
       "      <td>2</td>\n",
       "      <td>Now the earth was formless and empty. Darkness...</td>\n",
       "      <td>Genesis</td>\n",
       "      <td>OT</td>\n",
       "      <td>1</td>\n",
       "    </tr>\n",
       "    <tr>\n",
       "      <th>2</th>\n",
       "      <td>1001003</td>\n",
       "      <td>1</td>\n",
       "      <td>1</td>\n",
       "      <td>3</td>\n",
       "      <td>God said, \"Let there be light,\" and there was ...</td>\n",
       "      <td>Genesis</td>\n",
       "      <td>OT</td>\n",
       "      <td>1</td>\n",
       "    </tr>\n",
       "    <tr>\n",
       "      <th>3</th>\n",
       "      <td>1001004</td>\n",
       "      <td>1</td>\n",
       "      <td>1</td>\n",
       "      <td>4</td>\n",
       "      <td>God saw the light, and saw that it was good. G...</td>\n",
       "      <td>Genesis</td>\n",
       "      <td>OT</td>\n",
       "      <td>1</td>\n",
       "    </tr>\n",
       "    <tr>\n",
       "      <th>4</th>\n",
       "      <td>1001005</td>\n",
       "      <td>1</td>\n",
       "      <td>1</td>\n",
       "      <td>5</td>\n",
       "      <td>God called the light Day, and the darkness he ...</td>\n",
       "      <td>Genesis</td>\n",
       "      <td>OT</td>\n",
       "      <td>1</td>\n",
       "    </tr>\n",
       "  </tbody>\n",
       "</table>\n",
       "</div>"
      ],
      "text/plain": [
       "      id_x  booknum  chnum  versenum  \\\n",
       "0  1001001        1      1         1   \n",
       "1  1001002        1      1         2   \n",
       "2  1001003        1      1         3   \n",
       "3  1001004        1      1         4   \n",
       "4  1001005        1      1         5   \n",
       "\n",
       "                                                text bookname testament  \\\n",
       "0  In the beginning God{After \"God,\" the Hebrew h...  Genesis        OT   \n",
       "1  Now the earth was formless and empty. Darkness...  Genesis        OT   \n",
       "2  God said, \"Let there be light,\" and there was ...  Genesis        OT   \n",
       "3  God saw the light, and saw that it was good. G...  Genesis        OT   \n",
       "4  God called the light Day, and the darkness he ...  Genesis        OT   \n",
       "\n",
       "   genrenum  \n",
       "0         1  \n",
       "1         1  \n",
       "2         1  \n",
       "3         1  \n",
       "4         1  "
      ]
     },
     "execution_count": 12,
     "metadata": {},
     "output_type": "execute_result"
    }
   ],
   "source": [
    "#tweb.drop(['field_y'],axis=1,inplace=True)\n",
    "tweb.drop(['id_y'],axis=1,inplace=True)\n",
    "tweb.head()\n"
   ]
  },
  {
   "cell_type": "markdown",
   "metadata": {
    "deletable": true,
    "editable": true
   },
   "source": [
    "### Merge genre name data set with main data"
   ]
  },
  {
   "cell_type": "code",
   "execution_count": 13,
   "metadata": {
    "collapsed": false,
    "deletable": true,
    "editable": true
   },
   "outputs": [
    {
     "data": {
      "text/html": [
       "<div>\n",
       "<table border=\"1\" class=\"dataframe\">\n",
       "  <thead>\n",
       "    <tr style=\"text-align: right;\">\n",
       "      <th></th>\n",
       "      <th>id_x</th>\n",
       "      <th>booknum</th>\n",
       "      <th>chnum</th>\n",
       "      <th>versenum</th>\n",
       "      <th>text</th>\n",
       "      <th>bookname</th>\n",
       "      <th>testament</th>\n",
       "      <th>genrenum</th>\n",
       "      <th>id</th>\n",
       "      <th>genre</th>\n",
       "    </tr>\n",
       "  </thead>\n",
       "  <tbody>\n",
       "    <tr>\n",
       "      <th>0</th>\n",
       "      <td>1001001</td>\n",
       "      <td>1</td>\n",
       "      <td>1</td>\n",
       "      <td>1</td>\n",
       "      <td>In the beginning God{After \"God,\" the Hebrew h...</td>\n",
       "      <td>Genesis</td>\n",
       "      <td>OT</td>\n",
       "      <td>1</td>\n",
       "      <td>1</td>\n",
       "      <td>Law</td>\n",
       "    </tr>\n",
       "    <tr>\n",
       "      <th>1</th>\n",
       "      <td>1001002</td>\n",
       "      <td>1</td>\n",
       "      <td>1</td>\n",
       "      <td>2</td>\n",
       "      <td>Now the earth was formless and empty. Darkness...</td>\n",
       "      <td>Genesis</td>\n",
       "      <td>OT</td>\n",
       "      <td>1</td>\n",
       "      <td>1</td>\n",
       "      <td>Law</td>\n",
       "    </tr>\n",
       "    <tr>\n",
       "      <th>2</th>\n",
       "      <td>1001003</td>\n",
       "      <td>1</td>\n",
       "      <td>1</td>\n",
       "      <td>3</td>\n",
       "      <td>God said, \"Let there be light,\" and there was ...</td>\n",
       "      <td>Genesis</td>\n",
       "      <td>OT</td>\n",
       "      <td>1</td>\n",
       "      <td>1</td>\n",
       "      <td>Law</td>\n",
       "    </tr>\n",
       "    <tr>\n",
       "      <th>3</th>\n",
       "      <td>1001004</td>\n",
       "      <td>1</td>\n",
       "      <td>1</td>\n",
       "      <td>4</td>\n",
       "      <td>God saw the light, and saw that it was good. G...</td>\n",
       "      <td>Genesis</td>\n",
       "      <td>OT</td>\n",
       "      <td>1</td>\n",
       "      <td>1</td>\n",
       "      <td>Law</td>\n",
       "    </tr>\n",
       "    <tr>\n",
       "      <th>4</th>\n",
       "      <td>1001005</td>\n",
       "      <td>1</td>\n",
       "      <td>1</td>\n",
       "      <td>5</td>\n",
       "      <td>God called the light Day, and the darkness he ...</td>\n",
       "      <td>Genesis</td>\n",
       "      <td>OT</td>\n",
       "      <td>1</td>\n",
       "      <td>1</td>\n",
       "      <td>Law</td>\n",
       "    </tr>\n",
       "  </tbody>\n",
       "</table>\n",
       "</div>"
      ],
      "text/plain": [
       "      id_x  booknum  chnum  versenum  \\\n",
       "0  1001001        1      1         1   \n",
       "1  1001002        1      1         2   \n",
       "2  1001003        1      1         3   \n",
       "3  1001004        1      1         4   \n",
       "4  1001005        1      1         5   \n",
       "\n",
       "                                                text bookname testament  \\\n",
       "0  In the beginning God{After \"God,\" the Hebrew h...  Genesis        OT   \n",
       "1  Now the earth was formless and empty. Darkness...  Genesis        OT   \n",
       "2  God said, \"Let there be light,\" and there was ...  Genesis        OT   \n",
       "3  God saw the light, and saw that it was good. G...  Genesis        OT   \n",
       "4  God called the light Day, and the darkness he ...  Genesis        OT   \n",
       "\n",
       "   genrenum  id genre  \n",
       "0         1   1   Law  \n",
       "1         1   1   Law  \n",
       "2         1   1   Law  \n",
       "3         1   1   Law  \n",
       "4         1   1   Law  "
      ]
     },
     "execution_count": 13,
     "metadata": {},
     "output_type": "execute_result"
    }
   ],
   "source": [
    "#tweb = tweb.merge(keygenre, left_on='field.3_y',right_on='field')\n",
    "tweb = tweb.merge(keygenre, left_on='genrenum',right_on='id')\n",
    "tweb.head()"
   ]
  },
  {
   "cell_type": "code",
   "execution_count": 14,
   "metadata": {
    "collapsed": false
   },
   "outputs": [
    {
     "data": {
      "text/html": [
       "<div>\n",
       "<table border=\"1\" class=\"dataframe\">\n",
       "  <thead>\n",
       "    <tr style=\"text-align: right;\">\n",
       "      <th></th>\n",
       "      <th>id_x</th>\n",
       "      <th>booknum</th>\n",
       "      <th>chnum</th>\n",
       "      <th>versenum</th>\n",
       "      <th>text</th>\n",
       "      <th>bookname</th>\n",
       "      <th>testament</th>\n",
       "      <th>genrenum</th>\n",
       "      <th>genre</th>\n",
       "    </tr>\n",
       "  </thead>\n",
       "  <tbody>\n",
       "    <tr>\n",
       "      <th>0</th>\n",
       "      <td>1001001</td>\n",
       "      <td>1</td>\n",
       "      <td>1</td>\n",
       "      <td>1</td>\n",
       "      <td>In the beginning God{After \"God,\" the Hebrew h...</td>\n",
       "      <td>Genesis</td>\n",
       "      <td>OT</td>\n",
       "      <td>1</td>\n",
       "      <td>Law</td>\n",
       "    </tr>\n",
       "    <tr>\n",
       "      <th>1</th>\n",
       "      <td>1001002</td>\n",
       "      <td>1</td>\n",
       "      <td>1</td>\n",
       "      <td>2</td>\n",
       "      <td>Now the earth was formless and empty. Darkness...</td>\n",
       "      <td>Genesis</td>\n",
       "      <td>OT</td>\n",
       "      <td>1</td>\n",
       "      <td>Law</td>\n",
       "    </tr>\n",
       "    <tr>\n",
       "      <th>2</th>\n",
       "      <td>1001003</td>\n",
       "      <td>1</td>\n",
       "      <td>1</td>\n",
       "      <td>3</td>\n",
       "      <td>God said, \"Let there be light,\" and there was ...</td>\n",
       "      <td>Genesis</td>\n",
       "      <td>OT</td>\n",
       "      <td>1</td>\n",
       "      <td>Law</td>\n",
       "    </tr>\n",
       "    <tr>\n",
       "      <th>3</th>\n",
       "      <td>1001004</td>\n",
       "      <td>1</td>\n",
       "      <td>1</td>\n",
       "      <td>4</td>\n",
       "      <td>God saw the light, and saw that it was good. G...</td>\n",
       "      <td>Genesis</td>\n",
       "      <td>OT</td>\n",
       "      <td>1</td>\n",
       "      <td>Law</td>\n",
       "    </tr>\n",
       "    <tr>\n",
       "      <th>4</th>\n",
       "      <td>1001005</td>\n",
       "      <td>1</td>\n",
       "      <td>1</td>\n",
       "      <td>5</td>\n",
       "      <td>God called the light Day, and the darkness he ...</td>\n",
       "      <td>Genesis</td>\n",
       "      <td>OT</td>\n",
       "      <td>1</td>\n",
       "      <td>Law</td>\n",
       "    </tr>\n",
       "  </tbody>\n",
       "</table>\n",
       "</div>"
      ],
      "text/plain": [
       "      id_x  booknum  chnum  versenum  \\\n",
       "0  1001001        1      1         1   \n",
       "1  1001002        1      1         2   \n",
       "2  1001003        1      1         3   \n",
       "3  1001004        1      1         4   \n",
       "4  1001005        1      1         5   \n",
       "\n",
       "                                                text bookname testament  \\\n",
       "0  In the beginning God{After \"God,\" the Hebrew h...  Genesis        OT   \n",
       "1  Now the earth was formless and empty. Darkness...  Genesis        OT   \n",
       "2  God said, \"Let there be light,\" and there was ...  Genesis        OT   \n",
       "3  God saw the light, and saw that it was good. G...  Genesis        OT   \n",
       "4  God called the light Day, and the darkness he ...  Genesis        OT   \n",
       "\n",
       "   genrenum genre  \n",
       "0         1   Law  \n",
       "1         1   Law  \n",
       "2         1   Law  \n",
       "3         1   Law  \n",
       "4         1   Law  "
      ]
     },
     "execution_count": 14,
     "metadata": {},
     "output_type": "execute_result"
    }
   ],
   "source": [
    "tweb.drop(['id'],axis=1,inplace=True)"
   ]
  },
  {
   "cell_type": "code",
   "execution_count": 16,
   "metadata": {
    "collapsed": false,
    "deletable": true,
    "editable": true
   },
   "outputs": [
    {
     "data": {
      "text/plain": [
       "array(['Genesis', 'Exodus', 'Leviticus', 'Numbers', 'Deuteronomy',\n",
       "       'Joshua', 'Judges', 'Ruth', '1 Samuel', '2 Samuel', '1 Kings',\n",
       "       '2 Kings', '1 Chronicles', '2 Chronicles', 'Ezra', 'Nehemiah',\n",
       "       'Esther', 'Job', 'Psalms', 'Proverbs', 'Ecclesiastes',\n",
       "       'Song of Solomon', 'Isaiah', 'Jeremiah', 'Lamentations', 'Ezekiel',\n",
       "       'Daniel', 'Hosea', 'Joel', 'Amos', 'Obadiah', 'Jonah', 'Micah',\n",
       "       'Nahum', 'Habakkuk', 'Zephaniah', 'Haggai', 'Zechariah', 'Malachi',\n",
       "       'Matthew', 'Mark', 'Luke', 'John', 'Acts', 'Romans',\n",
       "       '1 Corinthians', '2 Corinthians', 'Galatians', 'Ephesians',\n",
       "       'Philippians', 'Colossians', '1 Thessalonians', '2 Thessalonians',\n",
       "       '1 Timothy', '2 Timothy', 'Titus', 'Philemon', 'Hebrews', 'James',\n",
       "       '1 Peter', '2 Peter', '1 John', '2 John', '3 John', 'Jude',\n",
       "       'Revelation'], dtype=object)"
      ]
     },
     "execution_count": 16,
     "metadata": {},
     "output_type": "execute_result"
    }
   ],
   "source": [
    "pd.unique(tweb['bookname'])"
   ]
  },
  {
   "cell_type": "markdown",
   "metadata": {
    "deletable": true,
    "editable": true
   },
   "source": [
    "### Use countplot to count book title instances and plot \n",
    "#### (Data has a row for each verse so implementing countplot using book titles will bin books counting verses)"
   ]
  },
  {
   "cell_type": "code",
   "execution_count": 17,
   "metadata": {
    "collapsed": false,
    "deletable": true,
    "editable": true
   },
   "outputs": [
    {
     "name": "stderr",
     "output_type": "stream",
     "text": [
      "/usr/lib/python3.6/site-packages/matplotlib/font_manager.py:1297: UserWarning: findfont: Font family ['sans-serif'] not found. Falling back to DejaVu Sans\n",
      "  (prop.get_family(), self.defaultFamily[fontext]))\n"
     ]
    },
    {
     "data": {
      "image/png": "[encoded data removed]",
      "text/plain": [
       "<matplotlib.figure.Figure at 0x7f0755f567b8>"
      ]
     },
     "metadata": {},
     "output_type": "display_data"
    }
   ],
   "source": [
    "plt.figure(figsize=(20,10))\n",
    "plt.xticks(rotation=75)\n",
    "#fig = sns.countplot(x=\"field.1_y\",  hue=\"field.1\",data=tweb)\n",
    "fig = sns.countplot(x=\"bookname\",data=tweb)"
   ]
  },
  {
   "cell_type": "markdown",
   "metadata": {
    "deletable": true,
    "editable": true
   },
   "source": [
    "### Plot Genre verse counts using same method"
   ]
  },
  {
   "cell_type": "code",
   "execution_count": 18,
   "metadata": {
    "collapsed": false,
    "deletable": true,
    "editable": true
   },
   "outputs": [
    {
     "name": "stderr",
     "output_type": "stream",
     "text": [
      "/usr/lib/python3.6/site-packages/matplotlib/font_manager.py:1297: UserWarning: findfont: Font family ['sans-serif'] not found. Falling back to DejaVu Sans\n",
      "  (prop.get_family(), self.defaultFamily[fontext]))\n"
     ]
    },
    {
     "data": {
      "image/png": "[encoded data removed]",
      "text/plain": [
       "<matplotlib.figure.Figure at 0x7f0755714fd0>"
      ]
     },
     "metadata": {},
     "output_type": "display_data"
    }
   ],
   "source": [
    "plt.xticks(rotation=75)\n",
    "fig = sns.countplot(x=\"genre\", data=tweb)"
   ]
  },
  {
   "cell_type": "markdown",
   "metadata": {
    "deletable": true,
    "editable": true
   },
   "source": [
    "### Use Regex to tokenize words in verses (skipping punctuation)"
   ]
  },
  {
   "cell_type": "code",
   "execution_count": 19,
   "metadata": {
    "collapsed": false,
    "deletable": true,
    "editable": true
   },
   "outputs": [
    {
     "data": {
      "text/html": [
       "<div>\n",
       "<table border=\"1\" class=\"dataframe\">\n",
       "  <thead>\n",
       "    <tr style=\"text-align: right;\">\n",
       "      <th></th>\n",
       "      <th>id_x</th>\n",
       "      <th>booknum</th>\n",
       "      <th>chnum</th>\n",
       "      <th>versenum</th>\n",
       "      <th>text</th>\n",
       "      <th>bookname</th>\n",
       "      <th>testament</th>\n",
       "      <th>genrenum</th>\n",
       "      <th>genre</th>\n",
       "      <th>verses_nopunct</th>\n",
       "    </tr>\n",
       "  </thead>\n",
       "  <tbody>\n",
       "    <tr>\n",
       "      <th>0</th>\n",
       "      <td>1001001</td>\n",
       "      <td>1</td>\n",
       "      <td>1</td>\n",
       "      <td>1</td>\n",
       "      <td>In the beginning God{After \"God,\" the Hebrew h...</td>\n",
       "      <td>Genesis</td>\n",
       "      <td>OT</td>\n",
       "      <td>1</td>\n",
       "      <td>Law</td>\n",
       "      <td>[In, the, beginning, God, After, God, the, Heb...</td>\n",
       "    </tr>\n",
       "    <tr>\n",
       "      <th>1</th>\n",
       "      <td>1001002</td>\n",
       "      <td>1</td>\n",
       "      <td>1</td>\n",
       "      <td>2</td>\n",
       "      <td>Now the earth was formless and empty. Darkness...</td>\n",
       "      <td>Genesis</td>\n",
       "      <td>OT</td>\n",
       "      <td>1</td>\n",
       "      <td>Law</td>\n",
       "      <td>[Now, the, earth, was, formless, and, empty, D...</td>\n",
       "    </tr>\n",
       "    <tr>\n",
       "      <th>2</th>\n",
       "      <td>1001003</td>\n",
       "      <td>1</td>\n",
       "      <td>1</td>\n",
       "      <td>3</td>\n",
       "      <td>God said, \"Let there be light,\" and there was ...</td>\n",
       "      <td>Genesis</td>\n",
       "      <td>OT</td>\n",
       "      <td>1</td>\n",
       "      <td>Law</td>\n",
       "      <td>[God, said, Let, there, be, light, and, there,...</td>\n",
       "    </tr>\n",
       "    <tr>\n",
       "      <th>3</th>\n",
       "      <td>1001004</td>\n",
       "      <td>1</td>\n",
       "      <td>1</td>\n",
       "      <td>4</td>\n",
       "      <td>God saw the light, and saw that it was good. G...</td>\n",
       "      <td>Genesis</td>\n",
       "      <td>OT</td>\n",
       "      <td>1</td>\n",
       "      <td>Law</td>\n",
       "      <td>[God, saw, the, light, and, saw, that, it, was...</td>\n",
       "    </tr>\n",
       "    <tr>\n",
       "      <th>4</th>\n",
       "      <td>1001005</td>\n",
       "      <td>1</td>\n",
       "      <td>1</td>\n",
       "      <td>5</td>\n",
       "      <td>God called the light Day, and the darkness he ...</td>\n",
       "      <td>Genesis</td>\n",
       "      <td>OT</td>\n",
       "      <td>1</td>\n",
       "      <td>Law</td>\n",
       "      <td>[God, called, the, light, Day, and, the, darkn...</td>\n",
       "    </tr>\n",
       "  </tbody>\n",
       "</table>\n",
       "</div>"
      ],
      "text/plain": [
       "      id_x  booknum  chnum  versenum  \\\n",
       "0  1001001        1      1         1   \n",
       "1  1001002        1      1         2   \n",
       "2  1001003        1      1         3   \n",
       "3  1001004        1      1         4   \n",
       "4  1001005        1      1         5   \n",
       "\n",
       "                                                text bookname testament  \\\n",
       "0  In the beginning God{After \"God,\" the Hebrew h...  Genesis        OT   \n",
       "1  Now the earth was formless and empty. Darkness...  Genesis        OT   \n",
       "2  God said, \"Let there be light,\" and there was ...  Genesis        OT   \n",
       "3  God saw the light, and saw that it was good. G...  Genesis        OT   \n",
       "4  God called the light Day, and the darkness he ...  Genesis        OT   \n",
       "\n",
       "   genrenum genre                                     verses_nopunct  \n",
       "0         1   Law  [In, the, beginning, God, After, God, the, Heb...  \n",
       "1         1   Law  [Now, the, earth, was, formless, and, empty, D...  \n",
       "2         1   Law  [God, said, Let, there, be, light, and, there,...  \n",
       "3         1   Law  [God, saw, the, light, and, saw, that, it, was...  \n",
       "4         1   Law  [God, called, the, light, Day, and, the, darkn...  "
      ]
     },
     "execution_count": 19,
     "metadata": {},
     "output_type": "execute_result"
    }
   ],
   "source": [
    "notpunct = re.compile('\\w+')\n",
    "tweb['verses_nopunct'] = tweb['text'].str.findall(notpunct)\n",
    "tweb.head()"
   ]
  },
  {
   "cell_type": "code",
   "execution_count": 20,
   "metadata": {
    "collapsed": true,
    "deletable": true,
    "editable": true
   },
   "outputs": [],
   "source": [
    "from nltk.corpus import stopwords"
   ]
  },
  {
   "cell_type": "code",
   "execution_count": 21,
   "metadata": {
    "collapsed": false,
    "deletable": true,
    "editable": true
   },
   "outputs": [],
   "source": [
    "english_stops = set(stopwords.words(\"english\"))"
   ]
  },
  {
   "cell_type": "code",
   "execution_count": 22,
   "metadata": {
    "collapsed": false,
    "deletable": true,
    "editable": true
   },
   "outputs": [],
   "source": [
    "def remstopwords(ls):\n",
    "    stopwt = [word for word in ls if word.lower() not in english_stops]\n",
    "    return stopwt"
   ]
  },
  {
   "cell_type": "code",
   "execution_count": 23,
   "metadata": {
    "collapsed": false,
    "deletable": true,
    "editable": true
   },
   "outputs": [],
   "source": [
    "tweb['swverses'] = tweb['verses_nopunct'].apply(remstopwords)"
   ]
  },
  {
   "cell_type": "code",
   "execution_count": 24,
   "metadata": {
    "collapsed": false,
    "deletable": true,
    "editable": true
   },
   "outputs": [],
   "source": [
    "# nltk word_tokenize by default does not remove punctuation\n",
    "#tweb['words'] = tweb['field.4'].apply(nltk.word_tokenize)\n",
    "#tweb.head()"
   ]
  },
  {
   "cell_type": "code",
   "execution_count": 25,
   "metadata": {
    "collapsed": false,
    "deletable": true,
    "editable": true
   },
   "outputs": [
    {
     "data": {
      "text/html": [
       "<div>\n",
       "<table border=\"1\" class=\"dataframe\">\n",
       "  <thead>\n",
       "    <tr style=\"text-align: right;\">\n",
       "      <th></th>\n",
       "      <th>id_x</th>\n",
       "      <th>booknum</th>\n",
       "      <th>chnum</th>\n",
       "      <th>versenum</th>\n",
       "      <th>text</th>\n",
       "      <th>bookname</th>\n",
       "      <th>testament</th>\n",
       "      <th>genrenum</th>\n",
       "      <th>genre</th>\n",
       "      <th>verses_nopunct</th>\n",
       "      <th>swverses</th>\n",
       "    </tr>\n",
       "  </thead>\n",
       "  <tbody>\n",
       "    <tr>\n",
       "      <th>0</th>\n",
       "      <td>1001001</td>\n",
       "      <td>1</td>\n",
       "      <td>1</td>\n",
       "      <td>1</td>\n",
       "      <td>In the beginning God{After \"God,\" the Hebrew h...</td>\n",
       "      <td>Genesis</td>\n",
       "      <td>OT</td>\n",
       "      <td>1</td>\n",
       "      <td>Law</td>\n",
       "      <td>[In, the, beginning, God, After, God, the, Heb...</td>\n",
       "      <td>[beginning, God, God, Hebrew, two, letters, Al...</td>\n",
       "    </tr>\n",
       "    <tr>\n",
       "      <th>1</th>\n",
       "      <td>1001002</td>\n",
       "      <td>1</td>\n",
       "      <td>1</td>\n",
       "      <td>2</td>\n",
       "      <td>Now the earth was formless and empty. Darkness...</td>\n",
       "      <td>Genesis</td>\n",
       "      <td>OT</td>\n",
       "      <td>1</td>\n",
       "      <td>Law</td>\n",
       "      <td>[Now, the, earth, was, formless, and, empty, D...</td>\n",
       "      <td>[earth, formless, empty, Darkness, surface, de...</td>\n",
       "    </tr>\n",
       "    <tr>\n",
       "      <th>2</th>\n",
       "      <td>1001003</td>\n",
       "      <td>1</td>\n",
       "      <td>1</td>\n",
       "      <td>3</td>\n",
       "      <td>God said, \"Let there be light,\" and there was ...</td>\n",
       "      <td>Genesis</td>\n",
       "      <td>OT</td>\n",
       "      <td>1</td>\n",
       "      <td>Law</td>\n",
       "      <td>[God, said, Let, there, be, light, and, there,...</td>\n",
       "      <td>[God, said, Let, light, light]</td>\n",
       "    </tr>\n",
       "    <tr>\n",
       "      <th>3</th>\n",
       "      <td>1001004</td>\n",
       "      <td>1</td>\n",
       "      <td>1</td>\n",
       "      <td>4</td>\n",
       "      <td>God saw the light, and saw that it was good. G...</td>\n",
       "      <td>Genesis</td>\n",
       "      <td>OT</td>\n",
       "      <td>1</td>\n",
       "      <td>Law</td>\n",
       "      <td>[God, saw, the, light, and, saw, that, it, was...</td>\n",
       "      <td>[God, saw, light, saw, good, God, divided, lig...</td>\n",
       "    </tr>\n",
       "    <tr>\n",
       "      <th>4</th>\n",
       "      <td>1001005</td>\n",
       "      <td>1</td>\n",
       "      <td>1</td>\n",
       "      <td>5</td>\n",
       "      <td>God called the light Day, and the darkness he ...</td>\n",
       "      <td>Genesis</td>\n",
       "      <td>OT</td>\n",
       "      <td>1</td>\n",
       "      <td>Law</td>\n",
       "      <td>[God, called, the, light, Day, and, the, darkn...</td>\n",
       "      <td>[God, called, light, Day, darkness, called, Ni...</td>\n",
       "    </tr>\n",
       "  </tbody>\n",
       "</table>\n",
       "</div>"
      ],
      "text/plain": [
       "      id_x  booknum  chnum  versenum  \\\n",
       "0  1001001        1      1         1   \n",
       "1  1001002        1      1         2   \n",
       "2  1001003        1      1         3   \n",
       "3  1001004        1      1         4   \n",
       "4  1001005        1      1         5   \n",
       "\n",
       "                                                text bookname testament  \\\n",
       "0  In the beginning God{After \"God,\" the Hebrew h...  Genesis        OT   \n",
       "1  Now the earth was formless and empty. Darkness...  Genesis        OT   \n",
       "2  God said, \"Let there be light,\" and there was ...  Genesis        OT   \n",
       "3  God saw the light, and saw that it was good. G...  Genesis        OT   \n",
       "4  God called the light Day, and the darkness he ...  Genesis        OT   \n",
       "\n",
       "   genrenum genre                                     verses_nopunct  \\\n",
       "0         1   Law  [In, the, beginning, God, After, God, the, Heb...   \n",
       "1         1   Law  [Now, the, earth, was, formless, and, empty, D...   \n",
       "2         1   Law  [God, said, Let, there, be, light, and, there,...   \n",
       "3         1   Law  [God, saw, the, light, and, saw, that, it, was...   \n",
       "4         1   Law  [God, called, the, light, Day, and, the, darkn...   \n",
       "\n",
       "                                            swverses  \n",
       "0  [beginning, God, God, Hebrew, two, letters, Al...  \n",
       "1  [earth, formless, empty, Darkness, surface, de...  \n",
       "2                     [God, said, Let, light, light]  \n",
       "3  [God, saw, light, saw, good, God, divided, lig...  \n",
       "4  [God, called, light, Day, darkness, called, Ni...  "
      ]
     },
     "execution_count": 25,
     "metadata": {},
     "output_type": "execute_result"
    }
   ],
   "source": [
    "tweb.head()"
   ]
  },
  {
   "cell_type": "code",
   "execution_count": 26,
   "metadata": {
    "collapsed": true,
    "deletable": true,
    "editable": true
   },
   "outputs": [],
   "source": [
    "words = []\n",
    "sWords = []\n",
    "for i in tweb['swverses']:\n",
    "    for j in i:\n",
    "        sWords.append(j)\n",
    "for i in tweb['verses_nopunct']:\n",
    "    for j in i:\n",
    "        words.append(j)"
   ]
  },
  {
   "cell_type": "code",
   "execution_count": 27,
   "metadata": {
    "collapsed": false,
    "deletable": true,
    "editable": true
   },
   "outputs": [],
   "source": [
    "#sWords"
   ]
  },
  {
   "cell_type": "code",
   "execution_count": 28,
   "metadata": {
    "collapsed": false,
    "deletable": true,
    "editable": true
   },
   "outputs": [
    {
     "data": {
      "text/plain": [
       "773748"
      ]
     },
     "execution_count": 28,
     "metadata": {},
     "output_type": "execute_result"
    }
   ],
   "source": [
    "len(words)"
   ]
  },
  {
   "cell_type": "code",
   "execution_count": 29,
   "metadata": {
    "collapsed": false,
    "deletable": true,
    "editable": true
   },
   "outputs": [
    {
     "data": {
      "text/plain": [
       "337203"
      ]
     },
     "execution_count": 29,
     "metadata": {},
     "output_type": "execute_result"
    }
   ],
   "source": [
    "len(sWords)"
   ]
  },
  {
   "cell_type": "code",
   "execution_count": 30,
   "metadata": {
    "collapsed": false,
    "deletable": true,
    "editable": true
   },
   "outputs": [],
   "source": [
    "uwords = pd.unique(sWords)\n",
    "nwords = pd.unique(words)"
   ]
  },
  {
   "cell_type": "code",
   "execution_count": 31,
   "metadata": {
    "collapsed": false,
    "deletable": true,
    "editable": true
   },
   "outputs": [
    {
     "data": {
      "text/plain": [
       "13480"
      ]
     },
     "execution_count": 31,
     "metadata": {},
     "output_type": "execute_result"
    }
   ],
   "source": [
    "len(uwords)"
   ]
  },
  {
   "cell_type": "code",
   "execution_count": 32,
   "metadata": {
    "collapsed": false,
    "deletable": true,
    "editable": true
   },
   "outputs": [],
   "source": [
    "removedw = [word for word in nwords if word not in uwords]\n",
    "#removedw"
   ]
  },
  {
   "cell_type": "code",
   "execution_count": 33,
   "metadata": {
    "collapsed": false,
    "deletable": true,
    "editable": true
   },
   "outputs": [
    {
     "data": {
      "text/plain": [
       "True"
      ]
     },
     "execution_count": 33,
     "metadata": {},
     "output_type": "execute_result"
    }
   ],
   "source": [
    "#len(removedw)\n",
    "'In' in removedw"
   ]
  },
  {
   "cell_type": "code",
   "execution_count": 34,
   "metadata": {
    "collapsed": true,
    "deletable": true,
    "editable": true
   },
   "outputs": [],
   "source": [
    "from nltk.collocations import BigramCollocationFinder, TrigramCollocationFinder, QuadgramCollocationFinder, ngrams\n",
    "from nltk.metrics import BigramAssocMeasures, TrigramAssocMeasures, NgramAssocMeasures"
   ]
  },
  {
   "cell_type": "code",
   "execution_count": 35,
   "metadata": {
    "collapsed": true,
    "deletable": true,
    "editable": true
   },
   "outputs": [],
   "source": [
    "### Getting Error QuadgramAssocMeasures not defined copied below class from NLTK source\n",
    "class QuadgramAssocMeasures(NgramAssocMeasures):\n",
    "    \"\"\"\n",
    "    A collection of quadgram association measures. Each association measure\n",
    "    is provided as a function with five arguments::\n",
    "\n",
    "        trigram_score_fn(n_iiii,\n",
    "                        (n_iiix, n_iixi, n_ixii, n_xiii),\n",
    "                        (n_iixx, n_ixix, n_ixxi, n_xixi, n_xxii, n_xiix),\n",
    "                        (n_ixxx, n_xixx, n_xxix, n_xxxi),\n",
    "                        n_all)\n",
    "\n",
    "    The arguments constitute the marginals of a contingency table, counting\n",
    "    the occurrences of particular events in a corpus. The letter i in the\n",
    "    suffix refers to the appearance of the word in question, while x indicates\n",
    "    the appearance of any word. Thus, for example:\n",
    "    n_iiii counts (w1, w2, w3, w4), i.e. the quadgram being scored\n",
    "    n_ixxi counts (w1, *, *, w4)\n",
    "    n_xxxx counts (*, *, *, *), i.e. any quadgram\n",
    "    \"\"\"\n",
    "\n",
    "    _n = 4\n",
    "\n",
    "    @staticmethod\n",
    "    def _contingency(n_iiii, n_iiix_tuple, n_iixx_tuple, n_ixxx_tuple, n_xxxx):\n",
    "        \"\"\"Calculates values of a quadgram contingency table from\n",
    "        marginal values.\n",
    "        \"\"\"\n",
    "        (n_iiix, n_iixi, n_ixii, n_xiii) = n_iiix_tuple\n",
    "        (n_iixx, n_ixix, n_ixxi, n_xixi, n_xxii, n_xiix) = n_iixx_tuple\n",
    "        (n_ixxx, n_xixx, n_xxix, n_xxxi) = n_ixxx_tuple\n",
    "        n_oiii = n_xiii - n_iiii\n",
    "        n_ioii = n_ixii - n_iiii\n",
    "        n_iioi = n_iixi - n_iiii\n",
    "        n_ooii = n_xxii - n_iiii - n_oiii - n_ioii\n",
    "        n_oioi = n_xixi - n_iiii - n_oiii - n_iioi\n",
    "        n_iooi = n_ixxi - n_iiii - n_ioii - n_iioi\n",
    "        n_oooi = n_xxxi - n_iiii - n_oiii - n_ioii - n_iioi - n_ooii - n_iooi - n_oioi\n",
    "        n_iiio = n_iiix - n_iiii\n",
    "        n_oiio = n_xiix - n_iiii - n_oiii - n_iiio\n",
    "        n_ioio = n_ixix - n_iiii - n_ioii - n_iiio\n",
    "        n_ooio = n_xxix - n_iiii - n_oiii - n_ioii - n_iiio - n_ooii - n_ioio - n_oiio\n",
    "        n_iioo = n_iixx - n_iiii - n_iioi - n_iiio\n",
    "        n_oioo = n_xixx - n_iiii - n_oiii - n_iioi - n_iiio - n_oioi - n_oiio - n_iioo\n",
    "        n_iooo = n_ixxx - n_iiii - n_ioii - n_iioi - n_iiio - n_iooi - n_iioo - n_ioio\n",
    "        n_oooo = n_xxxx - n_iiii - n_oiii - n_ioii - n_iioi - n_ooii - n_oioi - n_iooi - \\\n",
    "                 n_oooi - n_iiio - n_oiio - n_ioio - n_ooio - n_iioo - n_oioo - n_iooo\n",
    "\n",
    "        return (n_iiii, n_oiii, n_ioii, n_ooii, n_iioi,\n",
    "                n_oioi, n_iooi, n_oooi, n_iiio, n_oiio,\n",
    "                n_ioio, n_ooio, n_iioo, n_oioo, n_iooo, n_oooo)\n",
    "\n",
    "    @staticmethod\n",
    "    def _marginals(*contingency):\n",
    "        \"\"\"Calculates values of contingency table marginals from its values.\n",
    "        QuadgramAssocMeasures._marginals(1, 0, 2, 46, 552, 825, 2577, 34967, 1, 0, 2, 48, 7250, 9031, 28585, 356653)\n",
    "        (1, (2, 553, 3, 1), (7804, 6, 3132, 1378, 49, 2), (38970, 17660, 100, 38970), 440540)\n",
    "        \"\"\"\n",
    "        n_iiii, n_oiii, n_ioii, n_ooii, n_iioi, n_oioi, n_iooi, n_oooi, n_iiio, n_oiio, n_ioio, n_ooio, \\\n",
    "        n_iioo, n_oioo, n_iooo, n_oooo = contingency\n",
    "\n",
    "        n_iiix = n_iiii + n_iiio\n",
    "        n_iixi = n_iiii + n_iioi\n",
    "        n_ixii = n_iiii + n_ioii\n",
    "        n_xiii = n_iiii + n_oiii\n",
    "\n",
    "        n_iixx = n_iiii + n_iioi + n_iiio + n_iioo\n",
    "        n_ixix = n_iiii + n_ioii + n_iiio + n_ioio\n",
    "        n_ixxi = n_iiii + n_ioii + n_iioi + n_iooi\n",
    "        n_xixi = n_iiii + n_oiii + n_iioi + n_oioi\n",
    "        n_xxii = n_iiii + n_oiii + n_ioii + n_ooii\n",
    "        n_xiix = n_iiii + n_oiii + n_iiio + n_oiio\n",
    "\n",
    "        n_ixxx = n_iiii + n_ioii + n_iioi + n_iiio + n_iooi + n_iioo + n_ioio + n_iooo\n",
    "        n_xixx = n_iiii + n_oiii + n_iioi + n_iiio + n_oioi + n_oiio + n_iioo + n_oioo\n",
    "        n_xxix = n_iiii + n_oiii + n_ioii + n_iiio + n_ooii + n_ioio + n_oiio + n_ooio\n",
    "        n_xxxi = n_iiii + n_oiii + n_ioii + n_iioi + n_ooii + n_iooi + n_oioi + n_oooi\n",
    "\n",
    "        n_all = sum(contingency)\n",
    "\n",
    "        return (n_iiii,\n",
    "                (n_iiix, n_iixi, n_ixii, n_xiii),\n",
    "                (n_iixx, n_ixix, n_ixxi, n_xixi, n_xxii, n_xiix),\n",
    "                (n_ixxx, n_xixx, n_xxix, n_xxxi),\n",
    "                n_all)"
   ]
  },
  {
   "cell_type": "code",
   "execution_count": 303,
   "metadata": {
    "collapsed": false,
    "deletable": true,
    "editable": true
   },
   "outputs": [],
   "source": [
    "bcf = BigramCollocationFinder.from_words(sWords)\n",
    "tcf = TrigramCollocationFinder.from_words(words)\n",
    "qcf = QuadgramCollocationFinder.from_words(words)\n",
    "#scf = ngrams\n",
    "\n"
   ]
  },
  {
   "cell_type": "code",
   "execution_count": 304,
   "metadata": {
    "collapsed": false,
    "deletable": true,
    "editable": true
   },
   "outputs": [],
   "source": [
    "bigrams = [b for b in bcf.nbest(BigramAssocMeasures.likelihood_ratio,len(sWords))]\n",
    "trigrams = [t for t in tcf.nbest(TrigramAssocMeasures.likelihood_ratio,len(words))]\n",
    "quadgrams = [q for q in qcf.nbest(QuadgramAssocMeasures.likelihood_ratio,len(words))]\n"
   ]
  },
  {
   "cell_type": "code",
   "execution_count": null,
   "metadata": {
    "collapsed": false,
    "deletable": true,
    "editable": true
   },
   "outputs": [],
   "source": []
  },
  {
   "cell_type": "code",
   "execution_count": null,
   "metadata": {
    "collapsed": true,
    "deletable": true,
    "editable": true
   },
   "outputs": [],
   "source": []
  },
  {
   "cell_type": "markdown",
   "metadata": {
    "collapsed": false,
    "deletable": true,
    "editable": true
   },
   "source": [
    "### Adds column of word counts to each row"
   ]
  },
  {
   "cell_type": "code",
   "execution_count": 36,
   "metadata": {
    "collapsed": true,
    "deletable": true,
    "editable": true
   },
   "outputs": [],
   "source": [
    "tweb['wordcount'] = tweb['verses_nopunct'].apply(len)"
   ]
  },
  {
   "cell_type": "code",
   "execution_count": 38,
   "metadata": {
    "collapsed": false,
    "deletable": true,
    "editable": true
   },
   "outputs": [
    {
     "ename": "ValueError",
     "evalue": "labels ['genrenum'] not contained in axis",
     "output_type": "error",
     "traceback": [
      "\u001b[0;31m---------------------------------------------------------------------------\u001b[0m",
      "\u001b[0;31mValueError\u001b[0m                                Traceback (most recent call last)",
      "\u001b[0;32m<ipython-input-38-0709a37c61de>\u001b[0m in \u001b[0;36m<module>\u001b[0;34m()\u001b[0m\n\u001b[1;32m      1\u001b[0m \u001b[0;31m#tweb.drop(['field.3_y','field'],axis=1,inplace=True)\u001b[0m\u001b[0;34m\u001b[0m\u001b[0;34m\u001b[0m\u001b[0m\n\u001b[0;32m----> 2\u001b[0;31m \u001b[0mtweb\u001b[0m\u001b[0;34m.\u001b[0m\u001b[0mdrop\u001b[0m\u001b[0;34m(\u001b[0m\u001b[0;34m[\u001b[0m\u001b[0;34m'genrenum'\u001b[0m\u001b[0;34m]\u001b[0m\u001b[0;34m,\u001b[0m\u001b[0maxis\u001b[0m\u001b[0;34m=\u001b[0m\u001b[0;36m1\u001b[0m\u001b[0;34m,\u001b[0m\u001b[0minplace\u001b[0m\u001b[0;34m=\u001b[0m\u001b[0;32mTrue\u001b[0m\u001b[0;34m)\u001b[0m\u001b[0;34m\u001b[0m\u001b[0m\n\u001b[0m",
      "\u001b[0;32m/usr/lib/python3.6/site-packages/pandas/core/generic.py\u001b[0m in \u001b[0;36mdrop\u001b[0;34m(self, labels, axis, level, inplace, errors)\u001b[0m\n\u001b[1;32m   1905\u001b[0m                 \u001b[0mnew_axis\u001b[0m \u001b[0;34m=\u001b[0m \u001b[0maxis\u001b[0m\u001b[0;34m.\u001b[0m\u001b[0mdrop\u001b[0m\u001b[0;34m(\u001b[0m\u001b[0mlabels\u001b[0m\u001b[0;34m,\u001b[0m \u001b[0mlevel\u001b[0m\u001b[0;34m=\u001b[0m\u001b[0mlevel\u001b[0m\u001b[0;34m,\u001b[0m \u001b[0merrors\u001b[0m\u001b[0;34m=\u001b[0m\u001b[0merrors\u001b[0m\u001b[0;34m)\u001b[0m\u001b[0;34m\u001b[0m\u001b[0m\n\u001b[1;32m   1906\u001b[0m             \u001b[0;32melse\u001b[0m\u001b[0;34m:\u001b[0m\u001b[0;34m\u001b[0m\u001b[0m\n\u001b[0;32m-> 1907\u001b[0;31m                 \u001b[0mnew_axis\u001b[0m \u001b[0;34m=\u001b[0m \u001b[0maxis\u001b[0m\u001b[0;34m.\u001b[0m\u001b[0mdrop\u001b[0m\u001b[0;34m(\u001b[0m\u001b[0mlabels\u001b[0m\u001b[0;34m,\u001b[0m \u001b[0merrors\u001b[0m\u001b[0;34m=\u001b[0m\u001b[0merrors\u001b[0m\u001b[0;34m)\u001b[0m\u001b[0;34m\u001b[0m\u001b[0m\n\u001b[0m\u001b[1;32m   1908\u001b[0m             \u001b[0mdropped\u001b[0m \u001b[0;34m=\u001b[0m \u001b[0mself\u001b[0m\u001b[0;34m.\u001b[0m\u001b[0mreindex\u001b[0m\u001b[0;34m(\u001b[0m\u001b[0;34m**\u001b[0m\u001b[0;34m{\u001b[0m\u001b[0maxis_name\u001b[0m\u001b[0;34m:\u001b[0m \u001b[0mnew_axis\u001b[0m\u001b[0;34m}\u001b[0m\u001b[0;34m)\u001b[0m\u001b[0;34m\u001b[0m\u001b[0m\n\u001b[1;32m   1909\u001b[0m             \u001b[0;32mtry\u001b[0m\u001b[0;34m:\u001b[0m\u001b[0;34m\u001b[0m\u001b[0m\n",
      "\u001b[0;32m/usr/lib/python3.6/site-packages/pandas/indexes/base.py\u001b[0m in \u001b[0;36mdrop\u001b[0;34m(self, labels, errors)\u001b[0m\n\u001b[1;32m   3260\u001b[0m             \u001b[0;32mif\u001b[0m \u001b[0merrors\u001b[0m \u001b[0;34m!=\u001b[0m \u001b[0;34m'ignore'\u001b[0m\u001b[0;34m:\u001b[0m\u001b[0;34m\u001b[0m\u001b[0m\n\u001b[1;32m   3261\u001b[0m                 raise ValueError('labels %s not contained in axis' %\n\u001b[0;32m-> 3262\u001b[0;31m                                  labels[mask])\n\u001b[0m\u001b[1;32m   3263\u001b[0m             \u001b[0mindexer\u001b[0m \u001b[0;34m=\u001b[0m \u001b[0mindexer\u001b[0m\u001b[0;34m[\u001b[0m\u001b[0;34m~\u001b[0m\u001b[0mmask\u001b[0m\u001b[0;34m]\u001b[0m\u001b[0;34m\u001b[0m\u001b[0m\n\u001b[1;32m   3264\u001b[0m         \u001b[0;32mreturn\u001b[0m \u001b[0mself\u001b[0m\u001b[0;34m.\u001b[0m\u001b[0mdelete\u001b[0m\u001b[0;34m(\u001b[0m\u001b[0mindexer\u001b[0m\u001b[0;34m)\u001b[0m\u001b[0;34m\u001b[0m\u001b[0m\n",
      "\u001b[0;31mValueError\u001b[0m: labels ['genrenum'] not contained in axis"
     ]
    }
   ],
   "source": [
    "#tweb.drop(['field.3_y','field'],axis=1,inplace=True)\n",
    "tweb.drop(['genrenum'],axis=1,inplace=True)"
   ]
  },
  {
   "cell_type": "code",
   "execution_count": 39,
   "metadata": {
    "collapsed": false,
    "deletable": true,
    "editable": true
   },
   "outputs": [],
   "source": [
    "tweb.columns = [\"id\",\"booknum\",\"chnum\",\"versenum\",\"text\",\"bookname\",\"testament\",\"genre\",\"versearr\",\"sversearr\",\"wordcount\"]"
   ]
  },
  {
   "cell_type": "code",
   "execution_count": 40,
   "metadata": {
    "collapsed": false,
    "deletable": true,
    "editable": true
   },
   "outputs": [
    {
     "data": {
      "text/html": [
       "<div>\n",
       "<table border=\"1\" class=\"dataframe\">\n",
       "  <thead>\n",
       "    <tr style=\"text-align: right;\">\n",
       "      <th></th>\n",
       "      <th>id</th>\n",
       "      <th>booknum</th>\n",
       "      <th>chnum</th>\n",
       "      <th>versenum</th>\n",
       "      <th>text</th>\n",
       "      <th>bookname</th>\n",
       "      <th>testament</th>\n",
       "      <th>genre</th>\n",
       "      <th>versearr</th>\n",
       "      <th>sversearr</th>\n",
       "      <th>wordcount</th>\n",
       "    </tr>\n",
       "  </thead>\n",
       "  <tbody>\n",
       "    <tr>\n",
       "      <th>0</th>\n",
       "      <td>1001001</td>\n",
       "      <td>1</td>\n",
       "      <td>1</td>\n",
       "      <td>1</td>\n",
       "      <td>In the beginning God{After \"God,\" the Hebrew h...</td>\n",
       "      <td>Genesis</td>\n",
       "      <td>OT</td>\n",
       "      <td>Law</td>\n",
       "      <td>[In, the, beginning, God, After, God, the, Heb...</td>\n",
       "      <td>[beginning, God, God, Hebrew, two, letters, Al...</td>\n",
       "      <td>33</td>\n",
       "    </tr>\n",
       "    <tr>\n",
       "      <th>1</th>\n",
       "      <td>1001002</td>\n",
       "      <td>1</td>\n",
       "      <td>1</td>\n",
       "      <td>2</td>\n",
       "      <td>Now the earth was formless and empty. Darkness...</td>\n",
       "      <td>Genesis</td>\n",
       "      <td>OT</td>\n",
       "      <td>Law</td>\n",
       "      <td>[Now, the, earth, was, formless, and, empty, D...</td>\n",
       "      <td>[earth, formless, empty, Darkness, surface, de...</td>\n",
       "      <td>26</td>\n",
       "    </tr>\n",
       "    <tr>\n",
       "      <th>2</th>\n",
       "      <td>1001003</td>\n",
       "      <td>1</td>\n",
       "      <td>1</td>\n",
       "      <td>3</td>\n",
       "      <td>God said, \"Let there be light,\" and there was ...</td>\n",
       "      <td>Genesis</td>\n",
       "      <td>OT</td>\n",
       "      <td>Law</td>\n",
       "      <td>[God, said, Let, there, be, light, and, there,...</td>\n",
       "      <td>[God, said, Let, light, light]</td>\n",
       "      <td>10</td>\n",
       "    </tr>\n",
       "    <tr>\n",
       "      <th>3</th>\n",
       "      <td>1001004</td>\n",
       "      <td>1</td>\n",
       "      <td>1</td>\n",
       "      <td>4</td>\n",
       "      <td>God saw the light, and saw that it was good. G...</td>\n",
       "      <td>Genesis</td>\n",
       "      <td>OT</td>\n",
       "      <td>Law</td>\n",
       "      <td>[God, saw, the, light, and, saw, that, it, was...</td>\n",
       "      <td>[God, saw, light, saw, good, God, divided, lig...</td>\n",
       "      <td>17</td>\n",
       "    </tr>\n",
       "    <tr>\n",
       "      <th>4</th>\n",
       "      <td>1001005</td>\n",
       "      <td>1</td>\n",
       "      <td>1</td>\n",
       "      <td>5</td>\n",
       "      <td>God called the light Day, and the darkness he ...</td>\n",
       "      <td>Genesis</td>\n",
       "      <td>OT</td>\n",
       "      <td>Law</td>\n",
       "      <td>[God, called, the, light, Day, and, the, darkn...</td>\n",
       "      <td>[God, called, light, Day, darkness, called, Ni...</td>\n",
       "      <td>20</td>\n",
       "    </tr>\n",
       "  </tbody>\n",
       "</table>\n",
       "</div>"
      ],
      "text/plain": [
       "        id  booknum  chnum  versenum  \\\n",
       "0  1001001        1      1         1   \n",
       "1  1001002        1      1         2   \n",
       "2  1001003        1      1         3   \n",
       "3  1001004        1      1         4   \n",
       "4  1001005        1      1         5   \n",
       "\n",
       "                                                text bookname testament genre  \\\n",
       "0  In the beginning God{After \"God,\" the Hebrew h...  Genesis        OT   Law   \n",
       "1  Now the earth was formless and empty. Darkness...  Genesis        OT   Law   \n",
       "2  God said, \"Let there be light,\" and there was ...  Genesis        OT   Law   \n",
       "3  God saw the light, and saw that it was good. G...  Genesis        OT   Law   \n",
       "4  God called the light Day, and the darkness he ...  Genesis        OT   Law   \n",
       "\n",
       "                                            versearr  \\\n",
       "0  [In, the, beginning, God, After, God, the, Heb...   \n",
       "1  [Now, the, earth, was, formless, and, empty, D...   \n",
       "2  [God, said, Let, there, be, light, and, there,...   \n",
       "3  [God, saw, the, light, and, saw, that, it, was...   \n",
       "4  [God, called, the, light, Day, and, the, darkn...   \n",
       "\n",
       "                                           sversearr  wordcount  \n",
       "0  [beginning, God, God, Hebrew, two, letters, Al...         33  \n",
       "1  [earth, formless, empty, Darkness, surface, de...         26  \n",
       "2                     [God, said, Let, light, light]         10  \n",
       "3  [God, saw, light, saw, good, God, divided, lig...         17  \n",
       "4  [God, called, light, Day, darkness, called, Ni...         20  "
      ]
     },
     "execution_count": 40,
     "metadata": {},
     "output_type": "execute_result"
    }
   ],
   "source": [
    "tweb.head()"
   ]
  },
  {
   "cell_type": "markdown",
   "metadata": {
    "deletable": true,
    "editable": true
   },
   "source": [
    "### Export main verse data to tsv"
   ]
  },
  {
   "cell_type": "code",
   "execution_count": 41,
   "metadata": {
    "collapsed": true,
    "deletable": true,
    "editable": true
   },
   "outputs": [],
   "source": [
    "tweb.to_csv('twebdata.tsv',sep='\\t')"
   ]
  },
  {
   "cell_type": "code",
   "execution_count": 310,
   "metadata": {
    "collapsed": false,
    "deletable": true,
    "editable": true
   },
   "outputs": [],
   "source": [
    "#wdf = pd.DataFrame(sWords)"
   ]
  },
  {
   "cell_type": "code",
   "execution_count": 311,
   "metadata": {
    "collapsed": false,
    "deletable": true,
    "editable": true
   },
   "outputs": [],
   "source": [
    "#wdf.columns = ['words']\n",
    "#wdf.head()"
   ]
  },
  {
   "cell_type": "code",
   "execution_count": 42,
   "metadata": {
    "collapsed": true,
    "deletable": true,
    "editable": true
   },
   "outputs": [],
   "source": [
    "uwdf = pd.DataFrame(uwords)"
   ]
  },
  {
   "cell_type": "code",
   "execution_count": 43,
   "metadata": {
    "collapsed": false,
    "deletable": true,
    "editable": true
   },
   "outputs": [],
   "source": [
    "#wdf['vlocations'] = [[tweb.iloc[el]['id'] for i,el in enumerate(tweb) if x in el['sversearr']] for x in sWords]"
   ]
  },
  {
   "cell_type": "code",
   "execution_count": 44,
   "metadata": {
    "collapsed": false,
    "deletable": true,
    "editable": true
   },
   "outputs": [
    {
     "data": {
      "text/plain": [
       "31102"
      ]
     },
     "execution_count": 44,
     "metadata": {},
     "output_type": "execute_result"
    }
   ],
   "source": [
    "len(tweb)"
   ]
  },
  {
   "cell_type": "code",
   "execution_count": 45,
   "metadata": {
    "collapsed": false,
    "deletable": true,
    "editable": true
   },
   "outputs": [],
   "source": [
    "wordmat = tweb['sversearr']\n",
    "wordlists = []\n",
    "for i in wordmat:\n",
    "    wordlists = wordlists+i"
   ]
  },
  {
   "cell_type": "code",
   "execution_count": 46,
   "metadata": {
    "collapsed": false,
    "deletable": true,
    "editable": true
   },
   "outputs": [],
   "source": [
    "#wordlists"
   ]
  },
  {
   "cell_type": "code",
   "execution_count": 47,
   "metadata": {
    "collapsed": false,
    "deletable": true,
    "editable": true
   },
   "outputs": [],
   "source": [
    "wordlocs = []\n",
    "for i in uwords:\n",
    "    wlocs = []\n",
    "    for j,el in enumerate(wordmat):\n",
    "        if i in el:\n",
    "            wlocs.append(j)\n",
    "    wordlocs.append(wlocs)\n",
    "            "
   ]
  },
  {
   "cell_type": "code",
   "execution_count": 48,
   "metadata": {
    "collapsed": false,
    "deletable": true,
    "editable": true
   },
   "outputs": [],
   "source": [
    "#wordlocs"
   ]
  },
  {
   "cell_type": "code",
   "execution_count": 49,
   "metadata": {
    "collapsed": false,
    "deletable": true,
    "editable": true
   },
   "outputs": [
    {
     "data": {
      "text/plain": [
       "\"\\ndef addlocations(ls):\\n    locations = []\\n    for i in uwords:\\n        wlocs = []\\n        for j in range(len(ls)):\\n            if i in ls.iloc[j]['sversearr']:\\n                wlocs.append(ls.iloc[j]['id'])\\n                #print(i)\\n    locations.append(wlocs)\\n    return locations\\n    \\nlocmat[0]\\n\""
      ]
     },
     "execution_count": 49,
     "metadata": {},
     "output_type": "execute_result"
    }
   ],
   "source": [
    "'''\n",
    "def addlocations(ls):\n",
    "    locations = []\n",
    "    for i in uwords:\n",
    "        wlocs = []\n",
    "        for j in range(len(ls)):\n",
    "            if i in ls.iloc[j]['sversearr']:\n",
    "                wlocs.append(ls.iloc[j]['id'])\n",
    "                #print(i)\n",
    "    locations.append(wlocs)\n",
    "    return locations\n",
    "    \n",
    "locmat[0]\n",
    "'''"
   ]
  },
  {
   "cell_type": "code",
   "execution_count": 50,
   "metadata": {
    "collapsed": true,
    "deletable": true,
    "editable": true
   },
   "outputs": [],
   "source": [
    "wordids = []\n",
    "for i in wordlocs:\n",
    "    ids = []\n",
    "    for j in i:\n",
    "        ids.append(tweb.iloc[j]['id'])\n",
    "    wordids.append(ids)"
   ]
  },
  {
   "cell_type": "code",
   "execution_count": 51,
   "metadata": {
    "collapsed": false,
    "deletable": true,
    "editable": true
   },
   "outputs": [
    {
     "data": {
      "text/plain": [
       "[1001001,\n",
       " 1010010,\n",
       " 1013003,\n",
       " 1041021,\n",
       " 1044012,\n",
       " 1049003,\n",
       " 2012002,\n",
       " 5011012,\n",
       " 5021017,\n",
       " 7007019,\n",
       " 8001022,\n",
       " 8003010,\n",
       " 9003012,\n",
       " 10021009,\n",
       " 10021010,\n",
       " 12017025,\n",
       " 15004006,\n",
       " 18008007,\n",
       " 18042012,\n",
       " 19111010]"
      ]
     },
     "execution_count": 51,
     "metadata": {},
     "output_type": "execute_result"
    }
   ],
   "source": [
    "wordids[0][0:20]"
   ]
  },
  {
   "cell_type": "code",
   "execution_count": 52,
   "metadata": {
    "collapsed": false,
    "deletable": true,
    "editable": true
   },
   "outputs": [
    {
     "data": {
      "text/html": [
       "<div>\n",
       "<table border=\"1\" class=\"dataframe\">\n",
       "  <thead>\n",
       "    <tr style=\"text-align: right;\">\n",
       "      <th></th>\n",
       "      <th>uwords</th>\n",
       "      <th>wlocations</th>\n",
       "    </tr>\n",
       "  </thead>\n",
       "  <tbody>\n",
       "    <tr>\n",
       "      <th>0</th>\n",
       "      <td>beginning</td>\n",
       "      <td>[1001001, 1010010, 1013003, 1041021, 1044012, ...</td>\n",
       "    </tr>\n",
       "    <tr>\n",
       "      <th>1</th>\n",
       "      <td>God</td>\n",
       "      <td>[1001001, 1001002, 1001003, 1001004, 1001005, ...</td>\n",
       "    </tr>\n",
       "    <tr>\n",
       "      <th>2</th>\n",
       "      <td>Hebrew</td>\n",
       "      <td>[1001001, 1005002, 1014013, 1031047, 1034017, ...</td>\n",
       "    </tr>\n",
       "    <tr>\n",
       "      <th>3</th>\n",
       "      <td>two</td>\n",
       "      <td>[1001001, 1001016, 1004019, 1005018, 1005020, ...</td>\n",
       "    </tr>\n",
       "    <tr>\n",
       "      <th>4</th>\n",
       "      <td>letters</td>\n",
       "      <td>[1001001, 2020001, 11021008, 11021009, 1102101...</td>\n",
       "    </tr>\n",
       "  </tbody>\n",
       "</table>\n",
       "</div>"
      ],
      "text/plain": [
       "      uwords                                         wlocations\n",
       "0  beginning  [1001001, 1010010, 1013003, 1041021, 1044012, ...\n",
       "1        God  [1001001, 1001002, 1001003, 1001004, 1001005, ...\n",
       "2     Hebrew  [1001001, 1005002, 1014013, 1031047, 1034017, ...\n",
       "3        two  [1001001, 1001016, 1004019, 1005018, 1005020, ...\n",
       "4    letters  [1001001, 2020001, 11021008, 11021009, 1102101..."
      ]
     },
     "execution_count": 52,
     "metadata": {},
     "output_type": "execute_result"
    }
   ],
   "source": [
    "uwdf['wlocations'] = wordids\n",
    "uwdf.columns = ['uwords','wlocations']\n",
    "uwdf.head()"
   ]
  },
  {
   "cell_type": "code",
   "execution_count": 53,
   "metadata": {
    "collapsed": true,
    "deletable": true,
    "editable": true
   },
   "outputs": [],
   "source": [
    "uwdf.to_csv('wordlocs.tsv',sep='\\t')"
   ]
  },
  {
   "cell_type": "code",
   "execution_count": null,
   "metadata": {
    "collapsed": true,
    "deletable": true,
    "editable": true
   },
   "outputs": [],
   "source": []
  },
  {
   "cell_type": "code",
   "execution_count": 54,
   "metadata": {
    "collapsed": false,
    "deletable": true,
    "editable": true
   },
   "outputs": [],
   "source": [
    "#locmat = addlocations(tweb)"
   ]
  },
  {
   "cell_type": "code",
   "execution_count": 55,
   "metadata": {
    "collapsed": true,
    "deletable": true,
    "editable": true
   },
   "outputs": [],
   "source": [
    "#locmat"
   ]
  },
  {
   "cell_type": "markdown",
   "metadata": {
    "deletable": true,
    "editable": true
   },
   "source": [
    "### Using similar method as plotting counts with groupby to create a new dataset with rows for each book rather than verses."
   ]
  },
  {
   "cell_type": "code",
   "execution_count": 56,
   "metadata": {
    "collapsed": false,
    "deletable": true,
    "editable": true
   },
   "outputs": [
    {
     "data": {
      "text/html": [
       "<div>\n",
       "<table border=\"1\" class=\"dataframe\">\n",
       "  <thead>\n",
       "    <tr style=\"text-align: right;\">\n",
       "      <th></th>\n",
       "      <th>bookname</th>\n",
       "      <th>id</th>\n",
       "      <th>booknum</th>\n",
       "      <th>chnum</th>\n",
       "      <th>versenum</th>\n",
       "      <th>wordcount</th>\n",
       "    </tr>\n",
       "  </thead>\n",
       "  <tbody>\n",
       "    <tr>\n",
       "      <th>0</th>\n",
       "      <td>Genesis</td>\n",
       "      <td>1574041798</td>\n",
       "      <td>1533</td>\n",
       "      <td>41015</td>\n",
       "      <td>26798</td>\n",
       "      <td>36816</td>\n",
       "    </tr>\n",
       "    <tr>\n",
       "      <th>1</th>\n",
       "      <td>Exodus</td>\n",
       "      <td>2452293462</td>\n",
       "      <td>2426</td>\n",
       "      <td>26273</td>\n",
       "      <td>20462</td>\n",
       "      <td>31236</td>\n",
       "    </tr>\n",
       "    <tr>\n",
       "      <th>2</th>\n",
       "      <td>Leviticus</td>\n",
       "      <td>2590056412</td>\n",
       "      <td>2577</td>\n",
       "      <td>13040</td>\n",
       "      <td>16412</td>\n",
       "      <td>23547</td>\n",
       "    </tr>\n",
       "    <tr>\n",
       "      <th>3</th>\n",
       "      <td>Numbers</td>\n",
       "      <td>5174766038</td>\n",
       "      <td>5152</td>\n",
       "      <td>22738</td>\n",
       "      <td>28038</td>\n",
       "      <td>31547</td>\n",
       "    </tr>\n",
       "    <tr>\n",
       "      <th>4</th>\n",
       "      <td>Deuteronomy</td>\n",
       "      <td>4811386071</td>\n",
       "      <td>4795</td>\n",
       "      <td>16370</td>\n",
       "      <td>16071</td>\n",
       "      <td>27818</td>\n",
       "    </tr>\n",
       "  </tbody>\n",
       "</table>\n",
       "</div>"
      ],
      "text/plain": [
       "      bookname          id  booknum  chnum  versenum  wordcount\n",
       "0      Genesis  1574041798     1533  41015     26798      36816\n",
       "1       Exodus  2452293462     2426  26273     20462      31236\n",
       "2    Leviticus  2590056412     2577  13040     16412      23547\n",
       "3      Numbers  5174766038     5152  22738     28038      31547\n",
       "4  Deuteronomy  4811386071     4795  16370     16071      27818"
      ]
     },
     "execution_count": 56,
     "metadata": {},
     "output_type": "execute_result"
    }
   ],
   "source": [
    "wordsum = []\n",
    "df = tweb.groupby('bookname',sort=False).sum()\n",
    "df = df.reset_index()\n",
    "df.head()\n"
   ]
  },
  {
   "cell_type": "code",
   "execution_count": 57,
   "metadata": {
    "collapsed": true,
    "deletable": true,
    "editable": true
   },
   "outputs": [],
   "source": [
    "df.drop(['id','booknum','chnum','versenum'],axis=1,inplace=True)"
   ]
  },
  {
   "cell_type": "code",
   "execution_count": 58,
   "metadata": {
    "collapsed": false,
    "deletable": true,
    "editable": true
   },
   "outputs": [
    {
     "data": {
      "text/plain": [
       "range(0, 66)"
      ]
     },
     "execution_count": 58,
     "metadata": {},
     "output_type": "execute_result"
    }
   ],
   "source": [
    "range(len(df))"
   ]
  },
  {
   "cell_type": "markdown",
   "metadata": {
    "deletable": true,
    "editable": true
   },
   "source": [
    "### Function to be applied to verse data set (tweb) iteratively to create a separate data frame of verses for each book and store them in a list. "
   ]
  },
  {
   "cell_type": "code",
   "execution_count": 59,
   "metadata": {
    "collapsed": false,
    "deletable": true,
    "editable": true
   },
   "outputs": [],
   "source": [
    "def splitbybook(data,num):\n",
    "    book = data[data['booknum'] == num]\n",
    "    return book"
   ]
  },
  {
   "cell_type": "markdown",
   "metadata": {
    "deletable": true,
    "editable": true
   },
   "source": [
    "### Applies splitbybook function in a loop using index of book data set to aggregate verses matching each book"
   ]
  },
  {
   "cell_type": "code",
   "execution_count": 60,
   "metadata": {
    "collapsed": true,
    "deletable": true,
    "editable": true
   },
   "outputs": [],
   "source": [
    "booklist = []\n",
    "for i in range(len(df)):\n",
    "    booklist.append(splitbybook(tweb,i+1))\n"
   ]
  },
  {
   "cell_type": "code",
   "execution_count": 61,
   "metadata": {
    "collapsed": false,
    "deletable": true,
    "editable": true
   },
   "outputs": [
    {
     "data": {
      "text/plain": [
       "id                                                    66022021\n",
       "booknum                                                     66\n",
       "chnum                                                       22\n",
       "versenum                                                    21\n",
       "text         The grace of the Lord Jesus Christ be with all...\n",
       "bookname                                            Revelation\n",
       "testament                                                   NT\n",
       "genre                                              Apocalyptic\n",
       "versearr     [The, grace, of, the, Lord, Jesus, Christ, be,...\n",
       "sversearr           [grace, Lord, Jesus, Christ, saints, Amen]\n",
       "wordcount                                                   13\n",
       "Name: 31101, dtype: object"
      ]
     },
     "execution_count": 61,
     "metadata": {},
     "output_type": "execute_result"
    }
   ],
   "source": [
    "booklist[-1].iloc[-1]"
   ]
  },
  {
   "cell_type": "markdown",
   "metadata": {
    "deletable": true,
    "editable": true
   },
   "source": [
    "### looping through list of book dataframes grabbing the chapter number of the last element in each to create a column of number of chapters in book dataframe"
   ]
  },
  {
   "cell_type": "code",
   "execution_count": 62,
   "metadata": {
    "collapsed": false,
    "deletable": true,
    "editable": true
   },
   "outputs": [
    {
     "data": {
      "text/html": [
       "<div>\n",
       "<table border=\"1\" class=\"dataframe\">\n",
       "  <thead>\n",
       "    <tr style=\"text-align: right;\">\n",
       "      <th></th>\n",
       "      <th>bookname</th>\n",
       "      <th>wordcount</th>\n",
       "      <th>chaptercount</th>\n",
       "    </tr>\n",
       "  </thead>\n",
       "  <tbody>\n",
       "    <tr>\n",
       "      <th>0</th>\n",
       "      <td>Genesis</td>\n",
       "      <td>36816</td>\n",
       "      <td>50</td>\n",
       "    </tr>\n",
       "    <tr>\n",
       "      <th>1</th>\n",
       "      <td>Exodus</td>\n",
       "      <td>31236</td>\n",
       "      <td>40</td>\n",
       "    </tr>\n",
       "    <tr>\n",
       "      <th>2</th>\n",
       "      <td>Leviticus</td>\n",
       "      <td>23547</td>\n",
       "      <td>27</td>\n",
       "    </tr>\n",
       "    <tr>\n",
       "      <th>3</th>\n",
       "      <td>Numbers</td>\n",
       "      <td>31547</td>\n",
       "      <td>36</td>\n",
       "    </tr>\n",
       "    <tr>\n",
       "      <th>4</th>\n",
       "      <td>Deuteronomy</td>\n",
       "      <td>27818</td>\n",
       "      <td>34</td>\n",
       "    </tr>\n",
       "  </tbody>\n",
       "</table>\n",
       "</div>"
      ],
      "text/plain": [
       "      bookname  wordcount  chaptercount\n",
       "0      Genesis      36816            50\n",
       "1       Exodus      31236            40\n",
       "2    Leviticus      23547            27\n",
       "3      Numbers      31547            36\n",
       "4  Deuteronomy      27818            34"
      ]
     },
     "execution_count": 62,
     "metadata": {},
     "output_type": "execute_result"
    }
   ],
   "source": [
    "df['chaptercount'] = [i.iloc[-1]['chnum'] for i in booklist]\n",
    "df.head()"
   ]
  },
  {
   "cell_type": "code",
   "execution_count": 63,
   "metadata": {
    "collapsed": false,
    "deletable": true,
    "editable": true
   },
   "outputs": [
    {
     "data": {
      "text/plain": [
       "array([ 1,  2,  3,  4,  5,  6,  7,  8,  9, 10, 11, 12, 13, 14, 15, 16, 17,\n",
       "       18, 19, 20, 21, 22, 23, 24, 25, 26, 27, 28, 29, 30, 31, 32, 33, 34,\n",
       "       35, 36, 37, 38, 39, 40, 41, 42, 43, 44, 45, 46, 47, 48, 49, 50])"
      ]
     },
     "execution_count": 63,
     "metadata": {},
     "output_type": "execute_result"
    }
   ],
   "source": [
    "pd.unique(booklist[0]['chnum'])"
   ]
  },
  {
   "cell_type": "code",
   "execution_count": 64,
   "metadata": {
    "collapsed": false,
    "deletable": true,
    "editable": true
   },
   "outputs": [
    {
     "data": {
      "text/plain": [
       "31102"
      ]
     },
     "execution_count": 64,
     "metadata": {},
     "output_type": "execute_result"
    }
   ],
   "source": [
    "len(tweb)"
   ]
  },
  {
   "cell_type": "markdown",
   "metadata": {
    "deletable": true,
    "editable": true
   },
   "source": [
    "### A more functional approach to getting counts of verses in each chapter\n",
    "#### Using chaptercounts calculated prior as an counter reset to loop through verses for chapters creating a matrix of verse counts for each chapter in each book"
   ]
  },
  {
   "cell_type": "code",
   "execution_count": 65,
   "metadata": {
    "collapsed": false,
    "deletable": true,
    "editable": true
   },
   "outputs": [],
   "source": [
    "versecountlist = []\n",
    "pos = 0\n",
    "for i in df.chaptercount:\n",
    "    versecounts = []\n",
    "    for j in range(1,i+1):\n",
    "        counter = 0\n",
    "        while tweb.iloc[pos]['chnum'] <= i:\n",
    "            if tweb.iloc[pos]['chnum'] == j:\n",
    "                pos+=1\n",
    "                counter+=1\n",
    "            else: \n",
    "                break\n",
    "            if pos > len(tweb)-1:break\n",
    "        versecounts.append(counter)\n",
    "    versecountlist.append(versecounts)\n",
    "\n",
    "            \n",
    "        "
   ]
  },
  {
   "cell_type": "code",
   "execution_count": 66,
   "metadata": {
    "collapsed": false,
    "deletable": true,
    "editable": true
   },
   "outputs": [],
   "source": [
    "#versecountlist"
   ]
  },
  {
   "cell_type": "markdown",
   "metadata": {
    "deletable": true,
    "editable": true
   },
   "source": [
    "### Concatenating versecount matrix to book dataset"
   ]
  },
  {
   "cell_type": "code",
   "execution_count": 67,
   "metadata": {
    "collapsed": false,
    "deletable": true,
    "editable": true
   },
   "outputs": [
    {
     "data": {
      "text/html": [
       "<div>\n",
       "<table border=\"1\" class=\"dataframe\">\n",
       "  <thead>\n",
       "    <tr style=\"text-align: right;\">\n",
       "      <th></th>\n",
       "      <th>bookname</th>\n",
       "      <th>wordcount</th>\n",
       "      <th>chaptercount</th>\n",
       "      <th>versecounts</th>\n",
       "    </tr>\n",
       "  </thead>\n",
       "  <tbody>\n",
       "    <tr>\n",
       "      <th>0</th>\n",
       "      <td>Genesis</td>\n",
       "      <td>36816</td>\n",
       "      <td>50</td>\n",
       "      <td>[31, 25, 24, 26, 32, 22, 24, 22, 29, 32, 32, 2...</td>\n",
       "    </tr>\n",
       "    <tr>\n",
       "      <th>1</th>\n",
       "      <td>Exodus</td>\n",
       "      <td>31236</td>\n",
       "      <td>40</td>\n",
       "      <td>[22, 25, 22, 31, 23, 30, 25, 32, 35, 29, 10, 5...</td>\n",
       "    </tr>\n",
       "    <tr>\n",
       "      <th>2</th>\n",
       "      <td>Leviticus</td>\n",
       "      <td>23547</td>\n",
       "      <td>27</td>\n",
       "      <td>[17, 16, 17, 35, 19, 30, 38, 36, 24, 20, 47, 8...</td>\n",
       "    </tr>\n",
       "    <tr>\n",
       "      <th>3</th>\n",
       "      <td>Numbers</td>\n",
       "      <td>31547</td>\n",
       "      <td>36</td>\n",
       "      <td>[54, 34, 51, 49, 31, 27, 89, 26, 23, 36, 35, 1...</td>\n",
       "    </tr>\n",
       "    <tr>\n",
       "      <th>4</th>\n",
       "      <td>Deuteronomy</td>\n",
       "      <td>27818</td>\n",
       "      <td>34</td>\n",
       "      <td>[46, 37, 29, 49, 33, 25, 26, 20, 29, 22, 32, 3...</td>\n",
       "    </tr>\n",
       "  </tbody>\n",
       "</table>\n",
       "</div>"
      ],
      "text/plain": [
       "      bookname  wordcount  chaptercount  \\\n",
       "0      Genesis      36816            50   \n",
       "1       Exodus      31236            40   \n",
       "2    Leviticus      23547            27   \n",
       "3      Numbers      31547            36   \n",
       "4  Deuteronomy      27818            34   \n",
       "\n",
       "                                         versecounts  \n",
       "0  [31, 25, 24, 26, 32, 22, 24, 22, 29, 32, 32, 2...  \n",
       "1  [22, 25, 22, 31, 23, 30, 25, 32, 35, 29, 10, 5...  \n",
       "2  [17, 16, 17, 35, 19, 30, 38, 36, 24, 20, 47, 8...  \n",
       "3  [54, 34, 51, 49, 31, 27, 89, 26, 23, 36, 35, 1...  \n",
       "4  [46, 37, 29, 49, 33, 25, 26, 20, 29, 22, 32, 3...  "
      ]
     },
     "execution_count": 67,
     "metadata": {},
     "output_type": "execute_result"
    }
   ],
   "source": [
    "#booklist[1][booklist[1]['field.2_x'] == 2]\n",
    "df['versecounts'] = versecountlist\n",
    "df.head()\n"
   ]
  },
  {
   "cell_type": "code",
   "execution_count": 68,
   "metadata": {
    "collapsed": false,
    "deletable": true,
    "editable": true
   },
   "outputs": [
    {
     "data": {
      "text/plain": [
       "numpy.int64"
      ]
     },
     "execution_count": 68,
     "metadata": {},
     "output_type": "execute_result"
    }
   ],
   "source": [
    "test1 = pd.DataFrame(df.iloc[0]['versecounts']).reset_index()\n",
    "type(test1[0][0])"
   ]
  },
  {
   "cell_type": "markdown",
   "metadata": {
    "deletable": true,
    "editable": true
   },
   "source": [
    "### Plotting word counts by book"
   ]
  },
  {
   "cell_type": "code",
   "execution_count": 69,
   "metadata": {
    "collapsed": false,
    "deletable": true,
    "editable": true
   },
   "outputs": [
    {
     "name": "stderr",
     "output_type": "stream",
     "text": [
      "/usr/lib/python3.6/site-packages/matplotlib/font_manager.py:1297: UserWarning: findfont: Font family ['sans-serif'] not found. Falling back to DejaVu Sans\n",
      "  (prop.get_family(), self.defaultFamily[fontext]))\n"
     ]
    },
    {
     "data": {
      "image/png": "[encoded data removed]",
      "text/plain": [
       "<matplotlib.figure.Figure at 0x7f0745b73080>"
      ]
     },
     "metadata": {},
     "output_type": "display_data"
    }
   ],
   "source": [
    "plt.figure(figsize=(20,10))\n",
    "plt.xticks(rotation=75)\n",
    "fig = sns.barplot(y='wordcount', x='bookname', data=df)"
   ]
  },
  {
   "cell_type": "markdown",
   "metadata": {
    "deletable": true,
    "editable": true
   },
   "source": [
    "### Plotting chapter counts by book"
   ]
  },
  {
   "cell_type": "code",
   "execution_count": 70,
   "metadata": {
    "collapsed": false,
    "deletable": true,
    "editable": true
   },
   "outputs": [
    {
     "name": "stderr",
     "output_type": "stream",
     "text": [
      "/usr/lib/python3.6/site-packages/matplotlib/font_manager.py:1297: UserWarning: findfont: Font family ['sans-serif'] not found. Falling back to DejaVu Sans\n",
      "  (prop.get_family(), self.defaultFamily[fontext]))\n"
     ]
    },
    {
     "data": {
      "image/png": "[encoded data removed]",
      "text/plain": [
       "<matplotlib.figure.Figure at 0x7f0745b34710>"
      ]
     },
     "metadata": {},
     "output_type": "display_data"
    }
   ],
   "source": [
    "plt.figure(figsize=(20,10))\n",
    "plt.xticks(rotation=75)\n",
    "fig = sns.barplot(y='chaptercount', x='bookname', data=df)"
   ]
  },
  {
   "cell_type": "code",
   "execution_count": 71,
   "metadata": {
    "collapsed": false,
    "deletable": true,
    "editable": true
   },
   "outputs": [
    {
     "data": {
      "text/plain": [
       "\"\\nfor k in range(len(df)):\\n    chpos = 0\\n    fig,ax =  plt.subplots(int(math.sqrt(int(df.iloc[k]['chaptercount'])))+1,int(math.sqrt(int(df.iloc[k]['chaptercount'])))+1, sharex='col', sharey='row', figsize=(20,10))\\n    for i in range(int(math.sqrt(int(df.iloc[k]['chaptercount'])))):\\n        for j in range(int(math.sqrt(int(df.iloc[k]['chaptercount'])))):\\n        #for j in range(int(df.iloc[k]['chaptercount']/5)):\\n            #print(int(str(i)+str(j))+1)\\n            if chpos <= df.iloc[k]['chaptercount']: \\n                ax[i, j].bar(df.iloc[k]['chaptercount'], df.iloc[k]['versecounts'][chpos])\\n                chpos+=1\\n                #ax[i, j].bar(df.iloc[k]['chaptercount'], df.iloc[k]['versecounts'][int(str(i)+str(j))])\\n\""
      ]
     },
     "execution_count": 71,
     "metadata": {},
     "output_type": "execute_result"
    }
   ],
   "source": [
    "#for i in len(df):\n",
    "#fig = plt.figure()\n",
    "#fig.subplots_adjust(hspace=0.4, wspace=0.4)\n",
    "#plotlist = []\n",
    "#for i in range(1,df.iloc[0]['chaptercount']+1):\n",
    "    #plotlist.append(fig.add_subplot(5,df.iloc[0]['chaptercount']/5,i))\n",
    "    #plotlist[i-1].plot(df.iloc[0]['versecounts'][i-1])\n",
    "\n",
    "'''\n",
    "for k in range(len(df)):\n",
    "    chpos = 0\n",
    "    fig,ax =  plt.subplots(int(math.sqrt(int(df.iloc[k]['chaptercount'])))+1,int(math.sqrt(int(df.iloc[k]['chaptercount'])))+1, sharex='col', sharey='row', figsize=(20,10))\n",
    "    for i in range(int(math.sqrt(int(df.iloc[k]['chaptercount'])))):\n",
    "        for j in range(int(math.sqrt(int(df.iloc[k]['chaptercount'])))):\n",
    "        #for j in range(int(df.iloc[k]['chaptercount']/5)):\n",
    "            #print(int(str(i)+str(j))+1)\n",
    "            if chpos <= df.iloc[k]['chaptercount']: \n",
    "                ax[i, j].bar(df.iloc[k]['chaptercount'], df.iloc[k]['versecounts'][chpos])\n",
    "                chpos+=1\n",
    "                #ax[i, j].bar(df.iloc[k]['chaptercount'], df.iloc[k]['versecounts'][int(str(i)+str(j))])\n",
    "'''"
   ]
  },
  {
   "cell_type": "code",
   "execution_count": 72,
   "metadata": {
    "collapsed": false,
    "deletable": true,
    "editable": true
   },
   "outputs": [
    {
     "data": {
      "text/html": [
       "<div>\n",
       "<table border=\"1\" class=\"dataframe\">\n",
       "  <thead>\n",
       "    <tr style=\"text-align: right;\">\n",
       "      <th></th>\n",
       "      <th>bookname</th>\n",
       "      <th>wordcount</th>\n",
       "      <th>chaptercount</th>\n",
       "      <th>versecounts</th>\n",
       "    </tr>\n",
       "  </thead>\n",
       "  <tbody>\n",
       "    <tr>\n",
       "      <th>0</th>\n",
       "      <td>Genesis</td>\n",
       "      <td>36816</td>\n",
       "      <td>50</td>\n",
       "      <td>[31, 25, 24, 26, 32, 22, 24, 22, 29, 32, 32, 2...</td>\n",
       "    </tr>\n",
       "    <tr>\n",
       "      <th>1</th>\n",
       "      <td>Exodus</td>\n",
       "      <td>31236</td>\n",
       "      <td>40</td>\n",
       "      <td>[22, 25, 22, 31, 23, 30, 25, 32, 35, 29, 10, 5...</td>\n",
       "    </tr>\n",
       "    <tr>\n",
       "      <th>2</th>\n",
       "      <td>Leviticus</td>\n",
       "      <td>23547</td>\n",
       "      <td>27</td>\n",
       "      <td>[17, 16, 17, 35, 19, 30, 38, 36, 24, 20, 47, 8...</td>\n",
       "    </tr>\n",
       "    <tr>\n",
       "      <th>3</th>\n",
       "      <td>Numbers</td>\n",
       "      <td>31547</td>\n",
       "      <td>36</td>\n",
       "      <td>[54, 34, 51, 49, 31, 27, 89, 26, 23, 36, 35, 1...</td>\n",
       "    </tr>\n",
       "    <tr>\n",
       "      <th>4</th>\n",
       "      <td>Deuteronomy</td>\n",
       "      <td>27818</td>\n",
       "      <td>34</td>\n",
       "      <td>[46, 37, 29, 49, 33, 25, 26, 20, 29, 22, 32, 3...</td>\n",
       "    </tr>\n",
       "  </tbody>\n",
       "</table>\n",
       "</div>"
      ],
      "text/plain": [
       "      bookname  wordcount  chaptercount  \\\n",
       "0      Genesis      36816            50   \n",
       "1       Exodus      31236            40   \n",
       "2    Leviticus      23547            27   \n",
       "3      Numbers      31547            36   \n",
       "4  Deuteronomy      27818            34   \n",
       "\n",
       "                                         versecounts  \n",
       "0  [31, 25, 24, 26, 32, 22, 24, 22, 29, 32, 32, 2...  \n",
       "1  [22, 25, 22, 31, 23, 30, 25, 32, 35, 29, 10, 5...  \n",
       "2  [17, 16, 17, 35, 19, 30, 38, 36, 24, 20, 47, 8...  \n",
       "3  [54, 34, 51, 49, 31, 27, 89, 26, 23, 36, 35, 1...  \n",
       "4  [46, 37, 29, 49, 33, 25, 26, 20, 29, 22, 32, 3...  "
      ]
     },
     "execution_count": 72,
     "metadata": {},
     "output_type": "execute_result"
    }
   ],
   "source": [
    "df.head()"
   ]
  },
  {
   "cell_type": "code",
   "execution_count": 73,
   "metadata": {
    "collapsed": false,
    "deletable": true,
    "editable": true
   },
   "outputs": [],
   "source": [
    "counter = 0\n",
    "ncol = []\n",
    "for i in range(len(df)):\n",
    "    mat = []\n",
    "    for j in range(len(df.iloc[i]['versecounts'])):\n",
    "        lists = []\n",
    "        for k in range(df.iloc[i]['versecounts'][j]):\n",
    "            lists.append(tweb.iloc[counter]['id'])\n",
    "            counter+=1\n",
    "        mat.append(lists)\n",
    "    ncol.append(mat)\n",
    "            "
   ]
  },
  {
   "cell_type": "code",
   "execution_count": 74,
   "metadata": {
    "collapsed": false,
    "deletable": true,
    "editable": true
   },
   "outputs": [],
   "source": [
    "df['verseidmatrix'] = ncol"
   ]
  },
  {
   "cell_type": "code",
   "execution_count": 75,
   "metadata": {
    "collapsed": false,
    "deletable": true,
    "editable": true
   },
   "outputs": [
    {
     "data": {
      "text/html": [
       "<div>\n",
       "<table border=\"1\" class=\"dataframe\">\n",
       "  <thead>\n",
       "    <tr style=\"text-align: right;\">\n",
       "      <th></th>\n",
       "      <th>bookname</th>\n",
       "      <th>wordcount</th>\n",
       "      <th>chaptercount</th>\n",
       "      <th>versecounts</th>\n",
       "      <th>verseidmatrix</th>\n",
       "    </tr>\n",
       "  </thead>\n",
       "  <tbody>\n",
       "    <tr>\n",
       "      <th>0</th>\n",
       "      <td>Genesis</td>\n",
       "      <td>36816</td>\n",
       "      <td>50</td>\n",
       "      <td>[31, 25, 24, 26, 32, 22, 24, 22, 29, 32, 32, 2...</td>\n",
       "      <td>[[1001001, 1001002, 1001003, 1001004, 1001005,...</td>\n",
       "    </tr>\n",
       "    <tr>\n",
       "      <th>1</th>\n",
       "      <td>Exodus</td>\n",
       "      <td>31236</td>\n",
       "      <td>40</td>\n",
       "      <td>[22, 25, 22, 31, 23, 30, 25, 32, 35, 29, 10, 5...</td>\n",
       "      <td>[[2001001, 2001002, 2001003, 2001004, 2001005,...</td>\n",
       "    </tr>\n",
       "    <tr>\n",
       "      <th>2</th>\n",
       "      <td>Leviticus</td>\n",
       "      <td>23547</td>\n",
       "      <td>27</td>\n",
       "      <td>[17, 16, 17, 35, 19, 30, 38, 36, 24, 20, 47, 8...</td>\n",
       "      <td>[[3001001, 3001002, 3001003, 3001004, 3001005,...</td>\n",
       "    </tr>\n",
       "    <tr>\n",
       "      <th>3</th>\n",
       "      <td>Numbers</td>\n",
       "      <td>31547</td>\n",
       "      <td>36</td>\n",
       "      <td>[54, 34, 51, 49, 31, 27, 89, 26, 23, 36, 35, 1...</td>\n",
       "      <td>[[4001001, 4001002, 4001003, 4001004, 4001005,...</td>\n",
       "    </tr>\n",
       "    <tr>\n",
       "      <th>4</th>\n",
       "      <td>Deuteronomy</td>\n",
       "      <td>27818</td>\n",
       "      <td>34</td>\n",
       "      <td>[46, 37, 29, 49, 33, 25, 26, 20, 29, 22, 32, 3...</td>\n",
       "      <td>[[5001001, 5001002, 5001003, 5001004, 5001005,...</td>\n",
       "    </tr>\n",
       "  </tbody>\n",
       "</table>\n",
       "</div>"
      ],
      "text/plain": [
       "      bookname  wordcount  chaptercount  \\\n",
       "0      Genesis      36816            50   \n",
       "1       Exodus      31236            40   \n",
       "2    Leviticus      23547            27   \n",
       "3      Numbers      31547            36   \n",
       "4  Deuteronomy      27818            34   \n",
       "\n",
       "                                         versecounts  \\\n",
       "0  [31, 25, 24, 26, 32, 22, 24, 22, 29, 32, 32, 2...   \n",
       "1  [22, 25, 22, 31, 23, 30, 25, 32, 35, 29, 10, 5...   \n",
       "2  [17, 16, 17, 35, 19, 30, 38, 36, 24, 20, 47, 8...   \n",
       "3  [54, 34, 51, 49, 31, 27, 89, 26, 23, 36, 35, 1...   \n",
       "4  [46, 37, 29, 49, 33, 25, 26, 20, 29, 22, 32, 3...   \n",
       "\n",
       "                                       verseidmatrix  \n",
       "0  [[1001001, 1001002, 1001003, 1001004, 1001005,...  \n",
       "1  [[2001001, 2001002, 2001003, 2001004, 2001005,...  \n",
       "2  [[3001001, 3001002, 3001003, 3001004, 3001005,...  \n",
       "3  [[4001001, 4001002, 4001003, 4001004, 4001005,...  \n",
       "4  [[5001001, 5001002, 5001003, 5001004, 5001005,...  "
      ]
     },
     "execution_count": 75,
     "metadata": {},
     "output_type": "execute_result"
    }
   ],
   "source": [
    "df.head()"
   ]
  },
  {
   "cell_type": "code",
   "execution_count": 76,
   "metadata": {
    "collapsed": true,
    "deletable": true,
    "editable": true
   },
   "outputs": [],
   "source": [
    "df.to_csv('bookwordcount.tsv',sep='\\t')"
   ]
  },
  {
   "cell_type": "code",
   "execution_count": null,
   "metadata": {
    "collapsed": false,
    "deletable": true,
    "editable": true
   },
   "outputs": [],
   "source": []
  },
  {
   "cell_type": "code",
   "execution_count": null,
   "metadata": {
    "collapsed": true,
    "deletable": true,
    "editable": true
   },
   "outputs": [],
   "source": []
  }
 ],
 "metadata": {
  "kernelspec": {
   "display_name": "Python 3",
   "language": "python",
   "name": "python3"
  },
  "language_info": {
   "codemirror_mode": {
    "name": "ipython",
    "version": 3
   },
   "file_extension": ".py",
   "mimetype": "text/x-python",
   "name": "python",
   "nbconvert_exporter": "python",
   "pygments_lexer": "ipython3",
   "version": "3.6.5"
  }
 },
 "nbformat": 4,
 "nbformat_minor": 2
}
